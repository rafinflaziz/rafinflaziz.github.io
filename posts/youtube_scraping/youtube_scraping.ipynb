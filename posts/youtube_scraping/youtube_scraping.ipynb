{
 "cells": [
  {
   "cell_type": "raw",
   "id": "f2d2e8d6",
   "metadata": {},
   "source": [
    "---\n",
    "title: \"Top 100 Most Subscribed Indonesian Youtubers: Data Scraping\"\n",
    "author: \"Rafi Naufal Aziz\"\n",
    "toc: true\n",
    "date: \"2023-10-26\"\n",
    "execute:\n",
    "  echo: true\n",
    "notebook-links: global\n",
    "categories: [project, scraping, cleaning]\n",
    "format:\n",
    "  html:\n",
    "    code-fold: true\n",
    "    code-tools: true\n",
    "    highlight-style: atom-one\n",
    "  ipynb: default\n",
    "jupyter: python3\n",
    "---"
   ]
  },
  {
   "cell_type": "markdown",
   "id": "4058a037",
   "metadata": {},
   "source": [
    "# Background"
   ]
  },
  {
   "cell_type": "markdown",
   "id": "8b22725c",
   "metadata": {},
   "source": [
    "YouTube has become one of the largest platforms in the world. In Indonesia itself, YouTube ranks second on the list of the most visited sites. With such a large audience, YouTube provides a huge opportunity for anyone looking to pursue a career in content creation. \n",
    "\n",
    "Certainly, there will be many considerations to be faced before creating a content. Understanding trends and audience preferences is crucial, especially on a highly dynamic platform like YouTube.\n",
    "\n",
    "Therefore, I will attempt to analyze data from the top 100 YouTubers in Indonesia with the most subscribers. With this analysis, I hope we can gain insights into what kind of contents are trending in Indonesia and identify what creators can do to enhance their channel's potential.\n",
    "\n",
    "This project is divided into two parts. The first part involves data collection (scraping) and data cleaning, while the second part involves data visualization and analysis. The analysis part can be viewed [here](/posts/youtube_analysis/youtube_analysis.html)."
   ]
  },
  {
   "cell_type": "markdown",
   "id": "77956ad0",
   "metadata": {},
   "source": [
    "::: {.callout-caution}\n",
    "You might get different result when you run all the code in this article. This happens because the data source will be changed (or rather, updated) frequently.\n",
    ":::"
   ]
  },
  {
   "cell_type": "markdown",
   "id": "922026ea",
   "metadata": {},
   "source": [
    "# Data Source"
   ]
  },
  {
   "cell_type": "markdown",
   "id": "5e26c5eb",
   "metadata": {},
   "source": [
    "## Where and how to collect the data?"
   ]
  },
  {
   "cell_type": "markdown",
   "id": "e6348284",
   "metadata": {},
   "source": [
    "To obtain the data, I could have used the YouTube API. However, due to resource limitations, I ended up using data scraping technique on [SocialBlade](https://socialblade.com/youtube/top/country/id/mostsubscribed) website to collect the data."
   ]
  },
  {
   "cell_type": "markdown",
   "id": "9b76df71",
   "metadata": {},
   "source": [
    "![](sb.png)"
   ]
  },
  {
   "cell_type": "markdown",
   "id": "856d43c1",
   "metadata": {},
   "source": [
    "::: {.callout-important}\n",
    "Although all of these data are available publicly and can be accessed by anyone, I don't recommend to do the scraping by yourself, as it is against their [terms of service](https://socialblade.com/info/terms).\n",
    ":::"
   ]
  },
  {
   "cell_type": "markdown",
   "id": "91bd71e7",
   "metadata": {},
   "source": [
    "## What data are we looking for?"
   ]
  },
  {
   "cell_type": "markdown",
   "id": "558303d4",
   "metadata": {},
   "source": [
    "We can gather many kinds of data from this website. However, we will only focus on a few primary pieces of information:\n",
    "\n",
    "- Name: The channel's name\n",
    "- Upload count: The number of uploaded content\n",
    "- Subscribers: The number of subscribers\n",
    "- Views: Total views from all uploaded videos\n",
    "- Tag: The main category of the channel\n",
    "- Date created: The channel's creation date\n",
    "- Monthly views gained: Number of views gained each month\n",
    "- Monthly subs gained: Number of subscribers gained each month\n",
    "\n",
    "These information are present in each of the channel's page from the earlier top 100 list. For example, this one below is from [Jess No Limit's](https://socialblade.com/youtube/channel/UCvh1at6xpV1ytYOAzxmqUsA) page.\n",
    "\n",
    "![](jess.png)\n",
    "\n",
    "![](jess2.png)"
   ]
  },
  {
   "cell_type": "markdown",
   "id": "e64652bd",
   "metadata": {},
   "source": [
    "Before we start, let's import some packages"
   ]
  },
  {
   "cell_type": "code",
   "execution_count": 161,
   "id": "6a309dca",
   "metadata": {
    "ExecuteTime": {
     "end_time": "2023-11-28T12:08:20.001763Z",
     "start_time": "2023-11-28T12:08:19.985096Z"
    }
   },
   "outputs": [],
   "source": [
    "#| echo: true\n",
    "import json\n",
    "import re\n",
    "from urllib.request import Request, urlopen\n",
    "from bs4 import BeautifulSoup as bs\n",
    "import pandas as pd\n",
    "import time\n",
    "from dateutil.parser import parse"
   ]
  },
  {
   "cell_type": "markdown",
   "id": "f8689537",
   "metadata": {},
   "source": [
    "Now let's begin!"
   ]
  },
  {
   "cell_type": "markdown",
   "id": "616ad41b",
   "metadata": {},
   "source": [
    "# Data Scraping"
   ]
  },
  {
   "cell_type": "markdown",
   "id": "30c30a33",
   "metadata": {},
   "source": [
    "## Navigate the top 100 list"
   ]
  },
  {
   "cell_type": "markdown",
   "id": "ce160bc6",
   "metadata": {},
   "source": [
    "First, we will navigate to the main page containing the top 100 most subscribed Indonesian channels. In Python, we can do this by sending a request to the URL using `urllib.request` package."
   ]
  },
  {
   "cell_type": "code",
   "execution_count": 106,
   "id": "fafdb2b9",
   "metadata": {
    "ExecuteTime": {
     "end_time": "2023-11-28T06:35:29.249461Z",
     "start_time": "2023-11-28T06:35:28.122474Z"
    }
   },
   "outputs": [],
   "source": [
    "#| echo: true\n",
    "url = 'https://socialblade.com/youtube/top/country/id/mostsubscribed'\n",
    "\n",
    "# optional, might be needed in some cases\n",
    "headers = {\n",
    "    'User-Agent': 'Mozilla/5.0 (Windows NT 10.0; Win64; x64) AppleWebKit/537.36 (KHTML, like Gecko) Chrome/119.0.0.0 Safari/537.36'}\n",
    "\n",
    "req = Request(url, headers=headers)\n",
    "response = urlopen(req)"
   ]
  },
  {
   "cell_type": "markdown",
   "id": "7d2d7eeb",
   "metadata": {},
   "source": [
    "Let's see if our request was successful (status code 200). If it succeed, we will create a `soup` variable, which contains the entire HTML for the URL."
   ]
  },
  {
   "cell_type": "code",
   "execution_count": 107,
   "id": "2f8c65ac",
   "metadata": {
    "ExecuteTime": {
     "end_time": "2023-11-28T06:35:30.455090Z",
     "start_time": "2023-11-28T06:35:29.836994Z"
    }
   },
   "outputs": [
    {
     "name": "stdout",
     "output_type": "stream",
     "text": [
      "Request success!\n"
     ]
    }
   ],
   "source": [
    "#| echo: true\n",
    "if response.getcode() == 200:\n",
    "    # parse the HTML content of the page\n",
    "    soup = bs(response.read(), 'html.parser')\n",
    "    print('Request success!')\n",
    "\n",
    "else:\n",
    "    print(f\"Failed to retrieve the page. Status code: {response.getcode()}\")"
   ]
  },
  {
   "cell_type": "markdown",
   "id": "ea3a1693",
   "metadata": {},
   "source": [
    "Great, we are in! Now, let's navigate the information page of each channel on this list. To do that, we need to get the url of each channel's page."
   ]
  },
  {
   "cell_type": "markdown",
   "id": "8571211b",
   "metadata": {},
   "source": [
    "## Get each channel's information page URL"
   ]
  },
  {
   "cell_type": "markdown",
   "id": "4e5f3636",
   "metadata": {},
   "source": [
    "To get the URL of each channel's page, we need to know where is it located in the HTML. Apparently, the URL is located in as a `href` attribute of an `<a>` element inside `<div>` container with attributes `style=\"float: left; width: 350px; line-height: 25px;\"`. For example, see the image below. It shows the URL for Jess No Limit's channel.\n",
    "\n",
    "![](url.png)"
   ]
  },
  {
   "cell_type": "markdown",
   "id": "651e0336",
   "metadata": {},
   "source": [
    "We can retrieve that information easily using `BeautifulSoup`."
   ]
  },
  {
   "cell_type": "code",
   "execution_count": 108,
   "id": "e235cc1b",
   "metadata": {
    "ExecuteTime": {
     "end_time": "2023-11-28T06:35:40.245049Z",
     "start_time": "2023-11-28T06:35:40.223752Z"
    }
   },
   "outputs": [
    {
     "name": "stdout",
     "output_type": "stream",
     "text": [
      "examples: ['/youtube/channel/UCvh1at6xpV1ytYOAzxmqUsA', '/youtube/channel/UC4tS4Q_Cno5JVcIUXxQOOpA', '/youtube/channel/UC4hGmH5sABOA70D4fGb8qNQ']\n"
     ]
    }
   ],
   "source": [
    "#| echo: true\n",
    "# get every div containers that have a specific style attribute\n",
    "divs_with_style = soup.find_all(\n",
    "    'div', style=\"float: left; width: 350px; line-height: 25px;\")\n",
    "\n",
    "# to get each channel's url ID,\n",
    "# extract value of 'href' attribute in every <a> element inside each div\n",
    "channel_urls = [div.find('a')['href'] for div in divs_with_style]\n",
    "\n",
    "# print some example\n",
    "print('examples:', channel_urls[:3])"
   ]
  },
  {
   "cell_type": "markdown",
   "id": "6fe3bffc",
   "metadata": {},
   "source": [
    "## Navigate information page of each channel"
   ]
  },
  {
   "cell_type": "markdown",
   "id": "64151a53",
   "metadata": {},
   "source": [
    "Having acquired the URL for each channel's information page, we can access it using a similar procedure to the previous one. For example, here is how you would access the information page for Jess No Limit's channel."
   ]
  },
  {
   "cell_type": "code",
   "execution_count": 109,
   "id": "7ad8dd35",
   "metadata": {
    "ExecuteTime": {
     "end_time": "2023-11-28T06:35:50.203220Z",
     "start_time": "2023-11-28T06:35:49.389045Z"
    }
   },
   "outputs": [
    {
     "name": "stdout",
     "output_type": "stream",
     "text": [
      "Request success!\n"
     ]
    }
   ],
   "source": [
    "#| echo: true\n",
    "channel_url = 'https://socialblade.com' + '/youtube/channel/UCvh1at6xpV1ytYOAzxmqUsA'\n",
    "\n",
    "# optional, might be needed in some cases\n",
    "headers = {\n",
    "    'User-Agent': 'Mozilla/5.0 (Windows NT 10.0; Win64; x64) AppleWebKit/537.36 (KHTML, like Gecko) Chrome/119.0.0.0 Safari/537.36'}\n",
    "\n",
    "req = Request(channel_url, headers=headers)\n",
    "response = urlopen(req)\n",
    "\n",
    "#| echo: true\n",
    "if response.getcode() == 200:\n",
    "    # parse the HTML content of the page\n",
    "    soup = bs(response.read(), 'html.parser')\n",
    "    print('Request success!')\n",
    "\n",
    "else:\n",
    "    print(f\"Failed to retrieve the page. Status code: {response.getcode()}\")"
   ]
  },
  {
   "cell_type": "markdown",
   "id": "9096a797",
   "metadata": {},
   "source": [
    "## Get the data"
   ]
  },
  {
   "cell_type": "markdown",
   "id": "4b66f241",
   "metadata": {},
   "source": [
    "I will divide this section into two parts, basic data and time series data. The reason is that their structure is different: \n",
    "\n",
    "- Channel's basic data are one-to-one, meaning that one channel only has one combination of basic data (name, subs, views, etc) \n",
    "- Channel's time series data are one-to-many, meaning that one channel has multiple monthly information."
   ]
  },
  {
   "cell_type": "markdown",
   "id": "e73d3e4f",
   "metadata": {},
   "source": [
    "### Basic data"
   ]
  },
  {
   "cell_type": "markdown",
   "id": "c0ef4d9e",
   "metadata": {},
   "source": [
    "#### Name"
   ]
  },
  {
   "cell_type": "markdown",
   "id": "1b68515a",
   "metadata": {},
   "source": [
    "For name information, it is located in a `<h1>` element with style `float: left; font-size: 1.4em; font-weight: bold; color:#333; margin: 0px; padding: 0px; margin-right: 5px;`. For example, see the image below. It shows the name of Jess No Limit's channel.\n",
    "\n",
    "![](jessname.png)"
   ]
  },
  {
   "cell_type": "markdown",
   "id": "096aee1d",
   "metadata": {},
   "source": [
    "We can retrieve that information like we did before using `BeautifulSoup`."
   ]
  },
  {
   "cell_type": "code",
   "execution_count": 111,
   "id": "de854efb",
   "metadata": {
    "ExecuteTime": {
     "end_time": "2023-11-28T06:36:13.382523Z",
     "start_time": "2023-11-28T06:36:13.367016Z"
    },
    "scrolled": true
   },
   "outputs": [
    {
     "name": "stdout",
     "output_type": "stream",
     "text": [
      "the name of the channel is Jess No Limit.\n"
     ]
    }
   ],
   "source": [
    "# | echo: true\n",
    "# get first <h1> element that have a specific style attribute\n",
    "name = soup.find(\n",
    "    'h1', style=\"float: left; font-size: 1.4em; font-weight: bold; color:#333; margin: 0px; padding: 0px; margin-right: 5px;\")\n",
    "\n",
    "# strip to remove additional spaces\n",
    "name = name.text.strip()\n",
    "\n",
    "# print name result\n",
    "print(f'the name of the channel is {name}.')"
   ]
  },
  {
   "cell_type": "markdown",
   "id": "78e3bfb6",
   "metadata": {},
   "source": [
    "#### Uploads, subs, views, tag, and date"
   ]
  },
  {
   "cell_type": "markdown",
   "id": "5fdab664",
   "metadata": {},
   "source": [
    "For other basic information, it is located in a `<span>` element with style `font-weight: bold;`. In addition to that, we have to make sure that we don't collect country information, because we already know all channels that we are going to visit are from Indonesia. Again, as an example, see the image below.\n",
    "\n",
    "![](jessother.png)"
   ]
  },
  {
   "cell_type": "markdown",
   "id": "4972f515",
   "metadata": {},
   "source": [
    "Using similar procedure like before, it yields all the basic data that we need."
   ]
  },
  {
   "cell_type": "code",
   "execution_count": 112,
   "id": "dae74fb9",
   "metadata": {
    "ExecuteTime": {
     "end_time": "2023-11-28T06:36:28.814412Z",
     "start_time": "2023-11-28T06:36:28.799271Z"
    }
   },
   "outputs": [
    {
     "name": "stdout",
     "output_type": "stream",
     "text": [
      "Basic data about this channel: ['Jess No Limit', '2,575', '42.8M', '5,347,533,136', 'Entertainment', 'Sep 7th, 2017'].\n"
     ]
    }
   ],
   "source": [
    "# | echo: true\n",
    "# get first <h1> element that have a specific style attribute\n",
    "name = soup.find(\n",
    "    'h1', style=\"float: left; font-size: 1.4em; font-weight: bold; color:#333; margin: 0px; padding: 0px; margin-right: 5px;\")\n",
    "\n",
    "# strip to remove additional spaces\n",
    "name = name.text.strip()\n",
    "\n",
    "# get all <span> elements that have a specific style attribute\n",
    "spans_with_style = soup.find_all('span', style=\"font-weight: bold;\")\n",
    "result_basic = [name] + [span.text for span in spans_with_style if span.text != 'ID']\n",
    "\n",
    "# print name result\n",
    "print(f'Basic data about this channel: {result_basic}.')"
   ]
  },
  {
   "cell_type": "markdown",
   "id": "bf55f73f",
   "metadata": {},
   "source": [
    "### Time series data"
   ]
  },
  {
   "cell_type": "markdown",
   "id": "acca56eb",
   "metadata": {},
   "source": [
    "Now for time series data, it's a bit trickier. Since the monthly chart is interactive, we need to hover to a point to see the number of subs (or views) gained at that point. This means that the moment we enter this page, the number isn't shown up anywhere. Therefore, we should be looking for the time series data somewhere in the script that's linked to that chart.\n",
    "\n",
    "For example, here's what the time series data looks like Jess No Limit's page.\n",
    "\n",
    "![](jessmonthly.png)"
   ]
  },
  {
   "cell_type": "markdown",
   "id": "79b09206",
   "metadata": {},
   "source": [
    "As we can see, it contains a list of list, which each inner list consists of two elements: first one for ID and second one for the actual data (in above example, subscribers gained). So how do we find that data using our program? \n",
    "\n",
    "First we will find all of the `<script>` element. Let's see what it looks like."
   ]
  },
  {
   "cell_type": "code",
   "execution_count": 131,
   "id": "893a414a",
   "metadata": {
    "ExecuteTime": {
     "end_time": "2023-11-28T06:57:27.026894Z",
     "start_time": "2023-11-28T06:57:27.011210Z"
    }
   },
   "outputs": [
    {
     "data": {
      "text/plain": [
       "'script elements (first 200 characters): <script type=\"text/javascript\">var _sf_startpt=(new Date()).getTime()</script><script type=\"text/javascript\">var beforeload = (new Date()).getTime()</script><script src=\"//use.fontawesome.com/64cd5ce7'"
      ]
     },
     "metadata": {},
     "output_type": "display_data"
    }
   ],
   "source": [
    "#| echo: true\n",
    "# find all <script> element\n",
    "script = soup.find_all('script')\n",
    "\n",
    "# merge all found elements to be single text\n",
    "script = ''.join(str(item) for item in teks)\n",
    "\n",
    "print(f'script elements (first 200 characters): {script[:200]}')"
   ]
  },
  {
   "cell_type": "markdown",
   "id": "3de2d6da",
   "metadata": {},
   "source": [
    "Now, in that text, we want to retrieve all part of the text that is in the form of a 2D list (starts with '\\[[' and ends with '\\]]'). Remember that there will be two chunk of text that matches this criteria: one for monthly gained subs and one for monthly gained views."
   ]
  },
  {
   "cell_type": "code",
   "execution_count": 133,
   "id": "08068124",
   "metadata": {
    "ExecuteTime": {
     "end_time": "2023-11-28T07:04:33.401756Z",
     "start_time": "2023-11-28T07:04:33.388557Z"
    }
   },
   "outputs": [
    {
     "name": "stdout",
     "output_type": "stream",
     "text": [
      "subs data: [[1698724800000,1400000],[1696046400000,1500000],[1693454400000,2300000],[1690776000000,4700000],[1688097600000,4500000],[1685505600000,800000],[1682827200000,100000],[1680235200000,100000],[1677560400000,100000],[1675141200000,300000],[1672462800000,700000],[1669784400000,100000],[1667188800000,0],[1664510400000,100000],[1661918400000,100000],[1659240000000,0],[1656561600000,0],[1653969600000,300000],[1651291200000,100000],[1648699200000,100000],[1646024400000,100000],[1643605200000,100000],[1640926800000,200000],[1638248400000,300000],[1635652800000,200000],[1632974400000,100000],[1630382400000,200000],[1627704000000,300000],[1625025600000,300000],[1622433600000,400000],[1619755200000,500000],[1617163200000,400000],[1614488400000,700000],[1612069200000,500000],[1609390800000,400000]]\n",
      "\n",
      "views data: [[1698724800000,-19801666],[1696046400000,411397220],[1693454400000,435506366],[1690776000000,551439344],[1688097600000,386627362],[1685505600000,65763364],[1682827200000,23496055],[1680235200000,24277175],[1677560400000,38229401],[1675141200000,8254410],[1672462800000,66544745],[1669784400000,18234562],[1667188800000,15043919],[1664510400000,32917405],[1661918400000,10335789],[1659240000000,12288453],[1656561600000,25526169],[1653969600000,76262949],[1651291200000,32441094],[1648699200000,32631614],[1646024400000,40522486],[1643605200000,31444275],[1640926800000,52438812],[1638248400000,63853960],[1635652800000,55090234],[1632974400000,44384186],[1630382400000,62924763],[1627704000000,83710454],[1625025600000,59117171],[1622433600000,97490812],[1619755200000,99810016],[1617163200000,23185815],[1614488400000,75239628],[1612069200000,76170914],[1609390800000,76419152]]\n"
     ]
    }
   ],
   "source": [
    "#| echo: true\n",
    "# find all part of text that matches this pattern\n",
    "data = re.findall(r'data:\\s*(\\[\\[.*?\\]\\])', script)\n",
    "\n",
    "# we use json.loads here to convert the text into a list\n",
    "subs_data = json.loads(data[0])\n",
    "views_data = json.loads(data[1])\n",
    "\n",
    "print(f'subs data: {subs}\\n')\n",
    "print(f'views data: {views}')"
   ]
  },
  {
   "cell_type": "markdown",
   "id": "cb6c6305",
   "metadata": {},
   "source": [
    "Next, we will filter the relevant numbers and put them together into a pair of \\[subs, views\\] for each months."
   ]
  },
  {
   "cell_type": "code",
   "execution_count": 134,
   "id": "2dbbd3d6",
   "metadata": {
    "ExecuteTime": {
     "end_time": "2023-11-28T07:06:45.876979Z",
     "start_time": "2023-11-28T07:06:45.858874Z"
    }
   },
   "outputs": [
    {
     "name": "stdout",
     "output_type": "stream",
     "text": [
      "result: [[1400000, -19801666], [1500000, 411397220], [2300000, 435506366], [4700000, 551439344], [4500000, 386627362], [800000, 65763364], [100000, 23496055], [100000, 24277175], [100000, 38229401], [300000, 8254410], [700000, 66544745], [100000, 18234562], [0, 15043919], [100000, 32917405], [100000, 10335789], [0, 12288453], [0, 25526169], [300000, 76262949], [100000, 32441094], [100000, 32631614], [100000, 40522486], [100000, 31444275], [200000, 52438812], [300000, 63853960], [200000, 55090234], [100000, 44384186], [200000, 62924763], [300000, 83710454], [300000, 59117171], [400000, 97490812], [500000, 99810016], [400000, 23185815], [700000, 75239628], [500000, 76170914], [400000, 76419152]]\n"
     ]
    }
   ],
   "source": [
    "#| echo: true\n",
    "# find all part of text that matches this pattern\n",
    "data = re.findall(r'data:\\s*(\\[\\[.*?\\]\\])', script)\n",
    "\n",
    "# we use json.loads here to convert the text into a list\n",
    "subs_data = json.loads(data[0])\n",
    "views_data = json.loads(data[1])\n",
    "\n",
    "result_time_series = []\n",
    "\n",
    "# filter it by grabbing the second value,\n",
    "# and put them together in `result` variable\n",
    "for subs, views in zip(subs_data, views_data):\n",
    "    result_time_series.append([subs[1], views[1]])\n",
    "    \n",
    "print(f'result: {result_time_series}')"
   ]
  },
  {
   "cell_type": "markdown",
   "id": "3288e9ef",
   "metadata": {},
   "source": [
    "So, Jess No Limit gained 1400000 subs and lost 19801666 views in last month (October 2023)."
   ]
  },
  {
   "cell_type": "markdown",
   "id": "2e9da6f6",
   "metadata": {},
   "source": [
    "::: {.callout-note}\n",
    "A channel can lose views count due to some of their videos were deleted by youtube or by themself.\n",
    ":::"
   ]
  },
  {
   "cell_type": "markdown",
   "id": "44fe9ee1",
   "metadata": {},
   "source": [
    "## Putting it all together"
   ]
  },
  {
   "cell_type": "markdown",
   "id": "33b874af",
   "metadata": {},
   "source": [
    "Let's put it all together and make some functions!\n",
    "\n",
    "- `get_channel_data` returns informations from each channels\n",
    "- `get_all_data`basically calls `get_channel_data` on every channels and return all of the informations collected from each of them."
   ]
  },
  {
   "cell_type": "code",
   "execution_count": 145,
   "id": "225d78a4",
   "metadata": {
    "ExecuteTime": {
     "end_time": "2023-11-28T07:34:14.730657Z",
     "start_time": "2023-11-28T07:34:14.712042Z"
    }
   },
   "outputs": [],
   "source": [
    "# | echo: true\n",
    "def get_channel_data(channel_url, headers=None):\n",
    "    channel_url = 'https://socialblade.com' + channel_url\n",
    "    # send a request to the channel URL\n",
    "    req = Request(channel_url, headers=headers)\n",
    "    response = urlopen(req)\n",
    "\n",
    "    # check if the request was successful (status code 200)\n",
    "    if response.getcode() == 200:\n",
    "        soup = bs(response.read(), 'html.parser')\n",
    "\n",
    "        # basic\n",
    "        name = soup.find(\n",
    "            'h1', style=\"float: left; font-size: 1.4em; font-weight: bold; color:#333; margin: 0px; padding: 0px; margin-right: 5px;\")\n",
    "        name = name.text.strip()\n",
    "\n",
    "        spans_with_style = soup.find_all('span', style=\"font-weight: bold;\")\n",
    "        result_basic = [name] + \\\n",
    "                       [span.text for span in spans_with_style if span.text != 'ID']\n",
    "\n",
    "        # time series\n",
    "        script = soup.find_all('script')\n",
    "        script = ''.join(str(item) for item in teks)\n",
    "\n",
    "        data = re.findall(r'data:\\s*(\\[\\[.*?\\]\\])', script)\n",
    "        subs_data = json.loads(data[0])\n",
    "        views_data = json.loads(data[1])\n",
    "\n",
    "        result_time_series = []\n",
    "\n",
    "        for subs, views in zip(subs_data, views_data):\n",
    "            result_time_series.append([subs[1], views[1]])\n",
    "\n",
    "        return result_basic, result_time_series\n",
    "\n",
    "    else:\n",
    "        return(f\"Failed to retrieve the page. Status code: {response.getcode()}\")\n",
    "\n",
    "\n",
    "def get_all_data(url, headers=None):\n",
    "\n",
    "    req = Request(url, headers=headers)\n",
    "    response = urlopen(req)\n",
    "    \n",
    "    if response.getcode() == 200:\n",
    "\n",
    "        soup = bs(response.read(), 'html.parser')\n",
    "        divs_with_style = soup.find_all(\n",
    "            'div', style=\"float: left; width: 350px; line-height: 25px;\")\n",
    "        channel_urls = [div.find('a')['href'] for div in divs_with_style]\n",
    "\n",
    "        # results\n",
    "        result_basic = []\n",
    "        result_time_series = []\n",
    "\n",
    "        for channel_url in channel_urls:\n",
    "            # get result of each channels and append it to the results\n",
    "            channel_result_basic, channel_result_time_series = get_channel_data(\n",
    "                channel_url, headers=headers)\n",
    "\n",
    "            result_basic.append(channel_result_basic)\n",
    "            result_time_series.append(channel_result_time_series)\n",
    "\n",
    "            # (optional) add a sleep to prevent requests sent too fast\n",
    "            time.sleep(0.1)\n",
    "\n",
    "        return result_basic, result_time_series\n",
    "\n",
    "    else:\n",
    "        return(f\"Failed to retrieve the page. Status code: {response.getcode()}\")"
   ]
  },
  {
   "cell_type": "markdown",
   "id": "1265fe7a",
   "metadata": {},
   "source": [
    "You can execute the code below to call the function and store the data in `data_basic` and `data_time_series`."
   ]
  },
  {
   "cell_type": "code",
   "execution_count": 146,
   "id": "0930b5dd",
   "metadata": {
    "ExecuteTime": {
     "end_time": "2023-11-28T07:35:37.995056Z",
     "start_time": "2023-11-28T07:34:16.381416Z"
    }
   },
   "outputs": [],
   "source": [
    "#| echo: true\n",
    "url = 'https://socialblade.com/youtube/top/country/id/mostsubscribed'\n",
    "headers = {\n",
    "    'User-Agent': 'Mozilla/5.0 (Windows NT 10.0; Win64; x64) AppleWebKit/537.36 (KHTML, like Gecko) Chrome/119.0.0.0 Safari/537.36'}\n",
    "\n",
    "data_basic, data_time_series = get_all_data(url, headers)"
   ]
  },
  {
   "cell_type": "markdown",
   "id": "01ca0c5e",
   "metadata": {},
   "source": [
    "# Data Cleaning"
   ]
  },
  {
   "cell_type": "markdown",
   "id": "95be2d4a",
   "metadata": {},
   "source": [
    "## Basic data"
   ]
  },
  {
   "cell_type": "markdown",
   "id": "4cd4f129",
   "metadata": {},
   "source": [
    "### Examine the data"
   ]
  },
  {
   "cell_type": "markdown",
   "id": "97732665",
   "metadata": {},
   "source": [
    "It will be convenient to clean the data before we proceed to analyze it. Let's examine what can we do to make our data cleaner. First, let's create a dataframe and ask: What does the data looks like? Do each column have a proper data type?"
   ]
  },
  {
   "cell_type": "code",
   "execution_count": 149,
   "id": "81dc70d9",
   "metadata": {
    "ExecuteTime": {
     "end_time": "2023-11-28T07:50:45.648811Z",
     "start_time": "2023-11-28T07:50:45.613419Z"
    }
   },
   "outputs": [
    {
     "data": {
      "text/html": [
       "<div>\n",
       "<style scoped>\n",
       "    .dataframe tbody tr th:only-of-type {\n",
       "        vertical-align: middle;\n",
       "    }\n",
       "\n",
       "    .dataframe tbody tr th {\n",
       "        vertical-align: top;\n",
       "    }\n",
       "\n",
       "    .dataframe thead th {\n",
       "        text-align: right;\n",
       "    }\n",
       "</style>\n",
       "<table border=\"1\" class=\"dataframe\">\n",
       "  <thead>\n",
       "    <tr style=\"text-align: right;\">\n",
       "      <th></th>\n",
       "      <th>name</th>\n",
       "      <th>upload_count</th>\n",
       "      <th>subscribers (million)</th>\n",
       "      <th>views</th>\n",
       "      <th>tag</th>\n",
       "      <th>date_created</th>\n",
       "    </tr>\n",
       "  </thead>\n",
       "  <tbody>\n",
       "    <tr>\n",
       "      <th>0</th>\n",
       "      <td>Jess No Limit</td>\n",
       "      <td>2,575</td>\n",
       "      <td>42.8M</td>\n",
       "      <td>5,347,533,136</td>\n",
       "      <td>Entertainment</td>\n",
       "      <td>Sep 7th, 2017</td>\n",
       "    </tr>\n",
       "    <tr>\n",
       "      <th>1</th>\n",
       "      <td>Ricis Official</td>\n",
       "      <td>3,426</td>\n",
       "      <td>40.4M</td>\n",
       "      <td>6,811,702,060</td>\n",
       "      <td>Entertainment</td>\n",
       "      <td>Jan 15th, 2016</td>\n",
       "    </tr>\n",
       "    <tr>\n",
       "      <th>2</th>\n",
       "      <td>Frost Diamond</td>\n",
       "      <td>3,048</td>\n",
       "      <td>34M</td>\n",
       "      <td>8,038,993,217</td>\n",
       "      <td>Games</td>\n",
       "      <td>Jan 22nd, 2014</td>\n",
       "    </tr>\n",
       "    <tr>\n",
       "      <th>3</th>\n",
       "      <td>AH</td>\n",
       "      <td>2,940</td>\n",
       "      <td>30.8M</td>\n",
       "      <td>4,638,933,282</td>\n",
       "      <td>Entertainment</td>\n",
       "      <td>Jan 26th, 2014</td>\n",
       "    </tr>\n",
       "    <tr>\n",
       "      <th>4</th>\n",
       "      <td>Indosiar</td>\n",
       "      <td>24,583</td>\n",
       "      <td>27.6M</td>\n",
       "      <td>5,645,575,794</td>\n",
       "      <td>Entertainment</td>\n",
       "      <td>Sep 23rd, 2013</td>\n",
       "    </tr>\n",
       "    <tr>\n",
       "      <th>...</th>\n",
       "      <td>...</td>\n",
       "      <td>...</td>\n",
       "      <td>...</td>\n",
       "      <td>...</td>\n",
       "      <td>...</td>\n",
       "      <td>...</td>\n",
       "    </tr>\n",
       "    <tr>\n",
       "      <th>95</th>\n",
       "      <td>TRI SUAKA CHANNEL</td>\n",
       "      <td>1,486</td>\n",
       "      <td>8.13M</td>\n",
       "      <td>1,005,418,863</td>\n",
       "      <td>Entertainment</td>\n",
       "      <td>Oct 21st, 2015</td>\n",
       "    </tr>\n",
       "    <tr>\n",
       "      <th>96</th>\n",
       "      <td>Oura Gaming</td>\n",
       "      <td>3,721</td>\n",
       "      <td>8.12M</td>\n",
       "      <td>2,460,732,171</td>\n",
       "      <td>Games</td>\n",
       "      <td>Aug 28th, 2017</td>\n",
       "    </tr>\n",
       "    <tr>\n",
       "      <th>97</th>\n",
       "      <td>Erpan1140</td>\n",
       "      <td>1,597</td>\n",
       "      <td>8.11M</td>\n",
       "      <td>1,652,168,434</td>\n",
       "      <td>Games</td>\n",
       "      <td>Jan 13th, 2014</td>\n",
       "    </tr>\n",
       "    <tr>\n",
       "      <th>98</th>\n",
       "      <td>Kananda Widyantara</td>\n",
       "      <td>851</td>\n",
       "      <td>8.06M</td>\n",
       "      <td>637,071,659</td>\n",
       "      <td>Games</td>\n",
       "      <td>Mar 5th, 2018</td>\n",
       "    </tr>\n",
       "    <tr>\n",
       "      <th>99</th>\n",
       "      <td>Zhi En</td>\n",
       "      <td>1,883</td>\n",
       "      <td>8.06M</td>\n",
       "      <td>4,795,018,196</td>\n",
       "      <td>Entertainment</td>\n",
       "      <td>May 31st, 2021</td>\n",
       "    </tr>\n",
       "  </tbody>\n",
       "</table>\n",
       "<p>100 rows × 6 columns</p>\n",
       "</div>"
      ],
      "text/plain": [
       "                  name upload_count subscribers (million)          views  \\\n",
       "0        Jess No Limit        2,575                 42.8M  5,347,533,136   \n",
       "1       Ricis Official        3,426                 40.4M  6,811,702,060   \n",
       "2        Frost Diamond        3,048                   34M  8,038,993,217   \n",
       "3                   AH        2,940                 30.8M  4,638,933,282   \n",
       "4             Indosiar       24,583                 27.6M  5,645,575,794   \n",
       "..                 ...          ...                   ...            ...   \n",
       "95   TRI SUAKA CHANNEL        1,486                 8.13M  1,005,418,863   \n",
       "96         Oura Gaming        3,721                 8.12M  2,460,732,171   \n",
       "97           Erpan1140        1,597                 8.11M  1,652,168,434   \n",
       "98  Kananda Widyantara          851                 8.06M    637,071,659   \n",
       "99              Zhi En        1,883                 8.06M  4,795,018,196   \n",
       "\n",
       "              tag    date_created  \n",
       "0   Entertainment   Sep 7th, 2017  \n",
       "1   Entertainment  Jan 15th, 2016  \n",
       "2           Games  Jan 22nd, 2014  \n",
       "3   Entertainment  Jan 26th, 2014  \n",
       "4   Entertainment  Sep 23rd, 2013  \n",
       "..            ...             ...  \n",
       "95  Entertainment  Oct 21st, 2015  \n",
       "96          Games  Aug 28th, 2017  \n",
       "97          Games  Jan 13th, 2014  \n",
       "98          Games   Mar 5th, 2018  \n",
       "99  Entertainment  May 31st, 2021  \n",
       "\n",
       "[100 rows x 6 columns]"
      ]
     },
     "execution_count": 149,
     "metadata": {},
     "output_type": "execute_result"
    }
   ],
   "source": [
    "df_1 = pd.DataFrame(data_basic,\n",
    "             columns=['name', 'upload_count', 'subscribers (million)', 'views', 'tag', 'date_created'])\n",
    "df_1"
   ]
  },
  {
   "cell_type": "code",
   "execution_count": 150,
   "id": "63bfaff1",
   "metadata": {
    "ExecuteTime": {
     "end_time": "2023-11-28T10:44:13.739151Z",
     "start_time": "2023-11-28T10:44:13.707017Z"
    }
   },
   "outputs": [
    {
     "name": "stdout",
     "output_type": "stream",
     "text": [
      "<class 'pandas.core.frame.DataFrame'>\n",
      "RangeIndex: 100 entries, 0 to 99\n",
      "Data columns (total 6 columns):\n",
      " #   Column                 Non-Null Count  Dtype \n",
      "---  ------                 --------------  ----- \n",
      " 0   name                   100 non-null    object\n",
      " 1   upload_count           100 non-null    object\n",
      " 2   subscribers (million)  100 non-null    object\n",
      " 3   views                  100 non-null    object\n",
      " 4   tag                    100 non-null    object\n",
      " 5   date_created           100 non-null    object\n",
      "dtypes: object(6)\n",
      "memory usage: 4.8+ KB\n"
     ]
    }
   ],
   "source": [
    "df_1.info()"
   ]
  },
  {
   "cell_type": "markdown",
   "id": "009e92ce",
   "metadata": {},
   "source": [
    "There are several problems that we can fix here:\n",
    "\n",
    "1. `upload_count`, `subscribers (million)`, and `views` should be integer, not object\n",
    "2. `date_created` should be datetime, not object"
   ]
  },
  {
   "cell_type": "markdown",
   "id": "423538a8",
   "metadata": {},
   "source": [
    "### Convert column dtype"
   ]
  },
  {
   "cell_type": "markdown",
   "id": "245407d5",
   "metadata": {},
   "source": [
    "Before converting `upload_count` and `views` column into an integer column, we should remove the comma separator in each of the entry. We can do that by replacing (instead of removing) these commas with an empty string using [`str.replace()`](https://pandas.pydata.org/docs/reference/api/pandas.Series.str.replace.html).\n",
    "\n",
    "For `subscribers (million)`, we replace the 'M' letter with an empty string."
   ]
  },
  {
   "cell_type": "code",
   "execution_count": 152,
   "id": "1740473d",
   "metadata": {
    "ExecuteTime": {
     "end_time": "2023-11-28T11:53:31.877450Z",
     "start_time": "2023-11-28T11:53:31.853289Z"
    }
   },
   "outputs": [],
   "source": [
    "df_1['upload_count'] = df_1['upload_count'].str.replace(',', '')\n",
    "df_1['views'] = df_1['views'].str.replace(',', '')\n",
    "df_1['subscribers (million)'] = df_1['subscribers (million)'].str.replace('M', '')"
   ]
  },
  {
   "cell_type": "markdown",
   "id": "4e2784ea",
   "metadata": {
    "ExecuteTime": {
     "end_time": "2023-11-28T11:50:03.538251Z",
     "start_time": "2023-11-28T11:50:03.516401Z"
    }
   },
   "source": [
    "Then, we can convert them easily using [`astype()`](https://pandas.pydata.org/docs/reference/api/pandas.DataFrame.astype.html)"
   ]
  },
  {
   "cell_type": "code",
   "execution_count": 154,
   "id": "d008d2d1",
   "metadata": {
    "ExecuteTime": {
     "end_time": "2023-11-28T11:53:40.739704Z",
     "start_time": "2023-11-28T11:53:40.715612Z"
    }
   },
   "outputs": [],
   "source": [
    "df_1 = df_1.astype({\n",
    "    'upload_count': 'int',\n",
    "    'subscribers (million)': 'float',\n",
    "    'views': 'int64',\n",
    "})"
   ]
  },
  {
   "cell_type": "markdown",
   "id": "534e685a",
   "metadata": {},
   "source": [
    "For the `date_created` column, we will also use `astype` to convert it into a datetime object. However, pandas won't immediately recognize the format (like \"Sep 7th, 2017\") as a date. \n",
    "\n",
    "This is where `parse`, one of the functions that we imported at the beginning, comes in handy. That function will reformat our date value into a format that `astype` would recognize. For example, it would transform \"Sep 7th, 2017\" into \"2017-09-07\".\n",
    "\n",
    "We can utilize the method `apply()` To implement `parse` for each value in a dataframe column."
   ]
  },
  {
   "cell_type": "code",
   "execution_count": 163,
   "id": "4a415b68",
   "metadata": {
    "ExecuteTime": {
     "end_time": "2023-11-28T12:14:17.502441Z",
     "start_time": "2023-11-28T12:14:17.477173Z"
    }
   },
   "outputs": [],
   "source": [
    "df_1['date_created'] = df_1['date_created'].apply(parse).astype('datetime64[ns]')"
   ]
  },
  {
   "cell_type": "markdown",
   "id": "6ce51ef9",
   "metadata": {},
   "source": [
    "Let's check how our dtypes looks like now."
   ]
  },
  {
   "cell_type": "code",
   "execution_count": 165,
   "id": "5248122b",
   "metadata": {
    "ExecuteTime": {
     "end_time": "2023-11-28T12:15:22.095873Z",
     "start_time": "2023-11-28T12:15:22.063950Z"
    }
   },
   "outputs": [
    {
     "name": "stdout",
     "output_type": "stream",
     "text": [
      "<class 'pandas.core.frame.DataFrame'>\n",
      "RangeIndex: 100 entries, 0 to 99\n",
      "Data columns (total 6 columns):\n",
      " #   Column                 Non-Null Count  Dtype         \n",
      "---  ------                 --------------  -----         \n",
      " 0   name                   100 non-null    object        \n",
      " 1   upload_count           100 non-null    int32         \n",
      " 2   subscribers (million)  100 non-null    float64       \n",
      " 3   views                  100 non-null    int64         \n",
      " 4   tag                    100 non-null    object        \n",
      " 5   date_created           100 non-null    datetime64[ns]\n",
      "dtypes: datetime64[ns](1), float64(1), int32(1), int64(1), object(2)\n",
      "memory usage: 4.4+ KB\n"
     ]
    }
   ],
   "source": [
    "df_1.info()"
   ]
  },
  {
   "cell_type": "markdown",
   "id": "07b2ba6f",
   "metadata": {},
   "source": [
    "### Add some features"
   ]
  },
  {
   "cell_type": "markdown",
   "id": "08c51aed",
   "metadata": {},
   "source": [
    "Although we have enough features to begin with, it still can be improved. I can think of two new features to be added.\n",
    "\n",
    "1. `views/upload_count`: with this new feature, it can tells us the efficiency of a channel in terms of viewers per video. It makes comparing the performance of two channels easier.\n",
    "2. `age`: to intuitively quantify `date_created` column into an integer value."
   ]
  },
  {
   "cell_type": "code",
   "execution_count": 167,
   "id": "6ad8dea5",
   "metadata": {
    "ExecuteTime": {
     "end_time": "2023-11-28T13:16:51.701324Z",
     "start_time": "2023-11-28T13:16:51.636725Z"
    }
   },
   "outputs": [],
   "source": [
    "df_1['views/video'] = df_1['views']/(df_1['upload_count'])\n",
    "now = pd.Timestamp('now')\n",
    "df_1['age'] = round((now - df_1['date_created']).dt.days / 365, 1)"
   ]
  },
  {
   "cell_type": "code",
   "execution_count": 168,
   "id": "7aaf0cb0",
   "metadata": {
    "ExecuteTime": {
     "end_time": "2023-11-28T13:16:57.870795Z",
     "start_time": "2023-11-28T13:16:57.838642Z"
    }
   },
   "outputs": [
    {
     "data": {
      "text/html": [
       "<div>\n",
       "<style scoped>\n",
       "    .dataframe tbody tr th:only-of-type {\n",
       "        vertical-align: middle;\n",
       "    }\n",
       "\n",
       "    .dataframe tbody tr th {\n",
       "        vertical-align: top;\n",
       "    }\n",
       "\n",
       "    .dataframe thead th {\n",
       "        text-align: right;\n",
       "    }\n",
       "</style>\n",
       "<table border=\"1\" class=\"dataframe\">\n",
       "  <thead>\n",
       "    <tr style=\"text-align: right;\">\n",
       "      <th></th>\n",
       "      <th>name</th>\n",
       "      <th>upload_count</th>\n",
       "      <th>subscribers (million)</th>\n",
       "      <th>views</th>\n",
       "      <th>tag</th>\n",
       "      <th>date_created</th>\n",
       "      <th>views/video</th>\n",
       "      <th>age</th>\n",
       "    </tr>\n",
       "  </thead>\n",
       "  <tbody>\n",
       "    <tr>\n",
       "      <th>0</th>\n",
       "      <td>Jess No Limit</td>\n",
       "      <td>2575</td>\n",
       "      <td>42.80</td>\n",
       "      <td>5347533136</td>\n",
       "      <td>Entertainment</td>\n",
       "      <td>2017-09-07</td>\n",
       "      <td>2.076712e+06</td>\n",
       "      <td>6.2</td>\n",
       "    </tr>\n",
       "    <tr>\n",
       "      <th>1</th>\n",
       "      <td>Ricis Official</td>\n",
       "      <td>3426</td>\n",
       "      <td>40.40</td>\n",
       "      <td>6811702060</td>\n",
       "      <td>Entertainment</td>\n",
       "      <td>2016-01-15</td>\n",
       "      <td>1.988238e+06</td>\n",
       "      <td>7.9</td>\n",
       "    </tr>\n",
       "    <tr>\n",
       "      <th>2</th>\n",
       "      <td>Frost Diamond</td>\n",
       "      <td>3048</td>\n",
       "      <td>34.00</td>\n",
       "      <td>8038993217</td>\n",
       "      <td>Games</td>\n",
       "      <td>2014-01-22</td>\n",
       "      <td>2.637465e+06</td>\n",
       "      <td>9.9</td>\n",
       "    </tr>\n",
       "    <tr>\n",
       "      <th>3</th>\n",
       "      <td>AH</td>\n",
       "      <td>2940</td>\n",
       "      <td>30.80</td>\n",
       "      <td>4638933282</td>\n",
       "      <td>Entertainment</td>\n",
       "      <td>2014-01-26</td>\n",
       "      <td>1.577868e+06</td>\n",
       "      <td>9.8</td>\n",
       "    </tr>\n",
       "    <tr>\n",
       "      <th>4</th>\n",
       "      <td>Indosiar</td>\n",
       "      <td>24583</td>\n",
       "      <td>27.60</td>\n",
       "      <td>5645575794</td>\n",
       "      <td>Entertainment</td>\n",
       "      <td>2013-09-23</td>\n",
       "      <td>2.296537e+05</td>\n",
       "      <td>10.2</td>\n",
       "    </tr>\n",
       "    <tr>\n",
       "      <th>...</th>\n",
       "      <td>...</td>\n",
       "      <td>...</td>\n",
       "      <td>...</td>\n",
       "      <td>...</td>\n",
       "      <td>...</td>\n",
       "      <td>...</td>\n",
       "      <td>...</td>\n",
       "      <td>...</td>\n",
       "    </tr>\n",
       "    <tr>\n",
       "      <th>95</th>\n",
       "      <td>TRI SUAKA CHANNEL</td>\n",
       "      <td>1486</td>\n",
       "      <td>8.13</td>\n",
       "      <td>1005418863</td>\n",
       "      <td>Entertainment</td>\n",
       "      <td>2015-10-21</td>\n",
       "      <td>6.765941e+05</td>\n",
       "      <td>8.1</td>\n",
       "    </tr>\n",
       "    <tr>\n",
       "      <th>96</th>\n",
       "      <td>Oura Gaming</td>\n",
       "      <td>3721</td>\n",
       "      <td>8.12</td>\n",
       "      <td>2460732171</td>\n",
       "      <td>Games</td>\n",
       "      <td>2017-08-28</td>\n",
       "      <td>6.613094e+05</td>\n",
       "      <td>6.3</td>\n",
       "    </tr>\n",
       "    <tr>\n",
       "      <th>97</th>\n",
       "      <td>Erpan1140</td>\n",
       "      <td>1597</td>\n",
       "      <td>8.11</td>\n",
       "      <td>1652168434</td>\n",
       "      <td>Games</td>\n",
       "      <td>2014-01-13</td>\n",
       "      <td>1.034545e+06</td>\n",
       "      <td>9.9</td>\n",
       "    </tr>\n",
       "    <tr>\n",
       "      <th>98</th>\n",
       "      <td>Kananda Widyantara</td>\n",
       "      <td>851</td>\n",
       "      <td>8.06</td>\n",
       "      <td>637071659</td>\n",
       "      <td>Games</td>\n",
       "      <td>2018-03-05</td>\n",
       "      <td>7.486153e+05</td>\n",
       "      <td>5.7</td>\n",
       "    </tr>\n",
       "    <tr>\n",
       "      <th>99</th>\n",
       "      <td>Zhi En</td>\n",
       "      <td>1883</td>\n",
       "      <td>8.06</td>\n",
       "      <td>4795018196</td>\n",
       "      <td>Entertainment</td>\n",
       "      <td>2021-05-31</td>\n",
       "      <td>2.546478e+06</td>\n",
       "      <td>2.5</td>\n",
       "    </tr>\n",
       "  </tbody>\n",
       "</table>\n",
       "<p>100 rows × 8 columns</p>\n",
       "</div>"
      ],
      "text/plain": [
       "                  name  upload_count  subscribers (million)       views  \\\n",
       "0        Jess No Limit          2575                  42.80  5347533136   \n",
       "1       Ricis Official          3426                  40.40  6811702060   \n",
       "2        Frost Diamond          3048                  34.00  8038993217   \n",
       "3                   AH          2940                  30.80  4638933282   \n",
       "4             Indosiar         24583                  27.60  5645575794   \n",
       "..                 ...           ...                    ...         ...   \n",
       "95   TRI SUAKA CHANNEL          1486                   8.13  1005418863   \n",
       "96         Oura Gaming          3721                   8.12  2460732171   \n",
       "97           Erpan1140          1597                   8.11  1652168434   \n",
       "98  Kananda Widyantara           851                   8.06   637071659   \n",
       "99              Zhi En          1883                   8.06  4795018196   \n",
       "\n",
       "              tag date_created   views/video   age  \n",
       "0   Entertainment   2017-09-07  2.076712e+06   6.2  \n",
       "1   Entertainment   2016-01-15  1.988238e+06   7.9  \n",
       "2           Games   2014-01-22  2.637465e+06   9.9  \n",
       "3   Entertainment   2014-01-26  1.577868e+06   9.8  \n",
       "4   Entertainment   2013-09-23  2.296537e+05  10.2  \n",
       "..            ...          ...           ...   ...  \n",
       "95  Entertainment   2015-10-21  6.765941e+05   8.1  \n",
       "96          Games   2017-08-28  6.613094e+05   6.3  \n",
       "97          Games   2014-01-13  1.034545e+06   9.9  \n",
       "98          Games   2018-03-05  7.486153e+05   5.7  \n",
       "99  Entertainment   2021-05-31  2.546478e+06   2.5  \n",
       "\n",
       "[100 rows x 8 columns]"
      ]
     },
     "execution_count": 168,
     "metadata": {},
     "output_type": "execute_result"
    }
   ],
   "source": [
    "df_1"
   ]
  },
  {
   "cell_type": "markdown",
   "id": "8a0eb2d9",
   "metadata": {},
   "source": [
    "## Time series data"
   ]
  },
  {
   "cell_type": "markdown",
   "id": "b2b33b7a",
   "metadata": {},
   "source": [
    "For time series data, each channel must have exacly 35 months (3 years) of record, meaning that there will be 100 x 35 rows in the dataframe.\n",
    "\n",
    "However, some channels might be created within the last three years and having less than 35 months of record. In this case, we will append zero values to the record for each months where the channels haven't been created.\n",
    "\n",
    "Some channels might also have more than 35 months for some reason (maybe it already contains the record for this month), so we will delete the last record in this case."
   ]
  },
  {
   "cell_type": "code",
   "execution_count": 171,
   "id": "29cf0b19",
   "metadata": {
    "ExecuteTime": {
     "end_time": "2023-11-28T13:36:38.785279Z",
     "start_time": "2023-11-28T13:36:38.762108Z"
    }
   },
   "outputs": [],
   "source": [
    "# make 35 rows of each names\n",
    "names = df_1['name']\n",
    "new_names = []\n",
    "for name in names:\n",
    "    new_names.extend([name]*35)\n",
    "\n",
    "subs_gained = []\n",
    "views_gained = []\n",
    "for element in data_time_series:\n",
    "    n = len(element)\n",
    "    \n",
    "    # if it is less than 35 records, append a [0, 0] values to the record\n",
    "    if n < 35:\n",
    "        extender = [[0, 0] for i in range(35-n)]\n",
    "        element.extend(extender)\n",
    "        \n",
    "    # if it is more than 35 records, remove the last record\n",
    "    elif n > 35:\n",
    "        element.pop()\n",
    "    \n",
    "    # separate subs and views information from the record    \n",
    "    for subs, views in element:\n",
    "        subs_gained.append(subs)\n",
    "        views_gained.append(views)"
   ]
  },
  {
   "cell_type": "markdown",
   "id": "d71f5f92",
   "metadata": {},
   "source": [
    "Let's see how the dataframe looks like"
   ]
  },
  {
   "cell_type": "code",
   "execution_count": 173,
   "id": "cb8f0dcd",
   "metadata": {
    "ExecuteTime": {
     "end_time": "2023-11-28T13:36:43.785683Z",
     "start_time": "2023-11-28T13:36:43.753582Z"
    }
   },
   "outputs": [
    {
     "data": {
      "text/html": [
       "<div>\n",
       "<style scoped>\n",
       "    .dataframe tbody tr th:only-of-type {\n",
       "        vertical-align: middle;\n",
       "    }\n",
       "\n",
       "    .dataframe tbody tr th {\n",
       "        vertical-align: top;\n",
       "    }\n",
       "\n",
       "    .dataframe thead th {\n",
       "        text-align: right;\n",
       "    }\n",
       "</style>\n",
       "<table border=\"1\" class=\"dataframe\">\n",
       "  <thead>\n",
       "    <tr style=\"text-align: right;\">\n",
       "      <th></th>\n",
       "      <th>name</th>\n",
       "      <th>views_gained</th>\n",
       "      <th>subs_gained</th>\n",
       "    </tr>\n",
       "  </thead>\n",
       "  <tbody>\n",
       "    <tr>\n",
       "      <th>0</th>\n",
       "      <td>Jess No Limit</td>\n",
       "      <td>-19801666</td>\n",
       "      <td>1400000</td>\n",
       "    </tr>\n",
       "    <tr>\n",
       "      <th>1</th>\n",
       "      <td>Jess No Limit</td>\n",
       "      <td>411397220</td>\n",
       "      <td>1500000</td>\n",
       "    </tr>\n",
       "    <tr>\n",
       "      <th>2</th>\n",
       "      <td>Jess No Limit</td>\n",
       "      <td>435506366</td>\n",
       "      <td>2300000</td>\n",
       "    </tr>\n",
       "    <tr>\n",
       "      <th>3</th>\n",
       "      <td>Jess No Limit</td>\n",
       "      <td>551439344</td>\n",
       "      <td>4700000</td>\n",
       "    </tr>\n",
       "    <tr>\n",
       "      <th>4</th>\n",
       "      <td>Jess No Limit</td>\n",
       "      <td>386627362</td>\n",
       "      <td>4500000</td>\n",
       "    </tr>\n",
       "    <tr>\n",
       "      <th>...</th>\n",
       "      <td>...</td>\n",
       "      <td>...</td>\n",
       "      <td>...</td>\n",
       "    </tr>\n",
       "    <tr>\n",
       "      <th>3495</th>\n",
       "      <td>Zhi En</td>\n",
       "      <td>99810016</td>\n",
       "      <td>500000</td>\n",
       "    </tr>\n",
       "    <tr>\n",
       "      <th>3496</th>\n",
       "      <td>Zhi En</td>\n",
       "      <td>23185815</td>\n",
       "      <td>400000</td>\n",
       "    </tr>\n",
       "    <tr>\n",
       "      <th>3497</th>\n",
       "      <td>Zhi En</td>\n",
       "      <td>75239628</td>\n",
       "      <td>700000</td>\n",
       "    </tr>\n",
       "    <tr>\n",
       "      <th>3498</th>\n",
       "      <td>Zhi En</td>\n",
       "      <td>76170914</td>\n",
       "      <td>500000</td>\n",
       "    </tr>\n",
       "    <tr>\n",
       "      <th>3499</th>\n",
       "      <td>Zhi En</td>\n",
       "      <td>76419152</td>\n",
       "      <td>400000</td>\n",
       "    </tr>\n",
       "  </tbody>\n",
       "</table>\n",
       "<p>3500 rows × 3 columns</p>\n",
       "</div>"
      ],
      "text/plain": [
       "               name  views_gained  subs_gained\n",
       "0     Jess No Limit     -19801666      1400000\n",
       "1     Jess No Limit     411397220      1500000\n",
       "2     Jess No Limit     435506366      2300000\n",
       "3     Jess No Limit     551439344      4700000\n",
       "4     Jess No Limit     386627362      4500000\n",
       "...             ...           ...          ...\n",
       "3495         Zhi En      99810016       500000\n",
       "3496         Zhi En      23185815       400000\n",
       "3497         Zhi En      75239628       700000\n",
       "3498         Zhi En      76170914       500000\n",
       "3499         Zhi En      76419152       400000\n",
       "\n",
       "[3500 rows x 3 columns]"
      ]
     },
     "execution_count": 173,
     "metadata": {},
     "output_type": "execute_result"
    }
   ],
   "source": [
    "df_2 = pd.DataFrame({\n",
    "    'name': new_names,\n",
    "    'views_gained': views_gained,\n",
    "    'subs_gained': subs_gained,\n",
    "})\n",
    "\n",
    "df_2"
   ]
  },
  {
   "cell_type": "markdown",
   "id": "af7c23ef",
   "metadata": {},
   "source": [
    "I think we forgot something: the date! There should be a date column that indicates when the views and subs were gained. Because I do this analysis in November, we will create a 35 months range from December 2020 to October 2023 for each channel."
   ]
  },
  {
   "cell_type": "code",
   "execution_count": 177,
   "id": "ab65c8f9",
   "metadata": {
    "ExecuteTime": {
     "end_time": "2023-11-28T13:51:24.961035Z",
     "start_time": "2023-11-28T13:51:24.928487Z"
    }
   },
   "outputs": [
    {
     "data": {
      "text/html": [
       "<div>\n",
       "<style scoped>\n",
       "    .dataframe tbody tr th:only-of-type {\n",
       "        vertical-align: middle;\n",
       "    }\n",
       "\n",
       "    .dataframe tbody tr th {\n",
       "        vertical-align: top;\n",
       "    }\n",
       "\n",
       "    .dataframe thead th {\n",
       "        text-align: right;\n",
       "    }\n",
       "</style>\n",
       "<table border=\"1\" class=\"dataframe\">\n",
       "  <thead>\n",
       "    <tr style=\"text-align: right;\">\n",
       "      <th></th>\n",
       "      <th>name</th>\n",
       "      <th>views_gained</th>\n",
       "      <th>subs_gained</th>\n",
       "      <th>date</th>\n",
       "    </tr>\n",
       "  </thead>\n",
       "  <tbody>\n",
       "    <tr>\n",
       "      <th>0</th>\n",
       "      <td>Jess No Limit</td>\n",
       "      <td>-19801666</td>\n",
       "      <td>1400000</td>\n",
       "      <td>2023-10-01</td>\n",
       "    </tr>\n",
       "    <tr>\n",
       "      <th>1</th>\n",
       "      <td>Jess No Limit</td>\n",
       "      <td>411397220</td>\n",
       "      <td>1500000</td>\n",
       "      <td>2023-09-01</td>\n",
       "    </tr>\n",
       "    <tr>\n",
       "      <th>2</th>\n",
       "      <td>Jess No Limit</td>\n",
       "      <td>435506366</td>\n",
       "      <td>2300000</td>\n",
       "      <td>2023-08-01</td>\n",
       "    </tr>\n",
       "    <tr>\n",
       "      <th>3</th>\n",
       "      <td>Jess No Limit</td>\n",
       "      <td>551439344</td>\n",
       "      <td>4700000</td>\n",
       "      <td>2023-07-01</td>\n",
       "    </tr>\n",
       "    <tr>\n",
       "      <th>4</th>\n",
       "      <td>Jess No Limit</td>\n",
       "      <td>386627362</td>\n",
       "      <td>4500000</td>\n",
       "      <td>2023-06-01</td>\n",
       "    </tr>\n",
       "    <tr>\n",
       "      <th>...</th>\n",
       "      <td>...</td>\n",
       "      <td>...</td>\n",
       "      <td>...</td>\n",
       "      <td>...</td>\n",
       "    </tr>\n",
       "    <tr>\n",
       "      <th>3495</th>\n",
       "      <td>Zhi En</td>\n",
       "      <td>99810016</td>\n",
       "      <td>500000</td>\n",
       "      <td>2021-04-01</td>\n",
       "    </tr>\n",
       "    <tr>\n",
       "      <th>3496</th>\n",
       "      <td>Zhi En</td>\n",
       "      <td>23185815</td>\n",
       "      <td>400000</td>\n",
       "      <td>2021-03-01</td>\n",
       "    </tr>\n",
       "    <tr>\n",
       "      <th>3497</th>\n",
       "      <td>Zhi En</td>\n",
       "      <td>75239628</td>\n",
       "      <td>700000</td>\n",
       "      <td>2021-02-01</td>\n",
       "    </tr>\n",
       "    <tr>\n",
       "      <th>3498</th>\n",
       "      <td>Zhi En</td>\n",
       "      <td>76170914</td>\n",
       "      <td>500000</td>\n",
       "      <td>2021-01-01</td>\n",
       "    </tr>\n",
       "    <tr>\n",
       "      <th>3499</th>\n",
       "      <td>Zhi En</td>\n",
       "      <td>76419152</td>\n",
       "      <td>400000</td>\n",
       "      <td>2020-12-01</td>\n",
       "    </tr>\n",
       "  </tbody>\n",
       "</table>\n",
       "<p>3500 rows × 4 columns</p>\n",
       "</div>"
      ],
      "text/plain": [
       "               name  views_gained  subs_gained       date\n",
       "0     Jess No Limit     -19801666      1400000 2023-10-01\n",
       "1     Jess No Limit     411397220      1500000 2023-09-01\n",
       "2     Jess No Limit     435506366      2300000 2023-08-01\n",
       "3     Jess No Limit     551439344      4700000 2023-07-01\n",
       "4     Jess No Limit     386627362      4500000 2023-06-01\n",
       "...             ...           ...          ...        ...\n",
       "3495         Zhi En      99810016       500000 2021-04-01\n",
       "3496         Zhi En      23185815       400000 2021-03-01\n",
       "3497         Zhi En      75239628       700000 2021-02-01\n",
       "3498         Zhi En      76170914       500000 2021-01-01\n",
       "3499         Zhi En      76419152       400000 2020-12-01\n",
       "\n",
       "[3500 rows x 4 columns]"
      ]
     },
     "execution_count": 177,
     "metadata": {},
     "output_type": "execute_result"
    }
   ],
   "source": [
    "# create a monthly date range from dec 2020 to oct 2020\n",
    "dates = pd.Series(pd.date_range('2020-12','2023-10', \n",
    "              freq='MS'))[::-1]\n",
    "\n",
    "# we multiply it by 100 (the number of channels)\n",
    "dates = pd.concat([dates]*100, ignore_index=True)\n",
    "\n",
    "df_2['date'] = dates\n",
    "\n",
    "df_2"
   ]
  },
  {
   "cell_type": "markdown",
   "id": "f3e5ce83",
   "metadata": {},
   "source": [
    "## Merge the two dataframes"
   ]
  },
  {
   "cell_type": "markdown",
   "id": "293cf829",
   "metadata": {},
   "source": [
    "Last but not least, merge the two dataframes together to get our final, clean dataframe. This dataframe will be used for visualization and analysis in the [next part](posts/youtube_analysis/youtube_analysis.html)."
   ]
  },
  {
   "cell_type": "code",
   "execution_count": 179,
   "id": "1b187d11",
   "metadata": {
    "ExecuteTime": {
     "end_time": "2023-11-28T13:54:08.927069Z",
     "start_time": "2023-11-28T13:54:08.888573Z"
    }
   },
   "outputs": [
    {
     "data": {
      "text/html": [
       "<div>\n",
       "<style scoped>\n",
       "    .dataframe tbody tr th:only-of-type {\n",
       "        vertical-align: middle;\n",
       "    }\n",
       "\n",
       "    .dataframe tbody tr th {\n",
       "        vertical-align: top;\n",
       "    }\n",
       "\n",
       "    .dataframe thead th {\n",
       "        text-align: right;\n",
       "    }\n",
       "</style>\n",
       "<table border=\"1\" class=\"dataframe\">\n",
       "  <thead>\n",
       "    <tr style=\"text-align: right;\">\n",
       "      <th></th>\n",
       "      <th>name</th>\n",
       "      <th>upload_count</th>\n",
       "      <th>subscribers (million)</th>\n",
       "      <th>views</th>\n",
       "      <th>tag</th>\n",
       "      <th>date_created</th>\n",
       "      <th>views/video</th>\n",
       "      <th>age</th>\n",
       "      <th>views_gained</th>\n",
       "      <th>subs_gained</th>\n",
       "      <th>date</th>\n",
       "    </tr>\n",
       "  </thead>\n",
       "  <tbody>\n",
       "    <tr>\n",
       "      <th>0</th>\n",
       "      <td>Jess No Limit</td>\n",
       "      <td>2575</td>\n",
       "      <td>42.80</td>\n",
       "      <td>5347533136</td>\n",
       "      <td>Entertainment</td>\n",
       "      <td>2017-09-07</td>\n",
       "      <td>2.076712e+06</td>\n",
       "      <td>6.2</td>\n",
       "      <td>-19801666</td>\n",
       "      <td>1400000</td>\n",
       "      <td>2023-10-01</td>\n",
       "    </tr>\n",
       "    <tr>\n",
       "      <th>1</th>\n",
       "      <td>Jess No Limit</td>\n",
       "      <td>2575</td>\n",
       "      <td>42.80</td>\n",
       "      <td>5347533136</td>\n",
       "      <td>Entertainment</td>\n",
       "      <td>2017-09-07</td>\n",
       "      <td>2.076712e+06</td>\n",
       "      <td>6.2</td>\n",
       "      <td>411397220</td>\n",
       "      <td>1500000</td>\n",
       "      <td>2023-09-01</td>\n",
       "    </tr>\n",
       "    <tr>\n",
       "      <th>2</th>\n",
       "      <td>Jess No Limit</td>\n",
       "      <td>2575</td>\n",
       "      <td>42.80</td>\n",
       "      <td>5347533136</td>\n",
       "      <td>Entertainment</td>\n",
       "      <td>2017-09-07</td>\n",
       "      <td>2.076712e+06</td>\n",
       "      <td>6.2</td>\n",
       "      <td>435506366</td>\n",
       "      <td>2300000</td>\n",
       "      <td>2023-08-01</td>\n",
       "    </tr>\n",
       "    <tr>\n",
       "      <th>3</th>\n",
       "      <td>Jess No Limit</td>\n",
       "      <td>2575</td>\n",
       "      <td>42.80</td>\n",
       "      <td>5347533136</td>\n",
       "      <td>Entertainment</td>\n",
       "      <td>2017-09-07</td>\n",
       "      <td>2.076712e+06</td>\n",
       "      <td>6.2</td>\n",
       "      <td>551439344</td>\n",
       "      <td>4700000</td>\n",
       "      <td>2023-07-01</td>\n",
       "    </tr>\n",
       "    <tr>\n",
       "      <th>4</th>\n",
       "      <td>Jess No Limit</td>\n",
       "      <td>2575</td>\n",
       "      <td>42.80</td>\n",
       "      <td>5347533136</td>\n",
       "      <td>Entertainment</td>\n",
       "      <td>2017-09-07</td>\n",
       "      <td>2.076712e+06</td>\n",
       "      <td>6.2</td>\n",
       "      <td>386627362</td>\n",
       "      <td>4500000</td>\n",
       "      <td>2023-06-01</td>\n",
       "    </tr>\n",
       "    <tr>\n",
       "      <th>...</th>\n",
       "      <td>...</td>\n",
       "      <td>...</td>\n",
       "      <td>...</td>\n",
       "      <td>...</td>\n",
       "      <td>...</td>\n",
       "      <td>...</td>\n",
       "      <td>...</td>\n",
       "      <td>...</td>\n",
       "      <td>...</td>\n",
       "      <td>...</td>\n",
       "      <td>...</td>\n",
       "    </tr>\n",
       "    <tr>\n",
       "      <th>3495</th>\n",
       "      <td>Zhi En</td>\n",
       "      <td>1883</td>\n",
       "      <td>8.06</td>\n",
       "      <td>4795018196</td>\n",
       "      <td>Entertainment</td>\n",
       "      <td>2021-05-31</td>\n",
       "      <td>2.546478e+06</td>\n",
       "      <td>2.5</td>\n",
       "      <td>99810016</td>\n",
       "      <td>500000</td>\n",
       "      <td>2021-04-01</td>\n",
       "    </tr>\n",
       "    <tr>\n",
       "      <th>3496</th>\n",
       "      <td>Zhi En</td>\n",
       "      <td>1883</td>\n",
       "      <td>8.06</td>\n",
       "      <td>4795018196</td>\n",
       "      <td>Entertainment</td>\n",
       "      <td>2021-05-31</td>\n",
       "      <td>2.546478e+06</td>\n",
       "      <td>2.5</td>\n",
       "      <td>23185815</td>\n",
       "      <td>400000</td>\n",
       "      <td>2021-03-01</td>\n",
       "    </tr>\n",
       "    <tr>\n",
       "      <th>3497</th>\n",
       "      <td>Zhi En</td>\n",
       "      <td>1883</td>\n",
       "      <td>8.06</td>\n",
       "      <td>4795018196</td>\n",
       "      <td>Entertainment</td>\n",
       "      <td>2021-05-31</td>\n",
       "      <td>2.546478e+06</td>\n",
       "      <td>2.5</td>\n",
       "      <td>75239628</td>\n",
       "      <td>700000</td>\n",
       "      <td>2021-02-01</td>\n",
       "    </tr>\n",
       "    <tr>\n",
       "      <th>3498</th>\n",
       "      <td>Zhi En</td>\n",
       "      <td>1883</td>\n",
       "      <td>8.06</td>\n",
       "      <td>4795018196</td>\n",
       "      <td>Entertainment</td>\n",
       "      <td>2021-05-31</td>\n",
       "      <td>2.546478e+06</td>\n",
       "      <td>2.5</td>\n",
       "      <td>76170914</td>\n",
       "      <td>500000</td>\n",
       "      <td>2021-01-01</td>\n",
       "    </tr>\n",
       "    <tr>\n",
       "      <th>3499</th>\n",
       "      <td>Zhi En</td>\n",
       "      <td>1883</td>\n",
       "      <td>8.06</td>\n",
       "      <td>4795018196</td>\n",
       "      <td>Entertainment</td>\n",
       "      <td>2021-05-31</td>\n",
       "      <td>2.546478e+06</td>\n",
       "      <td>2.5</td>\n",
       "      <td>76419152</td>\n",
       "      <td>400000</td>\n",
       "      <td>2020-12-01</td>\n",
       "    </tr>\n",
       "  </tbody>\n",
       "</table>\n",
       "<p>3500 rows × 11 columns</p>\n",
       "</div>"
      ],
      "text/plain": [
       "               name  upload_count  subscribers (million)       views  \\\n",
       "0     Jess No Limit          2575                  42.80  5347533136   \n",
       "1     Jess No Limit          2575                  42.80  5347533136   \n",
       "2     Jess No Limit          2575                  42.80  5347533136   \n",
       "3     Jess No Limit          2575                  42.80  5347533136   \n",
       "4     Jess No Limit          2575                  42.80  5347533136   \n",
       "...             ...           ...                    ...         ...   \n",
       "3495         Zhi En          1883                   8.06  4795018196   \n",
       "3496         Zhi En          1883                   8.06  4795018196   \n",
       "3497         Zhi En          1883                   8.06  4795018196   \n",
       "3498         Zhi En          1883                   8.06  4795018196   \n",
       "3499         Zhi En          1883                   8.06  4795018196   \n",
       "\n",
       "                tag date_created   views/video  age  views_gained  \\\n",
       "0     Entertainment   2017-09-07  2.076712e+06  6.2     -19801666   \n",
       "1     Entertainment   2017-09-07  2.076712e+06  6.2     411397220   \n",
       "2     Entertainment   2017-09-07  2.076712e+06  6.2     435506366   \n",
       "3     Entertainment   2017-09-07  2.076712e+06  6.2     551439344   \n",
       "4     Entertainment   2017-09-07  2.076712e+06  6.2     386627362   \n",
       "...             ...          ...           ...  ...           ...   \n",
       "3495  Entertainment   2021-05-31  2.546478e+06  2.5      99810016   \n",
       "3496  Entertainment   2021-05-31  2.546478e+06  2.5      23185815   \n",
       "3497  Entertainment   2021-05-31  2.546478e+06  2.5      75239628   \n",
       "3498  Entertainment   2021-05-31  2.546478e+06  2.5      76170914   \n",
       "3499  Entertainment   2021-05-31  2.546478e+06  2.5      76419152   \n",
       "\n",
       "      subs_gained       date  \n",
       "0         1400000 2023-10-01  \n",
       "1         1500000 2023-09-01  \n",
       "2         2300000 2023-08-01  \n",
       "3         4700000 2023-07-01  \n",
       "4         4500000 2023-06-01  \n",
       "...           ...        ...  \n",
       "3495       500000 2021-04-01  \n",
       "3496       400000 2021-03-01  \n",
       "3497       700000 2021-02-01  \n",
       "3498       500000 2021-01-01  \n",
       "3499       400000 2020-12-01  \n",
       "\n",
       "[3500 rows x 11 columns]"
      ]
     },
     "execution_count": 179,
     "metadata": {},
     "output_type": "execute_result"
    }
   ],
   "source": [
    "df = pd.merge(df_1, df_2, left_on='name', right_on='name')\n",
    "df"
   ]
  }
 ],
 "metadata": {
  "kernelspec": {
   "display_name": "Python 3",
   "language": "python",
   "name": "python3"
  },
  "language_info": {
   "codemirror_mode": {
    "name": "ipython",
    "version": 3
   },
   "file_extension": ".py",
   "mimetype": "text/x-python",
   "name": "python",
   "nbconvert_exporter": "python",
   "pygments_lexer": "ipython3",
   "version": "3.8.8"
  },
  "varInspector": {
   "cols": {
    "lenName": 16,
    "lenType": 16,
    "lenVar": 40
   },
   "kernels_config": {
    "python": {
     "delete_cmd_postfix": "",
     "delete_cmd_prefix": "del ",
     "library": "var_list.py",
     "varRefreshCmd": "print(var_dic_list())"
    },
    "r": {
     "delete_cmd_postfix": ") ",
     "delete_cmd_prefix": "rm(",
     "library": "var_list.r",
     "varRefreshCmd": "cat(var_dic_list()) "
    }
   },
   "types_to_exclude": [
    "module",
    "function",
    "builtin_function_or_method",
    "instance",
    "_Feature"
   ],
   "window_display": false
  }
 },
 "nbformat": 4,
 "nbformat_minor": 5
}
