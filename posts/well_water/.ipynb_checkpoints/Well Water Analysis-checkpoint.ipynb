{
 "cells": [
  {
   "cell_type": "raw",
   "id": "cea2a8ef",
   "metadata": {},
   "source": [
    "---\n",
    "title: \"Hierarchical Clustering Analysis of Well Water Quality in Bandung (Using Python)\"\n",
    "author: \"Rafi Naufal Aziz\"\n",
    "toc: true\n",
    "date: \"2023-10-12\"\n",
    "image: image.png\n",
    "notebook-links: global\n",
    "categories: [project, clustering]\n",
    "format:\n",
    "  html:\n",
    "    code-fold: true\n",
    "    highlight-style: atom-one\n",
    "  ipynb: default\n",
    "jupyter: python3\n",
    "---"
   ]
  },
  {
   "cell_type": "markdown",
   "id": "2f1729b8",
   "metadata": {},
   "source": [
    "![](image.png)"
   ]
  },
  {
   "cell_type": "markdown",
   "id": "66c0fe14",
   "metadata": {},
   "source": [
    "# Background"
   ]
  },
  {
   "cell_type": "markdown",
   "id": "0b1a5c6f",
   "metadata": {},
   "source": [
    "Many regions around the world still face challenges in providing the access to **clean and safe water** to their populations. **Bandung**, one of the largest city in Indonesia, is influenced by multiple industrial activities and urbanization that can damage the water quality in its environment. Many Bandung’s residents rely on **well water** as a primary source of water (including drinking water), making it essential for the government and related institutions to monitor and improve the quality of water from these sources.\n",
    "\n",
    "This report aims to address the critical issue of well water quality in Bandung by implementing data analysis techniques, specifically **hierarchical clustering** analysis, to provide valuable insights and recommendations for government agencies and institutions responsible for water resource management and public health."
   ]
  },
  {
   "cell_type": "markdown",
   "id": "bc3b28df",
   "metadata": {},
   "source": [
    "# Objectives"
   ]
  },
  {
   "cell_type": "markdown",
   "id": "8e737e8d",
   "metadata": {},
   "source": [
    "The primary objectives of this analysis are as follows:\n",
    "\n",
    "1. **Identify Water Quality Clusters**: Through clustering analysis, I aim to group well water sources in Bandung into clusters with similar water quality profiles. These clusters will provide a clearer understanding of regional trends and variations in water quality.\n",
    "2. **Promote Public Health and Environmental Awareness**: Additionally, this analysis can be seen as a contribution to the enhancement of public health and the preservation of the environment by promoting public health and environmental awareness, especially in the quality of well water for the residents of Bandung."
   ]
  },
  {
   "cell_type": "markdown",
   "id": "b4395284",
   "metadata": {},
   "source": [
    "# Dataset"
   ]
  },
  {
   "cell_type": "markdown",
   "id": "a8e2ad7a",
   "metadata": {},
   "source": [
    "***For some privacy reason, I can’t share the dataset source here.***"
   ]
  },
  {
   "cell_type": "code",
   "execution_count": 1,
   "id": "bbb71783",
   "metadata": {
    "ExecuteTime": {
     "end_time": "2023-11-16T14:33:36.841201Z",
     "start_time": "2023-11-16T14:33:28.044495Z"
    },
    "scrolled": false
   },
   "outputs": [],
   "source": [
    "#| echo: false\n",
    "import numpy as np\n",
    "import pandas as pd\n",
    "import matplotlib.pyplot as plt\n",
    "import seaborn as sns"
   ]
  },
  {
   "cell_type": "markdown",
   "id": "4bc3dcb9",
   "metadata": {},
   "source": [
    "The dataset has 160 rows and 11 columns. Let’s take a quick look at the data."
   ]
  },
  {
   "cell_type": "code",
   "execution_count": 2,
   "id": "9312eef7",
   "metadata": {
    "ExecuteTime": {
     "end_time": "2023-11-16T14:33:37.668353Z",
     "start_time": "2023-11-16T14:33:36.919477Z"
    },
    "scrolled": false
   },
   "outputs": [
    {
     "data": {
      "text/html": [
       "<div>\n",
       "<style scoped>\n",
       "    .dataframe tbody tr th:only-of-type {\n",
       "        vertical-align: middle;\n",
       "    }\n",
       "\n",
       "    .dataframe tbody tr th {\n",
       "        vertical-align: top;\n",
       "    }\n",
       "\n",
       "    .dataframe thead th {\n",
       "        text-align: right;\n",
       "    }\n",
       "</style>\n",
       "<table border=\"1\" class=\"dataframe\">\n",
       "  <thead>\n",
       "    <tr style=\"text-align: right;\">\n",
       "      <th></th>\n",
       "      <th>Sampel ID</th>\n",
       "      <th>As</th>\n",
       "      <th>Cd</th>\n",
       "      <th>Co</th>\n",
       "      <th>Cr</th>\n",
       "      <th>Cu</th>\n",
       "      <th>Fe</th>\n",
       "      <th>Hg</th>\n",
       "      <th>Mn</th>\n",
       "      <th>Pb</th>\n",
       "      <th>Zn</th>\n",
       "    </tr>\n",
       "    <tr>\n",
       "      <th>No</th>\n",
       "      <th></th>\n",
       "      <th></th>\n",
       "      <th></th>\n",
       "      <th></th>\n",
       "      <th></th>\n",
       "      <th></th>\n",
       "      <th></th>\n",
       "      <th></th>\n",
       "      <th></th>\n",
       "      <th></th>\n",
       "      <th></th>\n",
       "    </tr>\n",
       "  </thead>\n",
       "  <tbody>\n",
       "    <tr>\n",
       "      <th>1</th>\n",
       "      <td>MJ-AS-01</td>\n",
       "      <td>0.0062</td>\n",
       "      <td>0.0001</td>\n",
       "      <td>0.0026</td>\n",
       "      <td>0.0069</td>\n",
       "      <td>0.0100</td>\n",
       "      <td>1.6585</td>\n",
       "      <td>0.0001</td>\n",
       "      <td>0.3428</td>\n",
       "      <td>0.0001</td>\n",
       "      <td>0.1079</td>\n",
       "    </tr>\n",
       "    <tr>\n",
       "      <th>2</th>\n",
       "      <td>MJ-AS-03</td>\n",
       "      <td>0.0212</td>\n",
       "      <td>0.0006</td>\n",
       "      <td>0.0001</td>\n",
       "      <td>0.0070</td>\n",
       "      <td>0.0077</td>\n",
       "      <td>3.7910</td>\n",
       "      <td>0.0001</td>\n",
       "      <td>0.4119</td>\n",
       "      <td>0.0119</td>\n",
       "      <td>0.0309</td>\n",
       "    </tr>\n",
       "    <tr>\n",
       "      <th>3</th>\n",
       "      <td>MJ-AS-04</td>\n",
       "      <td>0.0065</td>\n",
       "      <td>0.0001</td>\n",
       "      <td>0.0001</td>\n",
       "      <td>0.0062</td>\n",
       "      <td>0.0073</td>\n",
       "      <td>0.0820</td>\n",
       "      <td>0.0001</td>\n",
       "      <td>0.2206</td>\n",
       "      <td>0.0186</td>\n",
       "      <td>0.0521</td>\n",
       "    </tr>\n",
       "    <tr>\n",
       "      <th>4</th>\n",
       "      <td>MJ-AS-05</td>\n",
       "      <td>0.0162</td>\n",
       "      <td>0.0006</td>\n",
       "      <td>0.0001</td>\n",
       "      <td>0.0084</td>\n",
       "      <td>0.0094</td>\n",
       "      <td>1.4833</td>\n",
       "      <td>0.0001</td>\n",
       "      <td>0.4985</td>\n",
       "      <td>0.0001</td>\n",
       "      <td>0.0886</td>\n",
       "    </tr>\n",
       "    <tr>\n",
       "      <th>5</th>\n",
       "      <td>MJ-AS-05B</td>\n",
       "      <td>0.0194</td>\n",
       "      <td>0.0001</td>\n",
       "      <td>0.0001</td>\n",
       "      <td>0.0086</td>\n",
       "      <td>0.0098</td>\n",
       "      <td>2.3356</td>\n",
       "      <td>0.0001</td>\n",
       "      <td>0.1716</td>\n",
       "      <td>0.0196</td>\n",
       "      <td>0.0641</td>\n",
       "    </tr>\n",
       "    <tr>\n",
       "      <th>...</th>\n",
       "      <td>...</td>\n",
       "      <td>...</td>\n",
       "      <td>...</td>\n",
       "      <td>...</td>\n",
       "      <td>...</td>\n",
       "      <td>...</td>\n",
       "      <td>...</td>\n",
       "      <td>...</td>\n",
       "      <td>...</td>\n",
       "      <td>...</td>\n",
       "      <td>...</td>\n",
       "    </tr>\n",
       "    <tr>\n",
       "      <th>156</th>\n",
       "      <td>SR-ASAM-08</td>\n",
       "      <td>0.0164</td>\n",
       "      <td>0.0001</td>\n",
       "      <td>0.0001</td>\n",
       "      <td>0.0059</td>\n",
       "      <td>0.0024</td>\n",
       "      <td>0.3552</td>\n",
       "      <td>0.0001</td>\n",
       "      <td>0.0012</td>\n",
       "      <td>0.0001</td>\n",
       "      <td>0.0739</td>\n",
       "    </tr>\n",
       "    <tr>\n",
       "      <th>157</th>\n",
       "      <td>SR-ASAM-14</td>\n",
       "      <td>0.0196</td>\n",
       "      <td>0.0019</td>\n",
       "      <td>0.0171</td>\n",
       "      <td>0.0053</td>\n",
       "      <td>0.0125</td>\n",
       "      <td>0.1067</td>\n",
       "      <td>0.0001</td>\n",
       "      <td>0.7120</td>\n",
       "      <td>0.0495</td>\n",
       "      <td>0.8312</td>\n",
       "    </tr>\n",
       "    <tr>\n",
       "      <th>158</th>\n",
       "      <td>SR-ASAM-20</td>\n",
       "      <td>0.0062</td>\n",
       "      <td>0.0001</td>\n",
       "      <td>0.0085</td>\n",
       "      <td>0.0076</td>\n",
       "      <td>0.0089</td>\n",
       "      <td>0.0684</td>\n",
       "      <td>0.0001</td>\n",
       "      <td>1.1956</td>\n",
       "      <td>0.0235</td>\n",
       "      <td>0.0755</td>\n",
       "    </tr>\n",
       "    <tr>\n",
       "      <th>159</th>\n",
       "      <td>SR-ASAM-21</td>\n",
       "      <td>0.0070</td>\n",
       "      <td>0.0001</td>\n",
       "      <td>0.0015</td>\n",
       "      <td>0.0072</td>\n",
       "      <td>0.0033</td>\n",
       "      <td>0.0547</td>\n",
       "      <td>0.0050</td>\n",
       "      <td>0.1624</td>\n",
       "      <td>0.0001</td>\n",
       "      <td>0.0606</td>\n",
       "    </tr>\n",
       "    <tr>\n",
       "      <th>160</th>\n",
       "      <td>SR-ASAM-22</td>\n",
       "      <td>0.0110</td>\n",
       "      <td>0.0001</td>\n",
       "      <td>0.0002</td>\n",
       "      <td>0.0054</td>\n",
       "      <td>0.0021</td>\n",
       "      <td>0.0826</td>\n",
       "      <td>0.0001</td>\n",
       "      <td>0.0058</td>\n",
       "      <td>0.0001</td>\n",
       "      <td>0.8351</td>\n",
       "    </tr>\n",
       "  </tbody>\n",
       "</table>\n",
       "<p>160 rows × 11 columns</p>\n",
       "</div>"
      ],
      "text/plain": [
       "      Sampel ID      As      Cd      Co      Cr      Cu      Fe      Hg  \\\n",
       "No                                                                        \n",
       "1      MJ-AS-01  0.0062  0.0001  0.0026  0.0069  0.0100  1.6585  0.0001   \n",
       "2      MJ-AS-03  0.0212  0.0006  0.0001  0.0070  0.0077  3.7910  0.0001   \n",
       "3      MJ-AS-04  0.0065  0.0001  0.0001  0.0062  0.0073  0.0820  0.0001   \n",
       "4      MJ-AS-05  0.0162  0.0006  0.0001  0.0084  0.0094  1.4833  0.0001   \n",
       "5     MJ-AS-05B  0.0194  0.0001  0.0001  0.0086  0.0098  2.3356  0.0001   \n",
       "..          ...     ...     ...     ...     ...     ...     ...     ...   \n",
       "156  SR-ASAM-08  0.0164  0.0001  0.0001  0.0059  0.0024  0.3552  0.0001   \n",
       "157  SR-ASAM-14  0.0196  0.0019  0.0171  0.0053  0.0125  0.1067  0.0001   \n",
       "158  SR-ASAM-20  0.0062  0.0001  0.0085  0.0076  0.0089  0.0684  0.0001   \n",
       "159  SR-ASAM-21  0.0070  0.0001  0.0015  0.0072  0.0033  0.0547  0.0050   \n",
       "160  SR-ASAM-22  0.0110  0.0001  0.0002  0.0054  0.0021  0.0826  0.0001   \n",
       "\n",
       "         Mn      Pb      Zn  \n",
       "No                           \n",
       "1    0.3428  0.0001  0.1079  \n",
       "2    0.4119  0.0119  0.0309  \n",
       "3    0.2206  0.0186  0.0521  \n",
       "4    0.4985  0.0001  0.0886  \n",
       "5    0.1716  0.0196  0.0641  \n",
       "..      ...     ...     ...  \n",
       "156  0.0012  0.0001  0.0739  \n",
       "157  0.7120  0.0495  0.8312  \n",
       "158  1.1956  0.0235  0.0755  \n",
       "159  0.1624  0.0001  0.0606  \n",
       "160  0.0058  0.0001  0.8351  \n",
       "\n",
       "[160 rows x 11 columns]"
      ]
     },
     "execution_count": 2,
     "metadata": {},
     "output_type": "execute_result"
    }
   ],
   "source": [
    "#| label: tbl-1\n",
    "#| tbl-cap: \"Data Snippet\"\n",
    "# Data Preview\n",
    "data = pd.read_excel(\n",
    "    \"Data Analisis Statistik-2023-kualitas air-raw.xlsx\", index_col=0)\n",
    "\n",
    "# We don't need these '>BM xx' data because we don't have information about what these indicators really mean\n",
    "# Also, for skill demonstration purpose, I will remove the 'Kode' and 'Jenis Air' columns first.\n",
    "data = data.drop(['Nomor sampel', 'Kode', 'Jenis Air', '>BM Cd',\n",
    "                 '>bm Hg', '>BM Mn', '>BM Pb', '>BM Zn', '>BM Fe'], axis=1)\n",
    "data"
   ]
  },
  {
   "cell_type": "markdown",
   "id": "cd05126a",
   "metadata": {},
   "source": [
    "The first column is an ID where its values are formatted as Region Code-Water Type-Sample Number. As we will see later, there are 2 type of water:\n",
    "\n",
    "- ASAM (drinkable)\n",
    "- AS (not drinkable)\n",
    "\n",
    "and 7 different region code:\n",
    "\n",
    "- MJ (Majalengka)\n",
    "- BL (Baleendah)\n",
    "- CP (Ciparay)\n",
    "- PC (Pacet)\n",
    "- PL (Pangalengan)\n",
    "- RC (Rancaekek)\n",
    "- SR (Soreang)\n",
    "\n",
    "The rest of the columns are indicators of how much the water is contaminated by the associated substances."
   ]
  },
  {
   "cell_type": "markdown",
   "id": "31fea8e1",
   "metadata": {},
   "source": [
    "# Pre-analysis"
   ]
  },
  {
   "cell_type": "markdown",
   "id": "46627088",
   "metadata": {},
   "source": [
    "## Extract Code and Water Type"
   ]
  },
  {
   "cell_type": "markdown",
   "id": "24d83b0b",
   "metadata": {},
   "source": [
    "As mentioned earlier, the ID values are formatted as Region Code-Water Type-Sample Number. To make the analysis easier, I will extract the **region code and water type** from the ID value into their own column. "
   ]
  },
  {
   "cell_type": "code",
   "execution_count": 3,
   "id": "7c84928b",
   "metadata": {
    "ExecuteTime": {
     "end_time": "2023-11-16T14:33:37.761770Z",
     "start_time": "2023-11-16T14:33:37.749517Z"
    }
   },
   "outputs": [],
   "source": [
    "# split the ID value, then get the first string for the region and second string for the type\n",
    "data['Region'] = data['Sampel ID'].str.split('-').str[0]\n",
    "data['Type'] = data['Sampel ID'].str.split('-').str[1]"
   ]
  },
  {
   "cell_type": "code",
   "execution_count": 4,
   "id": "641e6852",
   "metadata": {
    "ExecuteTime": {
     "end_time": "2023-11-16T14:33:37.855745Z",
     "start_time": "2023-11-16T14:33:37.843166Z"
    }
   },
   "outputs": [
    {
     "data": {
      "text/html": [
       "<div>\n",
       "<style scoped>\n",
       "    .dataframe tbody tr th:only-of-type {\n",
       "        vertical-align: middle;\n",
       "    }\n",
       "\n",
       "    .dataframe tbody tr th {\n",
       "        vertical-align: top;\n",
       "    }\n",
       "\n",
       "    .dataframe thead th {\n",
       "        text-align: right;\n",
       "    }\n",
       "</style>\n",
       "<table border=\"1\" class=\"dataframe\">\n",
       "  <thead>\n",
       "    <tr style=\"text-align: right;\">\n",
       "      <th></th>\n",
       "      <th>Sampel ID</th>\n",
       "      <th>As</th>\n",
       "      <th>Cd</th>\n",
       "      <th>Co</th>\n",
       "      <th>Cr</th>\n",
       "      <th>Cu</th>\n",
       "      <th>Fe</th>\n",
       "      <th>Hg</th>\n",
       "      <th>Mn</th>\n",
       "      <th>Pb</th>\n",
       "      <th>Zn</th>\n",
       "      <th>Region</th>\n",
       "      <th>Type</th>\n",
       "    </tr>\n",
       "    <tr>\n",
       "      <th>No</th>\n",
       "      <th></th>\n",
       "      <th></th>\n",
       "      <th></th>\n",
       "      <th></th>\n",
       "      <th></th>\n",
       "      <th></th>\n",
       "      <th></th>\n",
       "      <th></th>\n",
       "      <th></th>\n",
       "      <th></th>\n",
       "      <th></th>\n",
       "      <th></th>\n",
       "      <th></th>\n",
       "    </tr>\n",
       "  </thead>\n",
       "  <tbody>\n",
       "    <tr>\n",
       "      <th>1</th>\n",
       "      <td>MJ-AS-01</td>\n",
       "      <td>0.0062</td>\n",
       "      <td>0.0001</td>\n",
       "      <td>0.0026</td>\n",
       "      <td>0.0069</td>\n",
       "      <td>0.0100</td>\n",
       "      <td>1.6585</td>\n",
       "      <td>0.0001</td>\n",
       "      <td>0.3428</td>\n",
       "      <td>0.0001</td>\n",
       "      <td>0.1079</td>\n",
       "      <td>MJ</td>\n",
       "      <td>AS</td>\n",
       "    </tr>\n",
       "    <tr>\n",
       "      <th>2</th>\n",
       "      <td>MJ-AS-03</td>\n",
       "      <td>0.0212</td>\n",
       "      <td>0.0006</td>\n",
       "      <td>0.0001</td>\n",
       "      <td>0.0070</td>\n",
       "      <td>0.0077</td>\n",
       "      <td>3.7910</td>\n",
       "      <td>0.0001</td>\n",
       "      <td>0.4119</td>\n",
       "      <td>0.0119</td>\n",
       "      <td>0.0309</td>\n",
       "      <td>MJ</td>\n",
       "      <td>AS</td>\n",
       "    </tr>\n",
       "    <tr>\n",
       "      <th>3</th>\n",
       "      <td>MJ-AS-04</td>\n",
       "      <td>0.0065</td>\n",
       "      <td>0.0001</td>\n",
       "      <td>0.0001</td>\n",
       "      <td>0.0062</td>\n",
       "      <td>0.0073</td>\n",
       "      <td>0.0820</td>\n",
       "      <td>0.0001</td>\n",
       "      <td>0.2206</td>\n",
       "      <td>0.0186</td>\n",
       "      <td>0.0521</td>\n",
       "      <td>MJ</td>\n",
       "      <td>AS</td>\n",
       "    </tr>\n",
       "  </tbody>\n",
       "</table>\n",
       "</div>"
      ],
      "text/plain": [
       "   Sampel ID      As      Cd      Co      Cr      Cu      Fe      Hg      Mn  \\\n",
       "No                                                                             \n",
       "1   MJ-AS-01  0.0062  0.0001  0.0026  0.0069  0.0100  1.6585  0.0001  0.3428   \n",
       "2   MJ-AS-03  0.0212  0.0006  0.0001  0.0070  0.0077  3.7910  0.0001  0.4119   \n",
       "3   MJ-AS-04  0.0065  0.0001  0.0001  0.0062  0.0073  0.0820  0.0001  0.2206   \n",
       "\n",
       "        Pb      Zn Region Type  \n",
       "No                              \n",
       "1   0.0001  0.1079     MJ   AS  \n",
       "2   0.0119  0.0309     MJ   AS  \n",
       "3   0.0186  0.0521     MJ   AS  "
      ]
     },
     "execution_count": 4,
     "metadata": {},
     "output_type": "execute_result"
    }
   ],
   "source": [
    "#| label: tbl-2\n",
    "#| tbl-cap: \"First three rows of modified data\"\n",
    "#| echo: false\n",
    "data.head(3)"
   ]
  },
  {
   "cell_type": "markdown",
   "id": "7b2478b5",
   "metadata": {},
   "source": [
    "Great. Now let's check if the new columns were extracted correctly."
   ]
  },
  {
   "cell_type": "code",
   "execution_count": 5,
   "id": "05ad96a5",
   "metadata": {
    "ExecuteTime": {
     "end_time": "2023-11-16T14:33:37.949097Z",
     "start_time": "2023-11-16T14:33:37.935579Z"
    }
   },
   "outputs": [
    {
     "name": "stdout",
     "output_type": "stream",
     "text": [
      "Region unique values: ['MJ' 'BL' 'CP' 'PC' 'PL' 'RC' 'SR']\n",
      "Type unique values: ['AS' 'ASAM' '08' '11' '12' '13' 'ASAM‐19']\n"
     ]
    }
   ],
   "source": [
    "print('Region unique values:', data['Region'].unique())\n",
    "\n",
    "print('Type unique values:', data['Type'].unique())"
   ]
  },
  {
   "cell_type": "markdown",
   "id": "e0ec8fff",
   "metadata": {},
   "source": [
    "Now we have a problem. The `type` column should only consists of AS or ASAM. As you can see, there's another value present in this data. Let's figure out which rows contain these errors."
   ]
  },
  {
   "cell_type": "code",
   "execution_count": 6,
   "id": "de9814d2",
   "metadata": {
    "ExecuteTime": {
     "end_time": "2023-11-16T14:33:38.043491Z",
     "start_time": "2023-11-16T14:33:38.028895Z"
    }
   },
   "outputs": [
    {
     "data": {
      "text/html": [
       "<div>\n",
       "<style scoped>\n",
       "    .dataframe tbody tr th:only-of-type {\n",
       "        vertical-align: middle;\n",
       "    }\n",
       "\n",
       "    .dataframe tbody tr th {\n",
       "        vertical-align: top;\n",
       "    }\n",
       "\n",
       "    .dataframe thead th {\n",
       "        text-align: right;\n",
       "    }\n",
       "</style>\n",
       "<table border=\"1\" class=\"dataframe\">\n",
       "  <thead>\n",
       "    <tr style=\"text-align: right;\">\n",
       "      <th></th>\n",
       "      <th>Sampel ID</th>\n",
       "      <th>As</th>\n",
       "      <th>Cd</th>\n",
       "      <th>Co</th>\n",
       "      <th>Cr</th>\n",
       "      <th>Cu</th>\n",
       "      <th>Fe</th>\n",
       "      <th>Hg</th>\n",
       "      <th>Mn</th>\n",
       "      <th>Pb</th>\n",
       "      <th>Zn</th>\n",
       "      <th>Region</th>\n",
       "      <th>Type</th>\n",
       "    </tr>\n",
       "    <tr>\n",
       "      <th>No</th>\n",
       "      <th></th>\n",
       "      <th></th>\n",
       "      <th></th>\n",
       "      <th></th>\n",
       "      <th></th>\n",
       "      <th></th>\n",
       "      <th></th>\n",
       "      <th></th>\n",
       "      <th></th>\n",
       "      <th></th>\n",
       "      <th></th>\n",
       "      <th></th>\n",
       "      <th></th>\n",
       "    </tr>\n",
       "  </thead>\n",
       "  <tbody>\n",
       "    <tr>\n",
       "      <th>52</th>\n",
       "      <td>CP-08-AS</td>\n",
       "      <td>0.0155</td>\n",
       "      <td>0.0010</td>\n",
       "      <td>0.0001</td>\n",
       "      <td>0.0128</td>\n",
       "      <td>0.0113</td>\n",
       "      <td>6.2391</td>\n",
       "      <td>0.0001</td>\n",
       "      <td>0.6119</td>\n",
       "      <td>0.0142</td>\n",
       "      <td>0.1370</td>\n",
       "      <td>CP</td>\n",
       "      <td>08</td>\n",
       "    </tr>\n",
       "    <tr>\n",
       "      <th>53</th>\n",
       "      <td>CP-11-ASAM</td>\n",
       "      <td>0.0190</td>\n",
       "      <td>0.0009</td>\n",
       "      <td>0.0001</td>\n",
       "      <td>0.0172</td>\n",
       "      <td>0.0106</td>\n",
       "      <td>0.2971</td>\n",
       "      <td>0.0001</td>\n",
       "      <td>0.0250</td>\n",
       "      <td>0.0151</td>\n",
       "      <td>0.1104</td>\n",
       "      <td>CP</td>\n",
       "      <td>11</td>\n",
       "    </tr>\n",
       "    <tr>\n",
       "      <th>54</th>\n",
       "      <td>CP-12-AS</td>\n",
       "      <td>0.0134</td>\n",
       "      <td>0.0001</td>\n",
       "      <td>0.0008</td>\n",
       "      <td>0.0186</td>\n",
       "      <td>0.0119</td>\n",
       "      <td>0.2941</td>\n",
       "      <td>0.0001</td>\n",
       "      <td>0.2472</td>\n",
       "      <td>0.0049</td>\n",
       "      <td>0.1761</td>\n",
       "      <td>CP</td>\n",
       "      <td>12</td>\n",
       "    </tr>\n",
       "    <tr>\n",
       "      <th>55</th>\n",
       "      <td>CP-13-AS</td>\n",
       "      <td>0.0133</td>\n",
       "      <td>0.0010</td>\n",
       "      <td>0.0016</td>\n",
       "      <td>0.0296</td>\n",
       "      <td>0.0138</td>\n",
       "      <td>3.1102</td>\n",
       "      <td>0.0001</td>\n",
       "      <td>0.4770</td>\n",
       "      <td>0.0055</td>\n",
       "      <td>0.1123</td>\n",
       "      <td>CP</td>\n",
       "      <td>13</td>\n",
       "    </tr>\n",
       "    <tr>\n",
       "      <th>70</th>\n",
       "      <td>CP-ASAM‐19</td>\n",
       "      <td>0.0023</td>\n",
       "      <td>0.0010</td>\n",
       "      <td>0.0001</td>\n",
       "      <td>0.0135</td>\n",
       "      <td>0.0311</td>\n",
       "      <td>0.1585</td>\n",
       "      <td>0.0001</td>\n",
       "      <td>0.0893</td>\n",
       "      <td>0.0001</td>\n",
       "      <td>0.2647</td>\n",
       "      <td>CP</td>\n",
       "      <td>ASAM‐19</td>\n",
       "    </tr>\n",
       "  </tbody>\n",
       "</table>\n",
       "</div>"
      ],
      "text/plain": [
       "     Sampel ID      As      Cd      Co      Cr      Cu      Fe      Hg  \\\n",
       "No                                                                       \n",
       "52    CP-08-AS  0.0155  0.0010  0.0001  0.0128  0.0113  6.2391  0.0001   \n",
       "53  CP-11-ASAM  0.0190  0.0009  0.0001  0.0172  0.0106  0.2971  0.0001   \n",
       "54    CP-12-AS  0.0134  0.0001  0.0008  0.0186  0.0119  0.2941  0.0001   \n",
       "55    CP-13-AS  0.0133  0.0010  0.0016  0.0296  0.0138  3.1102  0.0001   \n",
       "70  CP-ASAM‐19  0.0023  0.0010  0.0001  0.0135  0.0311  0.1585  0.0001   \n",
       "\n",
       "        Mn      Pb      Zn Region     Type  \n",
       "No                                          \n",
       "52  0.6119  0.0142  0.1370     CP       08  \n",
       "53  0.0250  0.0151  0.1104     CP       11  \n",
       "54  0.2472  0.0049  0.1761     CP       12  \n",
       "55  0.4770  0.0055  0.1123     CP       13  \n",
       "70  0.0893  0.0001  0.2647     CP  ASAM‐19  "
      ]
     },
     "execution_count": 6,
     "metadata": {},
     "output_type": "execute_result"
    }
   ],
   "source": [
    "#| label: tbl-3\n",
    "#| tbl-cap: \"Rows contain errors\"\n",
    "data[~data['Sampel ID'].str.split('-').str[1].isin(['AS', 'ASAM'])]"
   ]
  },
  {
   "cell_type": "markdown",
   "id": "91fb85a0",
   "metadata": {},
   "source": [
    "Looks like there are only 5 rows that are problematic. Let's just fix them manually."
   ]
  },
  {
   "cell_type": "code",
   "execution_count": 7,
   "id": "b2195c94",
   "metadata": {
    "ExecuteTime": {
     "end_time": "2023-11-16T14:33:39.962163Z",
     "start_time": "2023-11-16T14:33:39.948865Z"
    }
   },
   "outputs": [],
   "source": [
    "data.loc[[52, 54, 55], 'Type'] = 'AS'\n",
    "data.loc[[53, 70], 'Type'] = 'ASAM'"
   ]
  },
  {
   "cell_type": "markdown",
   "id": "6cc3841e",
   "metadata": {},
   "source": [
    "Let's see if those rows already been changed."
   ]
  },
  {
   "cell_type": "code",
   "execution_count": 8,
   "id": "dfd098df",
   "metadata": {
    "ExecuteTime": {
     "end_time": "2023-11-16T14:33:41.340338Z",
     "start_time": "2023-11-16T14:33:41.319089Z"
    }
   },
   "outputs": [
    {
     "data": {
      "text/html": [
       "<div>\n",
       "<style scoped>\n",
       "    .dataframe tbody tr th:only-of-type {\n",
       "        vertical-align: middle;\n",
       "    }\n",
       "\n",
       "    .dataframe tbody tr th {\n",
       "        vertical-align: top;\n",
       "    }\n",
       "\n",
       "    .dataframe thead th {\n",
       "        text-align: right;\n",
       "    }\n",
       "</style>\n",
       "<table border=\"1\" class=\"dataframe\">\n",
       "  <thead>\n",
       "    <tr style=\"text-align: right;\">\n",
       "      <th></th>\n",
       "      <th>Sampel ID</th>\n",
       "      <th>As</th>\n",
       "      <th>Cd</th>\n",
       "      <th>Co</th>\n",
       "      <th>Cr</th>\n",
       "      <th>Cu</th>\n",
       "      <th>Fe</th>\n",
       "      <th>Hg</th>\n",
       "      <th>Mn</th>\n",
       "      <th>Pb</th>\n",
       "      <th>Zn</th>\n",
       "      <th>Region</th>\n",
       "      <th>Type</th>\n",
       "    </tr>\n",
       "    <tr>\n",
       "      <th>No</th>\n",
       "      <th></th>\n",
       "      <th></th>\n",
       "      <th></th>\n",
       "      <th></th>\n",
       "      <th></th>\n",
       "      <th></th>\n",
       "      <th></th>\n",
       "      <th></th>\n",
       "      <th></th>\n",
       "      <th></th>\n",
       "      <th></th>\n",
       "      <th></th>\n",
       "      <th></th>\n",
       "    </tr>\n",
       "  </thead>\n",
       "  <tbody>\n",
       "    <tr>\n",
       "      <th>52</th>\n",
       "      <td>CP-08-AS</td>\n",
       "      <td>0.0155</td>\n",
       "      <td>0.0010</td>\n",
       "      <td>0.0001</td>\n",
       "      <td>0.0128</td>\n",
       "      <td>0.0113</td>\n",
       "      <td>6.2391</td>\n",
       "      <td>0.0001</td>\n",
       "      <td>0.6119</td>\n",
       "      <td>0.0142</td>\n",
       "      <td>0.1370</td>\n",
       "      <td>CP</td>\n",
       "      <td>AS</td>\n",
       "    </tr>\n",
       "    <tr>\n",
       "      <th>53</th>\n",
       "      <td>CP-11-ASAM</td>\n",
       "      <td>0.0190</td>\n",
       "      <td>0.0009</td>\n",
       "      <td>0.0001</td>\n",
       "      <td>0.0172</td>\n",
       "      <td>0.0106</td>\n",
       "      <td>0.2971</td>\n",
       "      <td>0.0001</td>\n",
       "      <td>0.0250</td>\n",
       "      <td>0.0151</td>\n",
       "      <td>0.1104</td>\n",
       "      <td>CP</td>\n",
       "      <td>ASAM</td>\n",
       "    </tr>\n",
       "    <tr>\n",
       "      <th>54</th>\n",
       "      <td>CP-12-AS</td>\n",
       "      <td>0.0134</td>\n",
       "      <td>0.0001</td>\n",
       "      <td>0.0008</td>\n",
       "      <td>0.0186</td>\n",
       "      <td>0.0119</td>\n",
       "      <td>0.2941</td>\n",
       "      <td>0.0001</td>\n",
       "      <td>0.2472</td>\n",
       "      <td>0.0049</td>\n",
       "      <td>0.1761</td>\n",
       "      <td>CP</td>\n",
       "      <td>AS</td>\n",
       "    </tr>\n",
       "    <tr>\n",
       "      <th>55</th>\n",
       "      <td>CP-13-AS</td>\n",
       "      <td>0.0133</td>\n",
       "      <td>0.0010</td>\n",
       "      <td>0.0016</td>\n",
       "      <td>0.0296</td>\n",
       "      <td>0.0138</td>\n",
       "      <td>3.1102</td>\n",
       "      <td>0.0001</td>\n",
       "      <td>0.4770</td>\n",
       "      <td>0.0055</td>\n",
       "      <td>0.1123</td>\n",
       "      <td>CP</td>\n",
       "      <td>AS</td>\n",
       "    </tr>\n",
       "    <tr>\n",
       "      <th>70</th>\n",
       "      <td>CP-ASAM‐19</td>\n",
       "      <td>0.0023</td>\n",
       "      <td>0.0010</td>\n",
       "      <td>0.0001</td>\n",
       "      <td>0.0135</td>\n",
       "      <td>0.0311</td>\n",
       "      <td>0.1585</td>\n",
       "      <td>0.0001</td>\n",
       "      <td>0.0893</td>\n",
       "      <td>0.0001</td>\n",
       "      <td>0.2647</td>\n",
       "      <td>CP</td>\n",
       "      <td>ASAM</td>\n",
       "    </tr>\n",
       "  </tbody>\n",
       "</table>\n",
       "</div>"
      ],
      "text/plain": [
       "     Sampel ID      As      Cd      Co      Cr      Cu      Fe      Hg  \\\n",
       "No                                                                       \n",
       "52    CP-08-AS  0.0155  0.0010  0.0001  0.0128  0.0113  6.2391  0.0001   \n",
       "53  CP-11-ASAM  0.0190  0.0009  0.0001  0.0172  0.0106  0.2971  0.0001   \n",
       "54    CP-12-AS  0.0134  0.0001  0.0008  0.0186  0.0119  0.2941  0.0001   \n",
       "55    CP-13-AS  0.0133  0.0010  0.0016  0.0296  0.0138  3.1102  0.0001   \n",
       "70  CP-ASAM‐19  0.0023  0.0010  0.0001  0.0135  0.0311  0.1585  0.0001   \n",
       "\n",
       "        Mn      Pb      Zn Region  Type  \n",
       "No                                       \n",
       "52  0.6119  0.0142  0.1370     CP    AS  \n",
       "53  0.0250  0.0151  0.1104     CP  ASAM  \n",
       "54  0.2472  0.0049  0.1761     CP    AS  \n",
       "55  0.4770  0.0055  0.1123     CP    AS  \n",
       "70  0.0893  0.0001  0.2647     CP  ASAM  "
      ]
     },
     "execution_count": 8,
     "metadata": {},
     "output_type": "execute_result"
    }
   ],
   "source": [
    "#| label: tbl-4\n",
    "#| tbl-cap: \"Modified rows\"\n",
    "data[~data['Sampel ID'].str.split('-').str[1].isin(['AS', 'ASAM'])]"
   ]
  },
  {
   "cell_type": "markdown",
   "id": "95bac847",
   "metadata": {},
   "source": [
    "I think everything is fine by now. Next, we will proceed into the visualization part."
   ]
  },
  {
   "cell_type": "markdown",
   "id": "230964a3",
   "metadata": {},
   "source": [
    "# EDA\n"
   ]
  },
  {
   "cell_type": "markdown",
   "id": "42488555",
   "metadata": {},
   "source": [
    "Before proceeding into the clustering analysis, it is essential to do EDA first in order to gain a deep understanding of the dataset and the patterns it may reveal."
   ]
  },
  {
   "cell_type": "markdown",
   "id": "10367fb8",
   "metadata": {},
   "source": [
    "## Univariate EDA"
   ]
  },
  {
   "cell_type": "markdown",
   "id": "68e1ce4d",
   "metadata": {},
   "source": [
    "### Number of Well in Each Region"
   ]
  },
  {
   "cell_type": "markdown",
   "id": "daa01cac",
   "metadata": {},
   "source": [
    "In the dataset, it is important to notice that each region is represented by a relatively similar number of well samples, ranging from 18 samples to 27 samples. This balanced distribution of data across regions ensures that our analysis and clustering results will be relatively robust and unbiased by its geographical location."
   ]
  },
  {
   "cell_type": "code",
   "execution_count": 9,
   "id": "cec6cf26",
   "metadata": {
    "ExecuteTime": {
     "end_time": "2023-11-16T14:33:43.287582Z",
     "start_time": "2023-11-16T14:33:43.114475Z"
    }
   },
   "outputs": [
    {
     "data": {
      "image/png": "[encoded data removed]",
      "text/plain": [
       "<Figure size 720x360 with 1 Axes>"
      ]
     },
     "metadata": {
      "needs_background": "light"
     },
     "output_type": "display_data"
    }
   ],
   "source": [
    "#| label: fig-1\n",
    "#| fig-cap: \"Number of well in each region\"\n",
    "plt.figure(figsize=(10, 5))\n",
    "sns.countplot(data=data, x='Region', order=data['Region'].value_counts().index, color=\"tab:green\")\n",
    "plt.title(\"Number of Well in Each Region\")\n",
    "plt.show()"
   ]
  },
  {
   "cell_type": "markdown",
   "id": "ae8418eb",
   "metadata": {},
   "source": [
    "### Number of Well from Each Water Type"
   ]
  },
  {
   "cell_type": "markdown",
   "id": "67f56cc4",
   "metadata": {},
   "source": [
    "However, there are higher number of well with undrinkable water (AS) in comparison to well with drinkable water (ASAM). This disproportion emphasizes a significant concern regarding the availability of safe drinking water sources in the regions of Bandung, as a considerably larger proportion of the wells are observed to exhibit water quality issues."
   ]
  },
  {
   "cell_type": "code",
   "execution_count": 10,
   "id": "534ce465",
   "metadata": {
    "ExecuteTime": {
     "end_time": "2023-11-16T14:33:44.753753Z",
     "start_time": "2023-11-16T14:33:44.653035Z"
    }
   },
   "outputs": [
    {
     "data": {
      "image/png": "[encoded data removed]",
      "text/plain": [
       "<Figure size 576x360 with 1 Axes>"
      ]
     },
     "metadata": {
      "needs_background": "light"
     },
     "output_type": "display_data"
    }
   ],
   "source": [
    "#| label: fig-2\n",
    "#| fig-cap: \"Number of Well from Each Water Type\"\n",
    "plt.figure(figsize=(8, 5))\n",
    "sns.countplot(data=data, x='Type')\n",
    "plt.title(\"Number of Well from Each Water Type\")\n",
    "plt.show()"
   ]
  },
  {
   "cell_type": "markdown",
   "id": "06348b7c",
   "metadata": {},
   "source": [
    "### Number of Well in Each Region by Water Type"
   ]
  },
  {
   "cell_type": "markdown",
   "id": "875be3a7",
   "metadata": {},
   "source": [
    "While several regions like Pacet and Pangalengan already have more drinkable-water wells than undrinkable ones, most of the regions still grapple with a concerning disparity. In these areas, the amount of undrinkable-water wells not only surpasses their drinkable counterparts but does so by a substantial margin."
   ]
  },
  {
   "cell_type": "code",
   "execution_count": 11,
   "id": "ab3f725c",
   "metadata": {
    "ExecuteTime": {
     "end_time": "2023-11-16T14:33:46.351031Z",
     "start_time": "2023-11-16T14:33:46.156816Z"
    }
   },
   "outputs": [
    {
     "data": {
      "image/png": "[encoded data removed]",
      "text/plain": [
       "<Figure size 720x360 with 1 Axes>"
      ]
     },
     "metadata": {
      "needs_background": "light"
     },
     "output_type": "display_data"
    }
   ],
   "source": [
    "#| label: fig-3\n",
    "#| fig-cap: \"Number of Well in Each Region by Water Type\"\n",
    "plt.figure(figsize=(10, 5))\n",
    "sns.countplot(x='Region',\n",
    "              data=data,\n",
    "              order=['BL', 'CP', 'MJ', 'PC', 'PL', 'RC', 'SR'],\n",
    "              hue='Type')\n",
    "plt.title(\"Number of Well in Each Region by Water Type\")\n",
    "plt.show()"
   ]
  },
  {
   "cell_type": "markdown",
   "id": "f60e960b",
   "metadata": {},
   "source": [
    "### Mean of Substances Concentration in Each Region"
   ]
  },
  {
   "cell_type": "markdown",
   "id": "ed7c90d1",
   "metadata": {},
   "source": [
    "In any region, calculated by the mean of concentration, three substances dominates among another: iron (Fe), manganese (Mn), and zinc (Zn). In most of the regions, wells are heavily contaminated by iron. Some exceptions are Pacet and Pangalengan, where the wells are contaminated dominantly by manganese, and Soreang, where the wells are contaminated by iron and manganese equally."
   ]
  },
  {
   "cell_type": "code",
   "execution_count": 12,
   "id": "b5ecb259",
   "metadata": {
    "ExecuteTime": {
     "end_time": "2023-11-16T13:52:30.424354Z",
     "start_time": "2023-11-16T13:52:30.003584Z"
    }
   },
   "outputs": [
    {
     "data": {
      "image/png": "[encoded data removed]",
      "text/plain": [
       "<Figure size 864x684 with 1 Axes>"
      ]
     },
     "metadata": {
      "needs_background": "light"
     },
     "output_type": "display_data"
    }
   ],
   "source": [
    "#| label: fig-4\n",
    "#| fig-cap: \"Mean of Substances Concentration in Each Region\"\n",
    "data_gp = data.iloc[:, 1:-1].groupby(['Region']).agg('mean')\n",
    "res = data_gp.reset_index()\n",
    "res_wide = res.melt(id_vars=\"Region\")\n",
    "\n",
    "plt.figure(figsize=(12, 9.5))\n",
    "sns.barplot(x=\"Region\", y=\"value\", data=res_wide, hue='variable')\n",
    "plt.title('Mean of Substances Concentration in Each Region')\n",
    "plt.ylabel('')\n",
    "plt.show()"
   ]
  },
  {
   "cell_type": "markdown",
   "id": "664b8e40",
   "metadata": {},
   "source": [
    "### Mean of Substances Concentration in Each Region (AS/ASAM Only)"
   ]
  },
  {
   "cell_type": "markdown",
   "id": "e16d3380",
   "metadata": {},
   "source": [
    "If we take a look back at @fig-3, Pacet and Pangalengan are the only region that have more drinkable-water water source than the undrinkable one. This may suggest that low level of iron (or high level of manganese) contamination is one of the indicator for a healthy, drinkable water.\n",
    "\n",
    "However, if we look at the next two plots, where these are similar to @fig-4 but separated by the water type, there are undrinkable water with high level of manganese as well as drinkable water with high level of iron. Therefore, at least for now, neither manganese contamination level nor iron contamination level can be considered as an indicator of undrinkable water."
   ]
  },
  {
   "cell_type": "code",
   "execution_count": 13,
   "id": "77d51f44",
   "metadata": {
    "ExecuteTime": {
     "end_time": "2023-11-16T13:52:31.327656Z",
     "start_time": "2023-11-16T13:52:30.426361Z"
    }
   },
   "outputs": [
    {
     "data": {
      "image/png": "[encoded data removed]",
      "text/plain": [
       "<Figure size 864x684 with 1 Axes>"
      ]
     },
     "metadata": {
      "needs_background": "light"
     },
     "output_type": "display_data"
    },
    {
     "data": {
      "image/png": "[encoded data removed]",
      "text/plain": [
       "<Figure size 864x684 with 1 Axes>"
      ]
     },
     "metadata": {
      "needs_background": "light"
     },
     "output_type": "display_data"
    }
   ],
   "source": [
    "#| label: fig-5\n",
    "#| fig-cap: \"Mean of Substances Concentration in Each Region\"\n",
    "#| fig-subcap: \n",
    "#|   - \"(AS Only)\"\n",
    "#|   - \"(ASAM Only)\"\n",
    "#| layout-ncol: 2\n",
    "data_gp = data[data['Type'] == 'AS'].iloc[:, 1:-1].groupby(['Region']).agg('mean')\n",
    "res = data_gp.reset_index()\n",
    "res_wide=res.melt(id_vars=\"Region\")\n",
    "\n",
    "plt.figure(figsize=(12,9.5))\n",
    "sns.barplot(x=\"Region\", y=\"value\",data=res_wide, hue='variable')\n",
    "plt.title('Mean of Substances Concentration in Each Region (AS Only)')\n",
    "plt.ylabel('')\n",
    "plt.ylim(0, 2.5)\n",
    "plt.show()\n",
    "\n",
    "data_gp = data[data['Type'] == 'ASAM'].iloc[:, 1:-1].groupby(['Region']).agg('mean')\n",
    "res = data_gp.reset_index()\n",
    "res_wide=res.melt(id_vars=\"Region\")\n",
    "\n",
    "plt.figure(figsize=(12,9.5))\n",
    "sns.barplot(x=\"Region\", y=\"value\",data=res_wide, hue='variable')\n",
    "plt.title('Mean of Substances Concentration in Each Region (ASAM Only)')\n",
    "plt.ylabel('')\n",
    "plt.ylim(0, 2.5)\n",
    "plt.show()"
   ]
  },
  {
   "cell_type": "markdown",
   "id": "3ef794cd",
   "metadata": {},
   "source": [
    "## Multivariate EDA"
   ]
  },
  {
   "cell_type": "markdown",
   "id": "2bd2d254",
   "metadata": {},
   "source": [
    "### Substances Concentration Variable"
   ]
  },
  {
   "cell_type": "markdown",
   "id": "6737960b",
   "metadata": {},
   "source": [
    "Regarding the variables related to substances concentration, every single one of them has a positive skewed distribution. Because the plot for all 10 substances is too large, as an example, I will only show the distribution of three variable along with the correlation between each two of them.\n",
    "\n",
    "As for the results, there isn’t any notable result except for the fact that the Cadmium (Cd) and Lead (Pb) are highly correlated. Deeper knowledge about chemistry and water engineering might be needed to gain meaningful insights from this result."
   ]
  },
  {
   "cell_type": "code",
   "execution_count": 12,
   "id": "41f9fa6e",
   "metadata": {
    "ExecuteTime": {
     "end_time": "2023-11-16T14:33:54.553959Z",
     "start_time": "2023-11-16T14:33:51.607749Z"
    }
   },
   "outputs": [
    {
     "data": {
      "image/png": "[encoded data removed]",
      "text/plain": [
       "<Figure size 604.75x540 with 12 Axes>"
      ]
     },
     "metadata": {
      "needs_background": "light"
     },
     "output_type": "display_data"
    }
   ],
   "source": [
    "#| label: fig-6\n",
    "#| fig-cap: \"Distribution of 3 (out of 10) substance along with correlation between each two of them\"\n",
    "\n",
    "from scipy.stats import pearsonr\n",
    "\n",
    "def corrfunc(x, y, ax=None, hue=None, **kws):\n",
    "    \"\"\"Plot the correlation coefficient in the top left hand corner of a plot.\"\"\"\n",
    "    r, _ = pearsonr(x, y)\n",
    "    ax = ax or plt.gca()\n",
    "    ax.annotate(f'ρ = {r:.2f}', xy=(.1, .9), xycoords=ax.transAxes)\n",
    "\n",
    "g = sns.pairplot(data=data[['Pb', 'Cd', 'Hg', 'Type']], hue='Type', diag_kind='hist')\n",
    "g.map_lower(corrfunc)\n",
    "plt.show()"
   ]
  },
  {
   "cell_type": "markdown",
   "id": "3e34b1e4",
   "metadata": {},
   "source": [
    "# Clustering\n"
   ]
  },
  {
   "cell_type": "markdown",
   "id": "14fa93cd",
   "metadata": {},
   "source": [
    "We now turn our attention to the core of our analysis: clustering analysis."
   ]
  },
  {
   "cell_type": "markdown",
   "id": "9728426f",
   "metadata": {},
   "source": [
    "## Methods"
   ]
  },
  {
   "cell_type": "markdown",
   "id": "3d3e1ea1",
   "metadata": {},
   "source": [
    "In this analysis, I will specifically use **hierarchical clustering** method with four kinds of linkage:\n",
    "\n",
    "1. **Single linkage**, where the distance of two clusters A and B is defined with the **minimum** distance between a point in A and a point in B.\n",
    "$$\n",
    "{\\displaystyle \\min _{a\\in A,\\,b\\in B}d(a,b)}\n",
    "$$ {#eq-single-linkage}\n",
    "2. **Complete linkage**, where the distance of two clusters A and B is defined with the **maximum** distance between a point in A and a point in B. \n",
    "$$\n",
    "{\\displaystyle \\max _{a\\in A,\\,b\\in B}d(a,b)}\n",
    "$$ {#complete-linkage}\n",
    "3. **Average linkage**, where the distance between two clusters A and B is defined as the **average** of the distances between every points in A and every points in B.\n",
    "$$\n",
    "{\\displaystyle {\\frac {1}{|A|\\cdot |B|}}\\sum _{a\\in A}\\sum _{b\\in B}d(a,b)}\n",
    "$$ {#average-linkage}\n",
    "4. **Ward’s linkage**, where at each step, it joins two clusters A and B that minimize the increase in SSE (sum-squared error) defined as below. \n",
    "$$\n",
    "SSE = \\sum _{x\\in A\\cup B}\\lVert x-\\mu _{A\\cup B}\\rVert ^{2}-\\sum _{x\\in A}\\lVert x-\\mu _{A}\\rVert ^{2}-\\sum _{x\\in B}\\lVert x-\\mu _{B}\\rVert ^{2}\n",
    "$$ {#ward-linkage}"
   ]
  },
  {
   "cell_type": "markdown",
   "id": "0877e8ed",
   "metadata": {},
   "source": [
    "Note that at each step in single linkage, complete linkage, and average linkage, they join the two clusters with the smallest distance, as measured with the respective distance definition.\n",
    "\n",
    "In python, you can perform hierarchical analysis by utilizing the functions offered by the [SciPy](https://docs.scipy.org/doc/scipy/reference/cluster.hierarchy.html) package."
   ]
  },
  {
   "cell_type": "code",
   "execution_count": 13,
   "id": "e3e89b93",
   "metadata": {
    "ExecuteTime": {
     "end_time": "2023-11-16T14:34:00.668075Z",
     "start_time": "2023-11-16T14:34:00.650364Z"
    }
   },
   "outputs": [],
   "source": [
    "#| code-fold: false\n",
    "from scipy.cluster.hierarchy import dendrogram, linkage"
   ]
  },
  {
   "cell_type": "markdown",
   "id": "10faaf16",
   "metadata": {},
   "source": [
    "::: {.callout-tip}\n",
    "If you are not familiar yet with the concept of hierarchical clustering, I suggest you to read [this article](https://towardsdatascience.com/understanding-the-concept-of-hierarchical-clustering-technique-c6e8243758ec) and [this wikipedia page](https://en.wikipedia.org/wiki/Hierarchical_clustering).\n",
    ":::"
   ]
  },
  {
   "cell_type": "markdown",
   "id": "4109cfd8",
   "metadata": {},
   "source": [
    "## Number of Cluster"
   ]
  },
  {
   "cell_type": "markdown",
   "id": "7a931a01",
   "metadata": {},
   "source": [
    "From previous EDA, we have seen that the data often can be divided into three categories. For example, in @fig-3, we can categorize the data like this\n",
    "\n",
    "1. region where the number of AS well-water is more than ASAM water,\n",
    "2. region where the number of ASAM well-water is more than AS, and\n",
    "3. region where the number of AS well-water and ASAM well-water are equal."
   ]
  },
  {
   "cell_type": "markdown",
   "id": "0401ce3c",
   "metadata": {},
   "source": [
    "Another example is present in figure 8, where we can categorize the data like this\n",
    "1. region where the concentration mean of iron is higher than manganese,\n",
    "2. region where the concentration mean of manganese is higher than iron, and\n",
    "3. region where the concentration mean of iron and manganese are equal."
   ]
  },
  {
   "cell_type": "markdown",
   "id": "9e5a594a",
   "metadata": {},
   "source": [
    "Therefore, given the results of what we've explored (that sugggests there is an inherent structure and pattern in the data), I will choose **three** as the number of cluster in this analysis. Of course, these categorization may seems arbitrary (indeed they are). However, as we will see in the clustering result, the selection of three clusters is not a bad decision."
   ]
  },
  {
   "cell_type": "markdown",
   "id": "3fb83ae7",
   "metadata": {},
   "source": [
    "## Aggregation\n"
   ]
  },
  {
   "cell_type": "markdown",
   "id": "0b648966",
   "metadata": {},
   "source": [
    "The clustering process will be based on the substances concentrations value at each region. Because one region contains several wells, we need to aggregate them first. In this analysis I use the mean aggregation. You can see the result as below."
   ]
  },
  {
   "cell_type": "code",
   "execution_count": 14,
   "id": "f1fd2d8a",
   "metadata": {
    "ExecuteTime": {
     "end_time": "2023-11-16T14:34:03.578989Z",
     "start_time": "2023-11-16T14:34:03.551240Z"
    }
   },
   "outputs": [
    {
     "data": {
      "text/html": [
       "<div>\n",
       "<style scoped>\n",
       "    .dataframe tbody tr th:only-of-type {\n",
       "        vertical-align: middle;\n",
       "    }\n",
       "\n",
       "    .dataframe tbody tr th {\n",
       "        vertical-align: top;\n",
       "    }\n",
       "\n",
       "    .dataframe thead th {\n",
       "        text-align: right;\n",
       "    }\n",
       "</style>\n",
       "<table border=\"1\" class=\"dataframe\">\n",
       "  <thead>\n",
       "    <tr style=\"text-align: right;\">\n",
       "      <th></th>\n",
       "      <th>As</th>\n",
       "      <th>Cd</th>\n",
       "      <th>Co</th>\n",
       "      <th>Cr</th>\n",
       "      <th>Cu</th>\n",
       "      <th>Fe</th>\n",
       "      <th>Hg</th>\n",
       "      <th>Mn</th>\n",
       "      <th>Pb</th>\n",
       "      <th>Zn</th>\n",
       "    </tr>\n",
       "    <tr>\n",
       "      <th>Region</th>\n",
       "      <th></th>\n",
       "      <th></th>\n",
       "      <th></th>\n",
       "      <th></th>\n",
       "      <th></th>\n",
       "      <th></th>\n",
       "      <th></th>\n",
       "      <th></th>\n",
       "      <th></th>\n",
       "      <th></th>\n",
       "    </tr>\n",
       "  </thead>\n",
       "  <tbody>\n",
       "    <tr>\n",
       "      <th>BL</th>\n",
       "      <td>0.011117</td>\n",
       "      <td>0.001004</td>\n",
       "      <td>0.001029</td>\n",
       "      <td>0.008858</td>\n",
       "      <td>0.014692</td>\n",
       "      <td>0.973554</td>\n",
       "      <td>0.013504</td>\n",
       "      <td>0.377721</td>\n",
       "      <td>0.009838</td>\n",
       "      <td>0.455558</td>\n",
       "    </tr>\n",
       "    <tr>\n",
       "      <th>CP</th>\n",
       "      <td>0.012358</td>\n",
       "      <td>0.000517</td>\n",
       "      <td>0.000938</td>\n",
       "      <td>0.014554</td>\n",
       "      <td>0.013850</td>\n",
       "      <td>1.534404</td>\n",
       "      <td>0.000308</td>\n",
       "      <td>0.711413</td>\n",
       "      <td>0.007667</td>\n",
       "      <td>0.130892</td>\n",
       "    </tr>\n",
       "    <tr>\n",
       "      <th>MJ</th>\n",
       "      <td>0.008978</td>\n",
       "      <td>0.001396</td>\n",
       "      <td>0.000778</td>\n",
       "      <td>0.008219</td>\n",
       "      <td>0.008593</td>\n",
       "      <td>1.746515</td>\n",
       "      <td>0.000100</td>\n",
       "      <td>0.500022</td>\n",
       "      <td>0.019404</td>\n",
       "      <td>0.112393</td>\n",
       "    </tr>\n",
       "    <tr>\n",
       "      <th>PC</th>\n",
       "      <td>0.012085</td>\n",
       "      <td>0.000790</td>\n",
       "      <td>0.001235</td>\n",
       "      <td>0.009540</td>\n",
       "      <td>0.011375</td>\n",
       "      <td>0.461930</td>\n",
       "      <td>0.000100</td>\n",
       "      <td>1.225370</td>\n",
       "      <td>0.013360</td>\n",
       "      <td>0.048860</td>\n",
       "    </tr>\n",
       "    <tr>\n",
       "      <th>PL</th>\n",
       "      <td>0.009483</td>\n",
       "      <td>0.000633</td>\n",
       "      <td>0.002061</td>\n",
       "      <td>0.009728</td>\n",
       "      <td>0.009356</td>\n",
       "      <td>0.269589</td>\n",
       "      <td>0.008478</td>\n",
       "      <td>0.775944</td>\n",
       "      <td>0.005300</td>\n",
       "      <td>0.252650</td>\n",
       "    </tr>\n",
       "    <tr>\n",
       "      <th>RC</th>\n",
       "      <td>0.013460</td>\n",
       "      <td>0.001476</td>\n",
       "      <td>0.000780</td>\n",
       "      <td>0.011820</td>\n",
       "      <td>0.009332</td>\n",
       "      <td>0.999200</td>\n",
       "      <td>0.000100</td>\n",
       "      <td>0.658616</td>\n",
       "      <td>0.029140</td>\n",
       "      <td>0.143132</td>\n",
       "    </tr>\n",
       "    <tr>\n",
       "      <th>SR</th>\n",
       "      <td>0.009836</td>\n",
       "      <td>0.001145</td>\n",
       "      <td>0.001818</td>\n",
       "      <td>0.006677</td>\n",
       "      <td>0.005350</td>\n",
       "      <td>0.718868</td>\n",
       "      <td>0.004595</td>\n",
       "      <td>0.833150</td>\n",
       "      <td>0.018445</td>\n",
       "      <td>0.156645</td>\n",
       "    </tr>\n",
       "  </tbody>\n",
       "</table>\n",
       "</div>"
      ],
      "text/plain": [
       "              As        Cd        Co        Cr        Cu        Fe        Hg  \\\n",
       "Region                                                                         \n",
       "BL      0.011117  0.001004  0.001029  0.008858  0.014692  0.973554  0.013504   \n",
       "CP      0.012358  0.000517  0.000938  0.014554  0.013850  1.534404  0.000308   \n",
       "MJ      0.008978  0.001396  0.000778  0.008219  0.008593  1.746515  0.000100   \n",
       "PC      0.012085  0.000790  0.001235  0.009540  0.011375  0.461930  0.000100   \n",
       "PL      0.009483  0.000633  0.002061  0.009728  0.009356  0.269589  0.008478   \n",
       "RC      0.013460  0.001476  0.000780  0.011820  0.009332  0.999200  0.000100   \n",
       "SR      0.009836  0.001145  0.001818  0.006677  0.005350  0.718868  0.004595   \n",
       "\n",
       "              Mn        Pb        Zn  \n",
       "Region                                \n",
       "BL      0.377721  0.009838  0.455558  \n",
       "CP      0.711413  0.007667  0.130892  \n",
       "MJ      0.500022  0.019404  0.112393  \n",
       "PC      1.225370  0.013360  0.048860  \n",
       "PL      0.775944  0.005300  0.252650  \n",
       "RC      0.658616  0.029140  0.143132  \n",
       "SR      0.833150  0.018445  0.156645  "
      ]
     },
     "execution_count": 14,
     "metadata": {},
     "output_type": "execute_result"
    }
   ],
   "source": [
    "#| label: tbl-5\n",
    "#| tbl-cap: \"Aggregated Data\"\n",
    "data = data.iloc[:, 1:-1]\n",
    "agg_mean = data.groupby('Region').agg('mean')\n",
    "agg_mean"
   ]
  },
  {
   "cell_type": "markdown",
   "id": "293038cc",
   "metadata": {},
   "source": [
    "## Results (Dendrogram)\n"
   ]
  },
  {
   "cell_type": "markdown",
   "id": "12b70249",
   "metadata": {},
   "source": [
    "After applying the four clustering methods to the aggregated data, we achieve four dendrograms for each methods.\n",
    "\n",
    "According to the single method, we can see that **CP** with **MJ** are the most similar ones, therefore they might be belong to the same cluster. On the other side, we can also see that **RC** and **SR** are similar, so they might have their own cluster too. The next point that is closer to **RC** and **SR** is **BL**, followed by **PL** and **PC**."
   ]
  },
  {
   "cell_type": "code",
   "execution_count": 15,
   "id": "617ffae5",
   "metadata": {
    "ExecuteTime": {
     "end_time": "2023-11-16T14:34:05.844204Z",
     "start_time": "2023-11-16T14:34:05.655906Z"
    }
   },
   "outputs": [
    {
     "data": {
      "image/png": "[encoded data removed]",
      "text/plain": [
       "<Figure size 1800x720 with 1 Axes>"
      ]
     },
     "metadata": {
      "needs_background": "light"
     },
     "output_type": "display_data"
    }
   ],
   "source": [
    "#| label: fig-7\n",
    "#| fig-cap: \"Dendrogram of Single Ward Method\"\n",
    "agg_mean = data.groupby('Region').agg('mean')\n",
    "Z = linkage(agg_mean, 'single')\n",
    "fig = plt.figure(figsize=(25, 10))\n",
    "dn = dendrogram(Z, labels=agg_mean.index)\n",
    "plt.title('Single')\n",
    "plt.show()"
   ]
  },
  {
   "cell_type": "markdown",
   "id": "72cc8d94",
   "metadata": {},
   "source": [
    "In fact, if we look at the next three dendrogram resulting from the average linkage, complete linkage, and ward linkage, we can see the similar pattern with only a slight difference. In these three methods, BL-RC-SR cluster are joined with the PC-PL cluster, rather than joined with PL and then PC like we have seen from the single linkage."
   ]
  },
  {
   "cell_type": "code",
   "execution_count": 19,
   "id": "d0efa318",
   "metadata": {
    "ExecuteTime": {
     "end_time": "2023-11-16T14:36:08.070046Z",
     "start_time": "2023-11-16T14:36:07.568325Z"
    }
   },
   "outputs": [
    {
     "data": {
      "image/png": "[encoded data removed]",
      "text/plain": [
       "<Figure size 1800x720 with 1 Axes>"
      ]
     },
     "metadata": {
      "needs_background": "light"
     },
     "output_type": "display_data"
    }
   ],
   "source": [
    "#| label: fig-8\n",
    "#| fig-cap: \"Dendrogram of Average Method\"\n",
    "Z = linkage(agg_mean, 'average')\n",
    "fig = plt.figure(figsize=(25, 10))\n",
    "dn = dendrogram(Z, labels=agg_mean.index)\n",
    "plt.title('Average')\n",
    "plt.show()"
   ]
  },
  {
   "cell_type": "code",
   "execution_count": 19,
   "id": "58953fdf",
   "metadata": {
    "ExecuteTime": {
     "end_time": "2023-11-16T13:52:33.771186Z",
     "start_time": "2023-11-16T13:52:33.599130Z"
    }
   },
   "outputs": [
    {
     "data": {
      "image/png": "[encoded data removed]",
      "text/plain": [
       "<Figure size 1800x720 with 1 Axes>"
      ]
     },
     "metadata": {
      "needs_background": "light"
     },
     "output_type": "display_data"
    }
   ],
   "source": [
    "#| label: fig-9\n",
    "#| fig-cap: \"Dendrogram of Complete Method\"\n",
    "Z = linkage(agg_mean, 'complete')\n",
    "fig = plt.figure(figsize=(25, 10))\n",
    "dn = dendrogram(Z, labels=agg_mean.index)\n",
    "plt.title('Complete')\n",
    "plt.show()"
   ]
  },
  {
   "cell_type": "code",
   "execution_count": 20,
   "id": "68271e39",
   "metadata": {
    "ExecuteTime": {
     "end_time": "2023-11-16T13:52:33.945798Z",
     "start_time": "2023-11-16T13:52:33.773145Z"
    }
   },
   "outputs": [
    {
     "data": {
      "image/png": "[encoded data removed]",
      "text/plain": [
       "<Figure size 1800x720 with 1 Axes>"
      ]
     },
     "metadata": {
      "needs_background": "light"
     },
     "output_type": "display_data"
    }
   ],
   "source": [
    "#| label: fig-10\n",
    "#| fig-cap: \"Dendrogram of Ward Method\"\n",
    "Z = linkage(agg_mean, 'ward')\n",
    "fig = plt.figure(figsize=(25, 10))\n",
    "dn = dendrogram(Z, labels=agg_mean.index)\n",
    "plt.title('Ward')\n",
    "plt.show()"
   ]
  },
  {
   "cell_type": "markdown",
   "id": "1b3a847c",
   "metadata": {},
   "source": [
    "## Assign Cluster for Each Region"
   ]
  },
  {
   "cell_type": "markdown",
   "id": "9c1bf258",
   "metadata": {},
   "source": [
    "Here we create new column that indicates which cluster each well belongs to (according to the region)."
   ]
  },
  {
   "cell_type": "code",
   "execution_count": 20,
   "id": "f88b2707",
   "metadata": {
    "ExecuteTime": {
     "end_time": "2023-11-16T14:37:29.518382Z",
     "start_time": "2023-11-16T14:37:29.502013Z"
    }
   },
   "outputs": [],
   "source": [
    "cluster_raw_single = {\"CP|MJ\":1, \"PC\":2, \"PL|BL|RC|SR\":3}\n",
    "data['Single'] = data['Region'].replace(cluster_raw_single, regex=True)\n",
    "\n",
    "cluster_raw_avg = {\"CP|MJ\":1, \"BL|RC|SR\":2, \"PC|PL\":3}\n",
    "data['Others'] = data['Region'].replace(cluster_raw_avg, regex=True)\n",
    "\n",
    "# make it recognized as a category\n",
    "data['Single'] = data['Single'].astype('object')\n",
    "data['Others'] = data['Others'].astype('object')"
   ]
  },
  {
   "cell_type": "code",
   "execution_count": 22,
   "id": "76a3e304",
   "metadata": {
    "ExecuteTime": {
     "end_time": "2023-11-16T13:52:33.992533Z",
     "start_time": "2023-11-16T13:52:33.964462Z"
    }
   },
   "outputs": [
    {
     "data": {
      "text/html": [
       "<div>\n",
       "<style scoped>\n",
       "    .dataframe tbody tr th:only-of-type {\n",
       "        vertical-align: middle;\n",
       "    }\n",
       "\n",
       "    .dataframe tbody tr th {\n",
       "        vertical-align: top;\n",
       "    }\n",
       "\n",
       "    .dataframe thead th {\n",
       "        text-align: right;\n",
       "    }\n",
       "</style>\n",
       "<table border=\"1\" class=\"dataframe\">\n",
       "  <thead>\n",
       "    <tr style=\"text-align: right;\">\n",
       "      <th></th>\n",
       "      <th>As</th>\n",
       "      <th>Cd</th>\n",
       "      <th>Co</th>\n",
       "      <th>Cr</th>\n",
       "      <th>Cu</th>\n",
       "      <th>Fe</th>\n",
       "      <th>Hg</th>\n",
       "      <th>Mn</th>\n",
       "      <th>Pb</th>\n",
       "      <th>Zn</th>\n",
       "      <th>Region</th>\n",
       "      <th>Single</th>\n",
       "      <th>Others</th>\n",
       "    </tr>\n",
       "    <tr>\n",
       "      <th>No</th>\n",
       "      <th></th>\n",
       "      <th></th>\n",
       "      <th></th>\n",
       "      <th></th>\n",
       "      <th></th>\n",
       "      <th></th>\n",
       "      <th></th>\n",
       "      <th></th>\n",
       "      <th></th>\n",
       "      <th></th>\n",
       "      <th></th>\n",
       "      <th></th>\n",
       "      <th></th>\n",
       "    </tr>\n",
       "  </thead>\n",
       "  <tbody>\n",
       "    <tr>\n",
       "      <th>1</th>\n",
       "      <td>0.0062</td>\n",
       "      <td>0.0001</td>\n",
       "      <td>0.0026</td>\n",
       "      <td>0.0069</td>\n",
       "      <td>0.0100</td>\n",
       "      <td>1.6585</td>\n",
       "      <td>0.0001</td>\n",
       "      <td>0.3428</td>\n",
       "      <td>0.0001</td>\n",
       "      <td>0.1079</td>\n",
       "      <td>MJ</td>\n",
       "      <td>1</td>\n",
       "      <td>1</td>\n",
       "    </tr>\n",
       "    <tr>\n",
       "      <th>2</th>\n",
       "      <td>0.0212</td>\n",
       "      <td>0.0006</td>\n",
       "      <td>0.0001</td>\n",
       "      <td>0.0070</td>\n",
       "      <td>0.0077</td>\n",
       "      <td>3.7910</td>\n",
       "      <td>0.0001</td>\n",
       "      <td>0.4119</td>\n",
       "      <td>0.0119</td>\n",
       "      <td>0.0309</td>\n",
       "      <td>MJ</td>\n",
       "      <td>1</td>\n",
       "      <td>1</td>\n",
       "    </tr>\n",
       "    <tr>\n",
       "      <th>3</th>\n",
       "      <td>0.0065</td>\n",
       "      <td>0.0001</td>\n",
       "      <td>0.0001</td>\n",
       "      <td>0.0062</td>\n",
       "      <td>0.0073</td>\n",
       "      <td>0.0820</td>\n",
       "      <td>0.0001</td>\n",
       "      <td>0.2206</td>\n",
       "      <td>0.0186</td>\n",
       "      <td>0.0521</td>\n",
       "      <td>MJ</td>\n",
       "      <td>1</td>\n",
       "      <td>1</td>\n",
       "    </tr>\n",
       "    <tr>\n",
       "      <th>4</th>\n",
       "      <td>0.0162</td>\n",
       "      <td>0.0006</td>\n",
       "      <td>0.0001</td>\n",
       "      <td>0.0084</td>\n",
       "      <td>0.0094</td>\n",
       "      <td>1.4833</td>\n",
       "      <td>0.0001</td>\n",
       "      <td>0.4985</td>\n",
       "      <td>0.0001</td>\n",
       "      <td>0.0886</td>\n",
       "      <td>MJ</td>\n",
       "      <td>1</td>\n",
       "      <td>1</td>\n",
       "    </tr>\n",
       "    <tr>\n",
       "      <th>5</th>\n",
       "      <td>0.0194</td>\n",
       "      <td>0.0001</td>\n",
       "      <td>0.0001</td>\n",
       "      <td>0.0086</td>\n",
       "      <td>0.0098</td>\n",
       "      <td>2.3356</td>\n",
       "      <td>0.0001</td>\n",
       "      <td>0.1716</td>\n",
       "      <td>0.0196</td>\n",
       "      <td>0.0641</td>\n",
       "      <td>MJ</td>\n",
       "      <td>1</td>\n",
       "      <td>1</td>\n",
       "    </tr>\n",
       "    <tr>\n",
       "      <th>...</th>\n",
       "      <td>...</td>\n",
       "      <td>...</td>\n",
       "      <td>...</td>\n",
       "      <td>...</td>\n",
       "      <td>...</td>\n",
       "      <td>...</td>\n",
       "      <td>...</td>\n",
       "      <td>...</td>\n",
       "      <td>...</td>\n",
       "      <td>...</td>\n",
       "      <td>...</td>\n",
       "      <td>...</td>\n",
       "      <td>...</td>\n",
       "    </tr>\n",
       "    <tr>\n",
       "      <th>156</th>\n",
       "      <td>0.0164</td>\n",
       "      <td>0.0001</td>\n",
       "      <td>0.0001</td>\n",
       "      <td>0.0059</td>\n",
       "      <td>0.0024</td>\n",
       "      <td>0.3552</td>\n",
       "      <td>0.0001</td>\n",
       "      <td>0.0012</td>\n",
       "      <td>0.0001</td>\n",
       "      <td>0.0739</td>\n",
       "      <td>SR</td>\n",
       "      <td>3</td>\n",
       "      <td>2</td>\n",
       "    </tr>\n",
       "    <tr>\n",
       "      <th>157</th>\n",
       "      <td>0.0196</td>\n",
       "      <td>0.0019</td>\n",
       "      <td>0.0171</td>\n",
       "      <td>0.0053</td>\n",
       "      <td>0.0125</td>\n",
       "      <td>0.1067</td>\n",
       "      <td>0.0001</td>\n",
       "      <td>0.7120</td>\n",
       "      <td>0.0495</td>\n",
       "      <td>0.8312</td>\n",
       "      <td>SR</td>\n",
       "      <td>3</td>\n",
       "      <td>2</td>\n",
       "    </tr>\n",
       "    <tr>\n",
       "      <th>158</th>\n",
       "      <td>0.0062</td>\n",
       "      <td>0.0001</td>\n",
       "      <td>0.0085</td>\n",
       "      <td>0.0076</td>\n",
       "      <td>0.0089</td>\n",
       "      <td>0.0684</td>\n",
       "      <td>0.0001</td>\n",
       "      <td>1.1956</td>\n",
       "      <td>0.0235</td>\n",
       "      <td>0.0755</td>\n",
       "      <td>SR</td>\n",
       "      <td>3</td>\n",
       "      <td>2</td>\n",
       "    </tr>\n",
       "    <tr>\n",
       "      <th>159</th>\n",
       "      <td>0.0070</td>\n",
       "      <td>0.0001</td>\n",
       "      <td>0.0015</td>\n",
       "      <td>0.0072</td>\n",
       "      <td>0.0033</td>\n",
       "      <td>0.0547</td>\n",
       "      <td>0.0050</td>\n",
       "      <td>0.1624</td>\n",
       "      <td>0.0001</td>\n",
       "      <td>0.0606</td>\n",
       "      <td>SR</td>\n",
       "      <td>3</td>\n",
       "      <td>2</td>\n",
       "    </tr>\n",
       "    <tr>\n",
       "      <th>160</th>\n",
       "      <td>0.0110</td>\n",
       "      <td>0.0001</td>\n",
       "      <td>0.0002</td>\n",
       "      <td>0.0054</td>\n",
       "      <td>0.0021</td>\n",
       "      <td>0.0826</td>\n",
       "      <td>0.0001</td>\n",
       "      <td>0.0058</td>\n",
       "      <td>0.0001</td>\n",
       "      <td>0.8351</td>\n",
       "      <td>SR</td>\n",
       "      <td>3</td>\n",
       "      <td>2</td>\n",
       "    </tr>\n",
       "  </tbody>\n",
       "</table>\n",
       "<p>160 rows × 13 columns</p>\n",
       "</div>"
      ],
      "text/plain": [
       "         As      Cd      Co      Cr      Cu      Fe      Hg      Mn      Pb  \\\n",
       "No                                                                            \n",
       "1    0.0062  0.0001  0.0026  0.0069  0.0100  1.6585  0.0001  0.3428  0.0001   \n",
       "2    0.0212  0.0006  0.0001  0.0070  0.0077  3.7910  0.0001  0.4119  0.0119   \n",
       "3    0.0065  0.0001  0.0001  0.0062  0.0073  0.0820  0.0001  0.2206  0.0186   \n",
       "4    0.0162  0.0006  0.0001  0.0084  0.0094  1.4833  0.0001  0.4985  0.0001   \n",
       "5    0.0194  0.0001  0.0001  0.0086  0.0098  2.3356  0.0001  0.1716  0.0196   \n",
       "..      ...     ...     ...     ...     ...     ...     ...     ...     ...   \n",
       "156  0.0164  0.0001  0.0001  0.0059  0.0024  0.3552  0.0001  0.0012  0.0001   \n",
       "157  0.0196  0.0019  0.0171  0.0053  0.0125  0.1067  0.0001  0.7120  0.0495   \n",
       "158  0.0062  0.0001  0.0085  0.0076  0.0089  0.0684  0.0001  1.1956  0.0235   \n",
       "159  0.0070  0.0001  0.0015  0.0072  0.0033  0.0547  0.0050  0.1624  0.0001   \n",
       "160  0.0110  0.0001  0.0002  0.0054  0.0021  0.0826  0.0001  0.0058  0.0001   \n",
       "\n",
       "         Zn Region  Single  Others  \n",
       "No                                  \n",
       "1    0.1079     MJ       1       1  \n",
       "2    0.0309     MJ       1       1  \n",
       "3    0.0521     MJ       1       1  \n",
       "4    0.0886     MJ       1       1  \n",
       "5    0.0641     MJ       1       1  \n",
       "..      ...    ...     ...     ...  \n",
       "156  0.0739     SR       3       2  \n",
       "157  0.8312     SR       3       2  \n",
       "158  0.0755     SR       3       2  \n",
       "159  0.0606     SR       3       2  \n",
       "160  0.8351     SR       3       2  \n",
       "\n",
       "[160 rows x 13 columns]"
      ]
     },
     "execution_count": 22,
     "metadata": {},
     "output_type": "execute_result"
    }
   ],
   "source": [
    "#| label: tbl-6\n",
    "#| tbl-cap: \"Data After Cluster Assignment\"\n",
    "#| echo: false\n",
    "data"
   ]
  },
  {
   "cell_type": "markdown",
   "id": "41411a37",
   "metadata": {},
   "source": [
    "# Geographical Perspective"
   ]
  },
  {
   "cell_type": "markdown",
   "id": "27ac650b",
   "metadata": {},
   "source": [
    "## Assign Longitude and Latitude\n"
   ]
  },
  {
   "cell_type": "markdown",
   "id": "faf30a0b",
   "metadata": {},
   "source": [
    "To support our consideration, let’s take a look at how these cluster represents the regions in geographical perspective.\n",
    "\n",
    "It’s not hard to acquire longitude and latitude data for each region. I manually input them from Google Maps. For the plotting, I use [Plotly Express](https://plotly.com/python/plotly-express/)."
   ]
  },
  {
   "cell_type": "code",
   "execution_count": 21,
   "id": "cc9ae7f4",
   "metadata": {
    "ExecuteTime": {
     "end_time": "2023-11-16T14:37:35.881133Z",
     "start_time": "2023-11-16T14:37:35.866598Z"
    }
   },
   "outputs": [],
   "source": [
    "replacer_long = {\"MJ\": 107.746994, \"BL\": 107.631878, \"RC\": 107.759404, \"SR\": 107.532008, \"PL\": 107.566423, \"PC\": 107.698135, \"CP\": 107.710501}\n",
    "replacer_lat = {\"MJ\": -7.054680, \"BL\": -7.004517, \"RC\": -6.971517, \"SR\": -7.025404, \"PL\": -7.195907, \"PC\": -7.119608, \"CP\": -7.037803}\n",
    "data['longitude'] = data['Region'].replace(replacer_long).astype(float)\n",
    "data['latitude'] = data['Region'].replace(replacer_lat).astype(float)"
   ]
  },
  {
   "cell_type": "markdown",
   "id": "aec7c003",
   "metadata": {},
   "source": [
    "## Final Data"
   ]
  },
  {
   "cell_type": "code",
   "execution_count": 22,
   "id": "35807c88",
   "metadata": {
    "ExecuteTime": {
     "end_time": "2023-11-16T14:37:38.354428Z",
     "start_time": "2023-11-16T14:37:38.330877Z"
    }
   },
   "outputs": [
    {
     "data": {
      "text/html": [
       "<div>\n",
       "<style scoped>\n",
       "    .dataframe tbody tr th:only-of-type {\n",
       "        vertical-align: middle;\n",
       "    }\n",
       "\n",
       "    .dataframe tbody tr th {\n",
       "        vertical-align: top;\n",
       "    }\n",
       "\n",
       "    .dataframe thead th {\n",
       "        text-align: right;\n",
       "    }\n",
       "</style>\n",
       "<table border=\"1\" class=\"dataframe\">\n",
       "  <thead>\n",
       "    <tr style=\"text-align: right;\">\n",
       "      <th></th>\n",
       "      <th>As</th>\n",
       "      <th>Cd</th>\n",
       "      <th>Co</th>\n",
       "      <th>Cr</th>\n",
       "      <th>Cu</th>\n",
       "      <th>Fe</th>\n",
       "      <th>Hg</th>\n",
       "      <th>Mn</th>\n",
       "      <th>Pb</th>\n",
       "      <th>Zn</th>\n",
       "      <th>Region</th>\n",
       "      <th>Single</th>\n",
       "      <th>Others</th>\n",
       "      <th>longitude</th>\n",
       "      <th>latitude</th>\n",
       "    </tr>\n",
       "    <tr>\n",
       "      <th>No</th>\n",
       "      <th></th>\n",
       "      <th></th>\n",
       "      <th></th>\n",
       "      <th></th>\n",
       "      <th></th>\n",
       "      <th></th>\n",
       "      <th></th>\n",
       "      <th></th>\n",
       "      <th></th>\n",
       "      <th></th>\n",
       "      <th></th>\n",
       "      <th></th>\n",
       "      <th></th>\n",
       "      <th></th>\n",
       "      <th></th>\n",
       "    </tr>\n",
       "  </thead>\n",
       "  <tbody>\n",
       "    <tr>\n",
       "      <th>1</th>\n",
       "      <td>0.0062</td>\n",
       "      <td>0.0001</td>\n",
       "      <td>0.0026</td>\n",
       "      <td>0.0069</td>\n",
       "      <td>0.0100</td>\n",
       "      <td>1.6585</td>\n",
       "      <td>0.0001</td>\n",
       "      <td>0.3428</td>\n",
       "      <td>0.0001</td>\n",
       "      <td>0.1079</td>\n",
       "      <td>MJ</td>\n",
       "      <td>1</td>\n",
       "      <td>1</td>\n",
       "      <td>107.746994</td>\n",
       "      <td>-7.054680</td>\n",
       "    </tr>\n",
       "    <tr>\n",
       "      <th>2</th>\n",
       "      <td>0.0212</td>\n",
       "      <td>0.0006</td>\n",
       "      <td>0.0001</td>\n",
       "      <td>0.0070</td>\n",
       "      <td>0.0077</td>\n",
       "      <td>3.7910</td>\n",
       "      <td>0.0001</td>\n",
       "      <td>0.4119</td>\n",
       "      <td>0.0119</td>\n",
       "      <td>0.0309</td>\n",
       "      <td>MJ</td>\n",
       "      <td>1</td>\n",
       "      <td>1</td>\n",
       "      <td>107.746994</td>\n",
       "      <td>-7.054680</td>\n",
       "    </tr>\n",
       "    <tr>\n",
       "      <th>3</th>\n",
       "      <td>0.0065</td>\n",
       "      <td>0.0001</td>\n",
       "      <td>0.0001</td>\n",
       "      <td>0.0062</td>\n",
       "      <td>0.0073</td>\n",
       "      <td>0.0820</td>\n",
       "      <td>0.0001</td>\n",
       "      <td>0.2206</td>\n",
       "      <td>0.0186</td>\n",
       "      <td>0.0521</td>\n",
       "      <td>MJ</td>\n",
       "      <td>1</td>\n",
       "      <td>1</td>\n",
       "      <td>107.746994</td>\n",
       "      <td>-7.054680</td>\n",
       "    </tr>\n",
       "    <tr>\n",
       "      <th>4</th>\n",
       "      <td>0.0162</td>\n",
       "      <td>0.0006</td>\n",
       "      <td>0.0001</td>\n",
       "      <td>0.0084</td>\n",
       "      <td>0.0094</td>\n",
       "      <td>1.4833</td>\n",
       "      <td>0.0001</td>\n",
       "      <td>0.4985</td>\n",
       "      <td>0.0001</td>\n",
       "      <td>0.0886</td>\n",
       "      <td>MJ</td>\n",
       "      <td>1</td>\n",
       "      <td>1</td>\n",
       "      <td>107.746994</td>\n",
       "      <td>-7.054680</td>\n",
       "    </tr>\n",
       "    <tr>\n",
       "      <th>5</th>\n",
       "      <td>0.0194</td>\n",
       "      <td>0.0001</td>\n",
       "      <td>0.0001</td>\n",
       "      <td>0.0086</td>\n",
       "      <td>0.0098</td>\n",
       "      <td>2.3356</td>\n",
       "      <td>0.0001</td>\n",
       "      <td>0.1716</td>\n",
       "      <td>0.0196</td>\n",
       "      <td>0.0641</td>\n",
       "      <td>MJ</td>\n",
       "      <td>1</td>\n",
       "      <td>1</td>\n",
       "      <td>107.746994</td>\n",
       "      <td>-7.054680</td>\n",
       "    </tr>\n",
       "    <tr>\n",
       "      <th>...</th>\n",
       "      <td>...</td>\n",
       "      <td>...</td>\n",
       "      <td>...</td>\n",
       "      <td>...</td>\n",
       "      <td>...</td>\n",
       "      <td>...</td>\n",
       "      <td>...</td>\n",
       "      <td>...</td>\n",
       "      <td>...</td>\n",
       "      <td>...</td>\n",
       "      <td>...</td>\n",
       "      <td>...</td>\n",
       "      <td>...</td>\n",
       "      <td>...</td>\n",
       "      <td>...</td>\n",
       "    </tr>\n",
       "    <tr>\n",
       "      <th>156</th>\n",
       "      <td>0.0164</td>\n",
       "      <td>0.0001</td>\n",
       "      <td>0.0001</td>\n",
       "      <td>0.0059</td>\n",
       "      <td>0.0024</td>\n",
       "      <td>0.3552</td>\n",
       "      <td>0.0001</td>\n",
       "      <td>0.0012</td>\n",
       "      <td>0.0001</td>\n",
       "      <td>0.0739</td>\n",
       "      <td>SR</td>\n",
       "      <td>3</td>\n",
       "      <td>2</td>\n",
       "      <td>107.532008</td>\n",
       "      <td>-7.025404</td>\n",
       "    </tr>\n",
       "    <tr>\n",
       "      <th>157</th>\n",
       "      <td>0.0196</td>\n",
       "      <td>0.0019</td>\n",
       "      <td>0.0171</td>\n",
       "      <td>0.0053</td>\n",
       "      <td>0.0125</td>\n",
       "      <td>0.1067</td>\n",
       "      <td>0.0001</td>\n",
       "      <td>0.7120</td>\n",
       "      <td>0.0495</td>\n",
       "      <td>0.8312</td>\n",
       "      <td>SR</td>\n",
       "      <td>3</td>\n",
       "      <td>2</td>\n",
       "      <td>107.532008</td>\n",
       "      <td>-7.025404</td>\n",
       "    </tr>\n",
       "    <tr>\n",
       "      <th>158</th>\n",
       "      <td>0.0062</td>\n",
       "      <td>0.0001</td>\n",
       "      <td>0.0085</td>\n",
       "      <td>0.0076</td>\n",
       "      <td>0.0089</td>\n",
       "      <td>0.0684</td>\n",
       "      <td>0.0001</td>\n",
       "      <td>1.1956</td>\n",
       "      <td>0.0235</td>\n",
       "      <td>0.0755</td>\n",
       "      <td>SR</td>\n",
       "      <td>3</td>\n",
       "      <td>2</td>\n",
       "      <td>107.532008</td>\n",
       "      <td>-7.025404</td>\n",
       "    </tr>\n",
       "    <tr>\n",
       "      <th>159</th>\n",
       "      <td>0.0070</td>\n",
       "      <td>0.0001</td>\n",
       "      <td>0.0015</td>\n",
       "      <td>0.0072</td>\n",
       "      <td>0.0033</td>\n",
       "      <td>0.0547</td>\n",
       "      <td>0.0050</td>\n",
       "      <td>0.1624</td>\n",
       "      <td>0.0001</td>\n",
       "      <td>0.0606</td>\n",
       "      <td>SR</td>\n",
       "      <td>3</td>\n",
       "      <td>2</td>\n",
       "      <td>107.532008</td>\n",
       "      <td>-7.025404</td>\n",
       "    </tr>\n",
       "    <tr>\n",
       "      <th>160</th>\n",
       "      <td>0.0110</td>\n",
       "      <td>0.0001</td>\n",
       "      <td>0.0002</td>\n",
       "      <td>0.0054</td>\n",
       "      <td>0.0021</td>\n",
       "      <td>0.0826</td>\n",
       "      <td>0.0001</td>\n",
       "      <td>0.0058</td>\n",
       "      <td>0.0001</td>\n",
       "      <td>0.8351</td>\n",
       "      <td>SR</td>\n",
       "      <td>3</td>\n",
       "      <td>2</td>\n",
       "      <td>107.532008</td>\n",
       "      <td>-7.025404</td>\n",
       "    </tr>\n",
       "  </tbody>\n",
       "</table>\n",
       "<p>160 rows × 15 columns</p>\n",
       "</div>"
      ],
      "text/plain": [
       "         As      Cd      Co      Cr      Cu      Fe      Hg      Mn      Pb  \\\n",
       "No                                                                            \n",
       "1    0.0062  0.0001  0.0026  0.0069  0.0100  1.6585  0.0001  0.3428  0.0001   \n",
       "2    0.0212  0.0006  0.0001  0.0070  0.0077  3.7910  0.0001  0.4119  0.0119   \n",
       "3    0.0065  0.0001  0.0001  0.0062  0.0073  0.0820  0.0001  0.2206  0.0186   \n",
       "4    0.0162  0.0006  0.0001  0.0084  0.0094  1.4833  0.0001  0.4985  0.0001   \n",
       "5    0.0194  0.0001  0.0001  0.0086  0.0098  2.3356  0.0001  0.1716  0.0196   \n",
       "..      ...     ...     ...     ...     ...     ...     ...     ...     ...   \n",
       "156  0.0164  0.0001  0.0001  0.0059  0.0024  0.3552  0.0001  0.0012  0.0001   \n",
       "157  0.0196  0.0019  0.0171  0.0053  0.0125  0.1067  0.0001  0.7120  0.0495   \n",
       "158  0.0062  0.0001  0.0085  0.0076  0.0089  0.0684  0.0001  1.1956  0.0235   \n",
       "159  0.0070  0.0001  0.0015  0.0072  0.0033  0.0547  0.0050  0.1624  0.0001   \n",
       "160  0.0110  0.0001  0.0002  0.0054  0.0021  0.0826  0.0001  0.0058  0.0001   \n",
       "\n",
       "         Zn Region Single Others   longitude  latitude  \n",
       "No                                                      \n",
       "1    0.1079     MJ      1      1  107.746994 -7.054680  \n",
       "2    0.0309     MJ      1      1  107.746994 -7.054680  \n",
       "3    0.0521     MJ      1      1  107.746994 -7.054680  \n",
       "4    0.0886     MJ      1      1  107.746994 -7.054680  \n",
       "5    0.0641     MJ      1      1  107.746994 -7.054680  \n",
       "..      ...    ...    ...    ...         ...       ...  \n",
       "156  0.0739     SR      3      2  107.532008 -7.025404  \n",
       "157  0.8312     SR      3      2  107.532008 -7.025404  \n",
       "158  0.0755     SR      3      2  107.532008 -7.025404  \n",
       "159  0.0606     SR      3      2  107.532008 -7.025404  \n",
       "160  0.8351     SR      3      2  107.532008 -7.025404  \n",
       "\n",
       "[160 rows x 15 columns]"
      ]
     },
     "execution_count": 22,
     "metadata": {},
     "output_type": "execute_result"
    }
   ],
   "source": [
    "#| label: tbl-7\n",
    "#| tbl-cap: \"Final Form of The Data\"\n",
    "#| echo: false\n",
    "data"
   ]
  },
  {
   "cell_type": "markdown",
   "id": "7c821e7d",
   "metadata": {},
   "source": [
    "## Plot According to Geographical Data"
   ]
  },
  {
   "cell_type": "markdown",
   "id": "38103625",
   "metadata": {},
   "source": [
    "Remember that we have two distinct results: one from single method, one from the other methods. Here is both results plotted on a map (*it's interactive*!)."
   ]
  },
  {
   "cell_type": "code",
   "execution_count": 24,
   "id": "2867e66d",
   "metadata": {
    "ExecuteTime": {
     "end_time": "2023-11-16T14:38:53.696014Z",
     "start_time": "2023-11-16T14:38:53.691014Z"
    }
   },
   "outputs": [],
   "source": [
    "import plotly.io as pio\n",
    "pio.renderers.default = \"plotly_mimetype+notebook_connected\""
   ]
  },
  {
   "cell_type": "code",
   "execution_count": 25,
   "id": "934b08e2",
   "metadata": {
    "ExecuteTime": {
     "end_time": "2023-11-16T14:38:55.866924Z",
     "start_time": "2023-11-16T14:38:55.793322Z"
    },
    "scrolled": false
   },
   "outputs": [
    {
     "data": {
      "text/html": [
       "        <script type=\"text/javascript\">\n",
       "        window.PlotlyConfig = {MathJaxConfig: 'local'};\n",
       "        if (window.MathJax && window.MathJax.Hub && window.MathJax.Hub.Config) {window.MathJax.Hub.Config({SVG: {font: \"STIX-Web\"}});}\n",
       "        if (typeof require !== 'undefined') {\n",
       "        require.undef(\"plotly\");\n",
       "        requirejs.config({\n",
       "            paths: {\n",
       "                'plotly': ['https://cdn.plot.ly/plotly-2.20.0.min']\n",
       "            }\n",
       "        });\n",
       "        require(['plotly'], function(Plotly) {\n",
       "            window._Plotly = Plotly;\n",
       "        });\n",
       "        }\n",
       "        </script>\n",
       "        "
      ]
     },
     "metadata": {},
     "output_type": "display_data"
    },
    {
     "data": {
      "application/vnd.plotly.v1+json": {
       "config": {
        "plotlyServerURL": "https://plot.ly"
       },
       "data": [
        {
         "hovertemplate": "Single=3.0<br>text=%{text}<br>latitude=%{lat}<br>longitude=%{lon}<extra></extra>",
         "lat": [
          -7.004517,
          -7.195907000000001,
          -6.971517,
          -7.025404
         ],
         "legendgroup": "3.0",
         "lon": [
          107.63187799999999,
          107.566423,
          107.75940399999999,
          107.532008
         ],
         "marker": {
          "color": "#3366CC",
          "size": 15
         },
         "mode": "markers+text",
         "name": "3.0",
         "showlegend": true,
         "subplot": "mapbox",
         "text": [
          "BL",
          "PL",
          "RC",
          "SR"
         ],
         "textposition": "top center",
         "type": "scattermapbox"
        },
        {
         "hovertemplate": "Single=1.0<br>text=%{text}<br>latitude=%{lat}<br>longitude=%{lon}<extra></extra>",
         "lat": [
          -7.037803,
          -7.05468
         ],
         "legendgroup": "1.0",
         "lon": [
          107.71050099999998,
          107.746994
         ],
         "marker": {
          "color": "#DC3912",
          "size": 15
         },
         "mode": "markers+text",
         "name": "1.0",
         "showlegend": true,
         "subplot": "mapbox",
         "text": [
          "CP",
          "MJ"
         ],
         "textposition": "top center",
         "type": "scattermapbox"
        },
        {
         "hovertemplate": "Single=2.0<br>text=%{text}<br>latitude=%{lat}<br>longitude=%{lon}<extra></extra>",
         "lat": [
          -7.119608000000001
         ],
         "legendgroup": "2.0",
         "lon": [
          107.69813500000001
         ],
         "marker": {
          "color": "#FF9900",
          "size": 15
         },
         "mode": "markers+text",
         "name": "2.0",
         "showlegend": true,
         "subplot": "mapbox",
         "text": [
          "PC"
         ],
         "textposition": "top center",
         "type": "scattermapbox"
        }
       ],
       "layout": {
        "height": 500,
        "legend": {
         "title": {
          "text": "Single"
         },
         "tracegroupgap": 0
        },
        "mapbox": {
         "center": {
          "lat": -7.058490857142857,
          "lon": 107.66362042857143
         },
         "domain": {
          "x": [
           0,
           1
          ],
          "y": [
           0,
           1
          ]
         },
         "style": "carto-positron",
         "zoom": 8
        },
        "margin": {
         "b": 0,
         "l": 0,
         "r": 0,
         "t": 0
        },
        "template": {
         "data": {
          "bar": [
           {
            "error_x": {
             "color": "#2a3f5f"
            },
            "error_y": {
             "color": "#2a3f5f"
            },
            "marker": {
             "line": {
              "color": "#E5ECF6",
              "width": 0.5
             },
             "pattern": {
              "fillmode": "overlay",
              "size": 10,
              "solidity": 0.2
             }
            },
            "type": "bar"
           }
          ],
          "barpolar": [
           {
            "marker": {
             "line": {
              "color": "#E5ECF6",
              "width": 0.5
             },
             "pattern": {
              "fillmode": "overlay",
              "size": 10,
              "solidity": 0.2
             }
            },
            "type": "barpolar"
           }
          ],
          "carpet": [
           {
            "aaxis": {
             "endlinecolor": "#2a3f5f",
             "gridcolor": "white",
             "linecolor": "white",
             "minorgridcolor": "white",
             "startlinecolor": "#2a3f5f"
            },
            "baxis": {
             "endlinecolor": "#2a3f5f",
             "gridcolor": "white",
             "linecolor": "white",
             "minorgridcolor": "white",
             "startlinecolor": "#2a3f5f"
            },
            "type": "carpet"
           }
          ],
          "choropleth": [
           {
            "colorbar": {
             "outlinewidth": 0,
             "ticks": ""
            },
            "type": "choropleth"
           }
          ],
          "contour": [
           {
            "colorbar": {
             "outlinewidth": 0,
             "ticks": ""
            },
            "colorscale": [
             [
              0,
              "#0d0887"
             ],
             [
              0.1111111111111111,
              "#46039f"
             ],
             [
              0.2222222222222222,
              "#7201a8"
             ],
             [
              0.3333333333333333,
              "#9c179e"
             ],
             [
              0.4444444444444444,
              "#bd3786"
             ],
             [
              0.5555555555555556,
              "#d8576b"
             ],
             [
              0.6666666666666666,
              "#ed7953"
             ],
             [
              0.7777777777777778,
              "#fb9f3a"
             ],
             [
              0.8888888888888888,
              "#fdca26"
             ],
             [
              1,
              "#f0f921"
             ]
            ],
            "type": "contour"
           }
          ],
          "contourcarpet": [
           {
            "colorbar": {
             "outlinewidth": 0,
             "ticks": ""
            },
            "type": "contourcarpet"
           }
          ],
          "heatmap": [
           {
            "colorbar": {
             "outlinewidth": 0,
             "ticks": ""
            },
            "colorscale": [
             [
              0,
              "#0d0887"
             ],
             [
              0.1111111111111111,
              "#46039f"
             ],
             [
              0.2222222222222222,
              "#7201a8"
             ],
             [
              0.3333333333333333,
              "#9c179e"
             ],
             [
              0.4444444444444444,
              "#bd3786"
             ],
             [
              0.5555555555555556,
              "#d8576b"
             ],
             [
              0.6666666666666666,
              "#ed7953"
             ],
             [
              0.7777777777777778,
              "#fb9f3a"
             ],
             [
              0.8888888888888888,
              "#fdca26"
             ],
             [
              1,
              "#f0f921"
             ]
            ],
            "type": "heatmap"
           }
          ],
          "heatmapgl": [
           {
            "colorbar": {
             "outlinewidth": 0,
             "ticks": ""
            },
            "colorscale": [
             [
              0,
              "#0d0887"
             ],
             [
              0.1111111111111111,
              "#46039f"
             ],
             [
              0.2222222222222222,
              "#7201a8"
             ],
             [
              0.3333333333333333,
              "#9c179e"
             ],
             [
              0.4444444444444444,
              "#bd3786"
             ],
             [
              0.5555555555555556,
              "#d8576b"
             ],
             [
              0.6666666666666666,
              "#ed7953"
             ],
             [
              0.7777777777777778,
              "#fb9f3a"
             ],
             [
              0.8888888888888888,
              "#fdca26"
             ],
             [
              1,
              "#f0f921"
             ]
            ],
            "type": "heatmapgl"
           }
          ],
          "histogram": [
           {
            "marker": {
             "pattern": {
              "fillmode": "overlay",
              "size": 10,
              "solidity": 0.2
             }
            },
            "type": "histogram"
           }
          ],
          "histogram2d": [
           {
            "colorbar": {
             "outlinewidth": 0,
             "ticks": ""
            },
            "colorscale": [
             [
              0,
              "#0d0887"
             ],
             [
              0.1111111111111111,
              "#46039f"
             ],
             [
              0.2222222222222222,
              "#7201a8"
             ],
             [
              0.3333333333333333,
              "#9c179e"
             ],
             [
              0.4444444444444444,
              "#bd3786"
             ],
             [
              0.5555555555555556,
              "#d8576b"
             ],
             [
              0.6666666666666666,
              "#ed7953"
             ],
             [
              0.7777777777777778,
              "#fb9f3a"
             ],
             [
              0.8888888888888888,
              "#fdca26"
             ],
             [
              1,
              "#f0f921"
             ]
            ],
            "type": "histogram2d"
           }
          ],
          "histogram2dcontour": [
           {
            "colorbar": {
             "outlinewidth": 0,
             "ticks": ""
            },
            "colorscale": [
             [
              0,
              "#0d0887"
             ],
             [
              0.1111111111111111,
              "#46039f"
             ],
             [
              0.2222222222222222,
              "#7201a8"
             ],
             [
              0.3333333333333333,
              "#9c179e"
             ],
             [
              0.4444444444444444,
              "#bd3786"
             ],
             [
              0.5555555555555556,
              "#d8576b"
             ],
             [
              0.6666666666666666,
              "#ed7953"
             ],
             [
              0.7777777777777778,
              "#fb9f3a"
             ],
             [
              0.8888888888888888,
              "#fdca26"
             ],
             [
              1,
              "#f0f921"
             ]
            ],
            "type": "histogram2dcontour"
           }
          ],
          "mesh3d": [
           {
            "colorbar": {
             "outlinewidth": 0,
             "ticks": ""
            },
            "type": "mesh3d"
           }
          ],
          "parcoords": [
           {
            "line": {
             "colorbar": {
              "outlinewidth": 0,
              "ticks": ""
             }
            },
            "type": "parcoords"
           }
          ],
          "pie": [
           {
            "automargin": true,
            "type": "pie"
           }
          ],
          "scatter": [
           {
            "fillpattern": {
             "fillmode": "overlay",
             "size": 10,
             "solidity": 0.2
            },
            "type": "scatter"
           }
          ],
          "scatter3d": [
           {
            "line": {
             "colorbar": {
              "outlinewidth": 0,
              "ticks": ""
             }
            },
            "marker": {
             "colorbar": {
              "outlinewidth": 0,
              "ticks": ""
             }
            },
            "type": "scatter3d"
           }
          ],
          "scattercarpet": [
           {
            "marker": {
             "colorbar": {
              "outlinewidth": 0,
              "ticks": ""
             }
            },
            "type": "scattercarpet"
           }
          ],
          "scattergeo": [
           {
            "marker": {
             "colorbar": {
              "outlinewidth": 0,
              "ticks": ""
             }
            },
            "type": "scattergeo"
           }
          ],
          "scattergl": [
           {
            "marker": {
             "colorbar": {
              "outlinewidth": 0,
              "ticks": ""
             }
            },
            "type": "scattergl"
           }
          ],
          "scattermapbox": [
           {
            "marker": {
             "colorbar": {
              "outlinewidth": 0,
              "ticks": ""
             }
            },
            "type": "scattermapbox"
           }
          ],
          "scatterpolar": [
           {
            "marker": {
             "colorbar": {
              "outlinewidth": 0,
              "ticks": ""
             }
            },
            "type": "scatterpolar"
           }
          ],
          "scatterpolargl": [
           {
            "marker": {
             "colorbar": {
              "outlinewidth": 0,
              "ticks": ""
             }
            },
            "type": "scatterpolargl"
           }
          ],
          "scatterternary": [
           {
            "marker": {
             "colorbar": {
              "outlinewidth": 0,
              "ticks": ""
             }
            },
            "type": "scatterternary"
           }
          ],
          "surface": [
           {
            "colorbar": {
             "outlinewidth": 0,
             "ticks": ""
            },
            "colorscale": [
             [
              0,
              "#0d0887"
             ],
             [
              0.1111111111111111,
              "#46039f"
             ],
             [
              0.2222222222222222,
              "#7201a8"
             ],
             [
              0.3333333333333333,
              "#9c179e"
             ],
             [
              0.4444444444444444,
              "#bd3786"
             ],
             [
              0.5555555555555556,
              "#d8576b"
             ],
             [
              0.6666666666666666,
              "#ed7953"
             ],
             [
              0.7777777777777778,
              "#fb9f3a"
             ],
             [
              0.8888888888888888,
              "#fdca26"
             ],
             [
              1,
              "#f0f921"
             ]
            ],
            "type": "surface"
           }
          ],
          "table": [
           {
            "cells": {
             "fill": {
              "color": "#EBF0F8"
             },
             "line": {
              "color": "white"
             }
            },
            "header": {
             "fill": {
              "color": "#C8D4E3"
             },
             "line": {
              "color": "white"
             }
            },
            "type": "table"
           }
          ]
         },
         "layout": {
          "annotationdefaults": {
           "arrowcolor": "#2a3f5f",
           "arrowhead": 0,
           "arrowwidth": 1
          },
          "autotypenumbers": "strict",
          "coloraxis": {
           "colorbar": {
            "outlinewidth": 0,
            "ticks": ""
           }
          },
          "colorscale": {
           "diverging": [
            [
             0,
             "#8e0152"
            ],
            [
             0.1,
             "#c51b7d"
            ],
            [
             0.2,
             "#de77ae"
            ],
            [
             0.3,
             "#f1b6da"
            ],
            [
             0.4,
             "#fde0ef"
            ],
            [
             0.5,
             "#f7f7f7"
            ],
            [
             0.6,
             "#e6f5d0"
            ],
            [
             0.7,
             "#b8e186"
            ],
            [
             0.8,
             "#7fbc41"
            ],
            [
             0.9,
             "#4d9221"
            ],
            [
             1,
             "#276419"
            ]
           ],
           "sequential": [
            [
             0,
             "#0d0887"
            ],
            [
             0.1111111111111111,
             "#46039f"
            ],
            [
             0.2222222222222222,
             "#7201a8"
            ],
            [
             0.3333333333333333,
             "#9c179e"
            ],
            [
             0.4444444444444444,
             "#bd3786"
            ],
            [
             0.5555555555555556,
             "#d8576b"
            ],
            [
             0.6666666666666666,
             "#ed7953"
            ],
            [
             0.7777777777777778,
             "#fb9f3a"
            ],
            [
             0.8888888888888888,
             "#fdca26"
            ],
            [
             1,
             "#f0f921"
            ]
           ],
           "sequentialminus": [
            [
             0,
             "#0d0887"
            ],
            [
             0.1111111111111111,
             "#46039f"
            ],
            [
             0.2222222222222222,
             "#7201a8"
            ],
            [
             0.3333333333333333,
             "#9c179e"
            ],
            [
             0.4444444444444444,
             "#bd3786"
            ],
            [
             0.5555555555555556,
             "#d8576b"
            ],
            [
             0.6666666666666666,
             "#ed7953"
            ],
            [
             0.7777777777777778,
             "#fb9f3a"
            ],
            [
             0.8888888888888888,
             "#fdca26"
            ],
            [
             1,
             "#f0f921"
            ]
           ]
          },
          "colorway": [
           "#636efa",
           "#EF553B",
           "#00cc96",
           "#ab63fa",
           "#FFA15A",
           "#19d3f3",
           "#FF6692",
           "#B6E880",
           "#FF97FF",
           "#FECB52"
          ],
          "font": {
           "color": "#2a3f5f"
          },
          "geo": {
           "bgcolor": "white",
           "lakecolor": "white",
           "landcolor": "#E5ECF6",
           "showlakes": true,
           "showland": true,
           "subunitcolor": "white"
          },
          "hoverlabel": {
           "align": "left"
          },
          "hovermode": "closest",
          "mapbox": {
           "style": "light"
          },
          "paper_bgcolor": "white",
          "plot_bgcolor": "#E5ECF6",
          "polar": {
           "angularaxis": {
            "gridcolor": "white",
            "linecolor": "white",
            "ticks": ""
           },
           "bgcolor": "#E5ECF6",
           "radialaxis": {
            "gridcolor": "white",
            "linecolor": "white",
            "ticks": ""
           }
          },
          "scene": {
           "xaxis": {
            "backgroundcolor": "#E5ECF6",
            "gridcolor": "white",
            "gridwidth": 2,
            "linecolor": "white",
            "showbackground": true,
            "ticks": "",
            "zerolinecolor": "white"
           },
           "yaxis": {
            "backgroundcolor": "#E5ECF6",
            "gridcolor": "white",
            "gridwidth": 2,
            "linecolor": "white",
            "showbackground": true,
            "ticks": "",
            "zerolinecolor": "white"
           },
           "zaxis": {
            "backgroundcolor": "#E5ECF6",
            "gridcolor": "white",
            "gridwidth": 2,
            "linecolor": "white",
            "showbackground": true,
            "ticks": "",
            "zerolinecolor": "white"
           }
          },
          "shapedefaults": {
           "line": {
            "color": "#2a3f5f"
           }
          },
          "ternary": {
           "aaxis": {
            "gridcolor": "white",
            "linecolor": "white",
            "ticks": ""
           },
           "baxis": {
            "gridcolor": "white",
            "linecolor": "white",
            "ticks": ""
           },
           "bgcolor": "#E5ECF6",
           "caxis": {
            "gridcolor": "white",
            "linecolor": "white",
            "ticks": ""
           }
          },
          "title": {
           "x": 0.05
          },
          "xaxis": {
           "automargin": true,
           "gridcolor": "white",
           "linecolor": "white",
           "ticks": "",
           "title": {
            "standoff": 15
           },
           "zerolinecolor": "white",
           "zerolinewidth": 2
          },
          "yaxis": {
           "automargin": true,
           "gridcolor": "white",
           "linecolor": "white",
           "ticks": "",
           "title": {
            "standoff": 15
           },
           "zerolinecolor": "white",
           "zerolinewidth": 2
          }
         }
        },
        "width": 700
       }
      },
      "text/html": [
       "<div>                            <div id=\"7be7cdd8-82c4-4655-b79f-724d77ee6d7f\" class=\"plotly-graph-div\" style=\"height:500px; width:700px;\"></div>            <script type=\"text/javascript\">                require([\"plotly\"], function(Plotly) {                    window.PLOTLYENV=window.PLOTLYENV || {};                                    if (document.getElementById(\"7be7cdd8-82c4-4655-b79f-724d77ee6d7f\")) {                    Plotly.newPlot(                        \"7be7cdd8-82c4-4655-b79f-724d77ee6d7f\",                        [{\"hovertemplate\":\"Single=3.0<br>text=%{text}<br>latitude=%{lat}<br>longitude=%{lon}<extra></extra>\",\"lat\":[-7.004517,-7.195907000000001,-6.971517,-7.025404],\"legendgroup\":\"3.0\",\"lon\":[107.63187799999999,107.566423,107.75940399999999,107.532008],\"marker\":{\"color\":\"#3366CC\",\"size\":15},\"mode\":\"markers+text\",\"name\":\"3.0\",\"showlegend\":true,\"subplot\":\"mapbox\",\"text\":[\"BL\",\"PL\",\"RC\",\"SR\"],\"type\":\"scattermapbox\",\"textposition\":\"top center\"},{\"hovertemplate\":\"Single=1.0<br>text=%{text}<br>latitude=%{lat}<br>longitude=%{lon}<extra></extra>\",\"lat\":[-7.037803,-7.05468],\"legendgroup\":\"1.0\",\"lon\":[107.71050099999998,107.746994],\"marker\":{\"color\":\"#DC3912\",\"size\":15},\"mode\":\"markers+text\",\"name\":\"1.0\",\"showlegend\":true,\"subplot\":\"mapbox\",\"text\":[\"CP\",\"MJ\"],\"type\":\"scattermapbox\",\"textposition\":\"top center\"},{\"hovertemplate\":\"Single=2.0<br>text=%{text}<br>latitude=%{lat}<br>longitude=%{lon}<extra></extra>\",\"lat\":[-7.119608000000001],\"legendgroup\":\"2.0\",\"lon\":[107.69813500000001],\"marker\":{\"color\":\"#FF9900\",\"size\":15},\"mode\":\"markers+text\",\"name\":\"2.0\",\"showlegend\":true,\"subplot\":\"mapbox\",\"text\":[\"PC\"],\"type\":\"scattermapbox\",\"textposition\":\"top center\"}],                        {\"template\":{\"data\":{\"histogram2dcontour\":[{\"type\":\"histogram2dcontour\",\"colorbar\":{\"outlinewidth\":0,\"ticks\":\"\"},\"colorscale\":[[0.0,\"#0d0887\"],[0.1111111111111111,\"#46039f\"],[0.2222222222222222,\"#7201a8\"],[0.3333333333333333,\"#9c179e\"],[0.4444444444444444,\"#bd3786\"],[0.5555555555555556,\"#d8576b\"],[0.6666666666666666,\"#ed7953\"],[0.7777777777777778,\"#fb9f3a\"],[0.8888888888888888,\"#fdca26\"],[1.0,\"#f0f921\"]]}],\"choropleth\":[{\"type\":\"choropleth\",\"colorbar\":{\"outlinewidth\":0,\"ticks\":\"\"}}],\"histogram2d\":[{\"type\":\"histogram2d\",\"colorbar\":{\"outlinewidth\":0,\"ticks\":\"\"},\"colorscale\":[[0.0,\"#0d0887\"],[0.1111111111111111,\"#46039f\"],[0.2222222222222222,\"#7201a8\"],[0.3333333333333333,\"#9c179e\"],[0.4444444444444444,\"#bd3786\"],[0.5555555555555556,\"#d8576b\"],[0.6666666666666666,\"#ed7953\"],[0.7777777777777778,\"#fb9f3a\"],[0.8888888888888888,\"#fdca26\"],[1.0,\"#f0f921\"]]}],\"heatmap\":[{\"type\":\"heatmap\",\"colorbar\":{\"outlinewidth\":0,\"ticks\":\"\"},\"colorscale\":[[0.0,\"#0d0887\"],[0.1111111111111111,\"#46039f\"],[0.2222222222222222,\"#7201a8\"],[0.3333333333333333,\"#9c179e\"],[0.4444444444444444,\"#bd3786\"],[0.5555555555555556,\"#d8576b\"],[0.6666666666666666,\"#ed7953\"],[0.7777777777777778,\"#fb9f3a\"],[0.8888888888888888,\"#fdca26\"],[1.0,\"#f0f921\"]]}],\"heatmapgl\":[{\"type\":\"heatmapgl\",\"colorbar\":{\"outlinewidth\":0,\"ticks\":\"\"},\"colorscale\":[[0.0,\"#0d0887\"],[0.1111111111111111,\"#46039f\"],[0.2222222222222222,\"#7201a8\"],[0.3333333333333333,\"#9c179e\"],[0.4444444444444444,\"#bd3786\"],[0.5555555555555556,\"#d8576b\"],[0.6666666666666666,\"#ed7953\"],[0.7777777777777778,\"#fb9f3a\"],[0.8888888888888888,\"#fdca26\"],[1.0,\"#f0f921\"]]}],\"contourcarpet\":[{\"type\":\"contourcarpet\",\"colorbar\":{\"outlinewidth\":0,\"ticks\":\"\"}}],\"contour\":[{\"type\":\"contour\",\"colorbar\":{\"outlinewidth\":0,\"ticks\":\"\"},\"colorscale\":[[0.0,\"#0d0887\"],[0.1111111111111111,\"#46039f\"],[0.2222222222222222,\"#7201a8\"],[0.3333333333333333,\"#9c179e\"],[0.4444444444444444,\"#bd3786\"],[0.5555555555555556,\"#d8576b\"],[0.6666666666666666,\"#ed7953\"],[0.7777777777777778,\"#fb9f3a\"],[0.8888888888888888,\"#fdca26\"],[1.0,\"#f0f921\"]]}],\"surface\":[{\"type\":\"surface\",\"colorbar\":{\"outlinewidth\":0,\"ticks\":\"\"},\"colorscale\":[[0.0,\"#0d0887\"],[0.1111111111111111,\"#46039f\"],[0.2222222222222222,\"#7201a8\"],[0.3333333333333333,\"#9c179e\"],[0.4444444444444444,\"#bd3786\"],[0.5555555555555556,\"#d8576b\"],[0.6666666666666666,\"#ed7953\"],[0.7777777777777778,\"#fb9f3a\"],[0.8888888888888888,\"#fdca26\"],[1.0,\"#f0f921\"]]}],\"mesh3d\":[{\"type\":\"mesh3d\",\"colorbar\":{\"outlinewidth\":0,\"ticks\":\"\"}}],\"scatter\":[{\"fillpattern\":{\"fillmode\":\"overlay\",\"size\":10,\"solidity\":0.2},\"type\":\"scatter\"}],\"parcoords\":[{\"type\":\"parcoords\",\"line\":{\"colorbar\":{\"outlinewidth\":0,\"ticks\":\"\"}}}],\"scatterpolargl\":[{\"type\":\"scatterpolargl\",\"marker\":{\"colorbar\":{\"outlinewidth\":0,\"ticks\":\"\"}}}],\"bar\":[{\"error_x\":{\"color\":\"#2a3f5f\"},\"error_y\":{\"color\":\"#2a3f5f\"},\"marker\":{\"line\":{\"color\":\"#E5ECF6\",\"width\":0.5},\"pattern\":{\"fillmode\":\"overlay\",\"size\":10,\"solidity\":0.2}},\"type\":\"bar\"}],\"scattergeo\":[{\"type\":\"scattergeo\",\"marker\":{\"colorbar\":{\"outlinewidth\":0,\"ticks\":\"\"}}}],\"scatterpolar\":[{\"type\":\"scatterpolar\",\"marker\":{\"colorbar\":{\"outlinewidth\":0,\"ticks\":\"\"}}}],\"histogram\":[{\"marker\":{\"pattern\":{\"fillmode\":\"overlay\",\"size\":10,\"solidity\":0.2}},\"type\":\"histogram\"}],\"scattergl\":[{\"type\":\"scattergl\",\"marker\":{\"colorbar\":{\"outlinewidth\":0,\"ticks\":\"\"}}}],\"scatter3d\":[{\"type\":\"scatter3d\",\"line\":{\"colorbar\":{\"outlinewidth\":0,\"ticks\":\"\"}},\"marker\":{\"colorbar\":{\"outlinewidth\":0,\"ticks\":\"\"}}}],\"scattermapbox\":[{\"type\":\"scattermapbox\",\"marker\":{\"colorbar\":{\"outlinewidth\":0,\"ticks\":\"\"}}}],\"scatterternary\":[{\"type\":\"scatterternary\",\"marker\":{\"colorbar\":{\"outlinewidth\":0,\"ticks\":\"\"}}}],\"scattercarpet\":[{\"type\":\"scattercarpet\",\"marker\":{\"colorbar\":{\"outlinewidth\":0,\"ticks\":\"\"}}}],\"carpet\":[{\"aaxis\":{\"endlinecolor\":\"#2a3f5f\",\"gridcolor\":\"white\",\"linecolor\":\"white\",\"minorgridcolor\":\"white\",\"startlinecolor\":\"#2a3f5f\"},\"baxis\":{\"endlinecolor\":\"#2a3f5f\",\"gridcolor\":\"white\",\"linecolor\":\"white\",\"minorgridcolor\":\"white\",\"startlinecolor\":\"#2a3f5f\"},\"type\":\"carpet\"}],\"table\":[{\"cells\":{\"fill\":{\"color\":\"#EBF0F8\"},\"line\":{\"color\":\"white\"}},\"header\":{\"fill\":{\"color\":\"#C8D4E3\"},\"line\":{\"color\":\"white\"}},\"type\":\"table\"}],\"barpolar\":[{\"marker\":{\"line\":{\"color\":\"#E5ECF6\",\"width\":0.5},\"pattern\":{\"fillmode\":\"overlay\",\"size\":10,\"solidity\":0.2}},\"type\":\"barpolar\"}],\"pie\":[{\"automargin\":true,\"type\":\"pie\"}]},\"layout\":{\"autotypenumbers\":\"strict\",\"colorway\":[\"#636efa\",\"#EF553B\",\"#00cc96\",\"#ab63fa\",\"#FFA15A\",\"#19d3f3\",\"#FF6692\",\"#B6E880\",\"#FF97FF\",\"#FECB52\"],\"font\":{\"color\":\"#2a3f5f\"},\"hovermode\":\"closest\",\"hoverlabel\":{\"align\":\"left\"},\"paper_bgcolor\":\"white\",\"plot_bgcolor\":\"#E5ECF6\",\"polar\":{\"bgcolor\":\"#E5ECF6\",\"angularaxis\":{\"gridcolor\":\"white\",\"linecolor\":\"white\",\"ticks\":\"\"},\"radialaxis\":{\"gridcolor\":\"white\",\"linecolor\":\"white\",\"ticks\":\"\"}},\"ternary\":{\"bgcolor\":\"#E5ECF6\",\"aaxis\":{\"gridcolor\":\"white\",\"linecolor\":\"white\",\"ticks\":\"\"},\"baxis\":{\"gridcolor\":\"white\",\"linecolor\":\"white\",\"ticks\":\"\"},\"caxis\":{\"gridcolor\":\"white\",\"linecolor\":\"white\",\"ticks\":\"\"}},\"coloraxis\":{\"colorbar\":{\"outlinewidth\":0,\"ticks\":\"\"}},\"colorscale\":{\"sequential\":[[0.0,\"#0d0887\"],[0.1111111111111111,\"#46039f\"],[0.2222222222222222,\"#7201a8\"],[0.3333333333333333,\"#9c179e\"],[0.4444444444444444,\"#bd3786\"],[0.5555555555555556,\"#d8576b\"],[0.6666666666666666,\"#ed7953\"],[0.7777777777777778,\"#fb9f3a\"],[0.8888888888888888,\"#fdca26\"],[1.0,\"#f0f921\"]],\"sequentialminus\":[[0.0,\"#0d0887\"],[0.1111111111111111,\"#46039f\"],[0.2222222222222222,\"#7201a8\"],[0.3333333333333333,\"#9c179e\"],[0.4444444444444444,\"#bd3786\"],[0.5555555555555556,\"#d8576b\"],[0.6666666666666666,\"#ed7953\"],[0.7777777777777778,\"#fb9f3a\"],[0.8888888888888888,\"#fdca26\"],[1.0,\"#f0f921\"]],\"diverging\":[[0,\"#8e0152\"],[0.1,\"#c51b7d\"],[0.2,\"#de77ae\"],[0.3,\"#f1b6da\"],[0.4,\"#fde0ef\"],[0.5,\"#f7f7f7\"],[0.6,\"#e6f5d0\"],[0.7,\"#b8e186\"],[0.8,\"#7fbc41\"],[0.9,\"#4d9221\"],[1,\"#276419\"]]},\"xaxis\":{\"gridcolor\":\"white\",\"linecolor\":\"white\",\"ticks\":\"\",\"title\":{\"standoff\":15},\"zerolinecolor\":\"white\",\"automargin\":true,\"zerolinewidth\":2},\"yaxis\":{\"gridcolor\":\"white\",\"linecolor\":\"white\",\"ticks\":\"\",\"title\":{\"standoff\":15},\"zerolinecolor\":\"white\",\"automargin\":true,\"zerolinewidth\":2},\"scene\":{\"xaxis\":{\"backgroundcolor\":\"#E5ECF6\",\"gridcolor\":\"white\",\"linecolor\":\"white\",\"showbackground\":true,\"ticks\":\"\",\"zerolinecolor\":\"white\",\"gridwidth\":2},\"yaxis\":{\"backgroundcolor\":\"#E5ECF6\",\"gridcolor\":\"white\",\"linecolor\":\"white\",\"showbackground\":true,\"ticks\":\"\",\"zerolinecolor\":\"white\",\"gridwidth\":2},\"zaxis\":{\"backgroundcolor\":\"#E5ECF6\",\"gridcolor\":\"white\",\"linecolor\":\"white\",\"showbackground\":true,\"ticks\":\"\",\"zerolinecolor\":\"white\",\"gridwidth\":2}},\"shapedefaults\":{\"line\":{\"color\":\"#2a3f5f\"}},\"annotationdefaults\":{\"arrowcolor\":\"#2a3f5f\",\"arrowhead\":0,\"arrowwidth\":1},\"geo\":{\"bgcolor\":\"white\",\"landcolor\":\"#E5ECF6\",\"subunitcolor\":\"white\",\"showland\":true,\"showlakes\":true,\"lakecolor\":\"white\"},\"title\":{\"x\":0.05},\"mapbox\":{\"style\":\"light\"}}},\"mapbox\":{\"domain\":{\"x\":[0.0,1.0],\"y\":[0.0,1.0]},\"center\":{\"lat\":-7.058490857142857,\"lon\":107.66362042857143},\"zoom\":8,\"style\":\"carto-positron\"},\"legend\":{\"title\":{\"text\":\"Single\"},\"tracegroupgap\":0},\"margin\":{\"t\":0,\"r\":0,\"l\":0,\"b\":0},\"height\":500,\"width\":700},                        {\"responsive\": true}                    ).then(function(){\n",
       "                            \n",
       "var gd = document.getElementById('7be7cdd8-82c4-4655-b79f-724d77ee6d7f');\n",
       "var x = new MutationObserver(function (mutations, observer) {{\n",
       "        var display = window.getComputedStyle(gd).display;\n",
       "        if (!display || display === 'none') {{\n",
       "            console.log([gd, 'removed!']);\n",
       "            Plotly.purge(gd);\n",
       "            observer.disconnect();\n",
       "        }}\n",
       "}});\n",
       "\n",
       "// Listen for the removal of the full notebook cells\n",
       "var notebookContainer = gd.closest('#notebook-container');\n",
       "if (notebookContainer) {{\n",
       "    x.observe(notebookContainer, {childList: true});\n",
       "}}\n",
       "\n",
       "// Listen for the clearing of the current output cell\n",
       "var outputEl = gd.closest('.output');\n",
       "if (outputEl) {{\n",
       "    x.observe(outputEl, {childList: true});\n",
       "}}\n",
       "\n",
       "                        })                };                });            </script>        </div>"
      ]
     },
     "metadata": {},
     "output_type": "display_data"
    }
   ],
   "source": [
    "#| label: fig-11\n",
    "#| fig-cap: \"Clustering Result Based on Single Method\"\n",
    "import plotly.express as px\n",
    "import plotly.graph_objects as go\n",
    "\n",
    "data_agg = data.groupby(['Region']).agg('mean')\n",
    "\n",
    "fig = px.scatter_mapbox(data_agg, \n",
    "                        lat=\"latitude\", \n",
    "                        lon=\"longitude\", \n",
    "                        color=\"Single\",\n",
    "                        color_discrete_sequence=px.colors.qualitative.G10,\n",
    "                        zoom=8,\n",
    "                        height=500,\n",
    "                        width=700,\n",
    "                        text = list(data_agg.index))\n",
    "\n",
    "fig.update_layout(mapbox_style=\"carto-positron\")\n",
    "fig.update_layout(margin={\"r\":0,\"t\":0,\"l\":0,\"b\":0})\n",
    "fig.update_traces(marker={'size': 15})\n",
    "fig.update_traces(textposition='top center')\n",
    "fig.show()"
   ]
  },
  {
   "cell_type": "code",
   "execution_count": 26,
   "id": "8915d27f",
   "metadata": {
    "ExecuteTime": {
     "end_time": "2023-11-16T14:38:57.602412Z",
     "start_time": "2023-11-16T14:38:57.529258Z"
    }
   },
   "outputs": [
    {
     "data": {
      "application/vnd.plotly.v1+json": {
       "config": {
        "plotlyServerURL": "https://plot.ly"
       },
       "data": [
        {
         "customdata": [
          [
           "BL"
          ],
          [
           "RC"
          ],
          [
           "SR"
          ]
         ],
         "hovertemplate": "Others=2.0<br>latitude=%{lat}<br>longitude=%{lon}<br>index=%{customdata[0]}<extra></extra>",
         "lat": [
          -7.004517,
          -6.971517,
          -7.025404
         ],
         "legendgroup": "2.0",
         "lon": [
          107.63187799999999,
          107.75940399999999,
          107.532008
         ],
         "marker": {
          "color": "#3366CC",
          "size": 15
         },
         "mode": "markers",
         "name": "2.0",
         "showlegend": true,
         "subplot": "mapbox",
         "type": "scattermapbox"
        },
        {
         "customdata": [
          [
           "CP"
          ],
          [
           "MJ"
          ]
         ],
         "hovertemplate": "Others=1.0<br>latitude=%{lat}<br>longitude=%{lon}<br>index=%{customdata[0]}<extra></extra>",
         "lat": [
          -7.037803,
          -7.05468
         ],
         "legendgroup": "1.0",
         "lon": [
          107.71050099999998,
          107.746994
         ],
         "marker": {
          "color": "#DC3912",
          "size": 15
         },
         "mode": "markers",
         "name": "1.0",
         "showlegend": true,
         "subplot": "mapbox",
         "type": "scattermapbox"
        },
        {
         "customdata": [
          [
           "PC"
          ],
          [
           "PL"
          ]
         ],
         "hovertemplate": "Others=3.0<br>latitude=%{lat}<br>longitude=%{lon}<br>index=%{customdata[0]}<extra></extra>",
         "lat": [
          -7.119608000000001,
          -7.195907000000001
         ],
         "legendgroup": "3.0",
         "lon": [
          107.69813500000001,
          107.566423
         ],
         "marker": {
          "color": "#FF9900",
          "size": 15
         },
         "mode": "markers",
         "name": "3.0",
         "showlegend": true,
         "subplot": "mapbox",
         "type": "scattermapbox"
        }
       ],
       "layout": {
        "height": 500,
        "legend": {
         "title": {
          "text": "Others"
         },
         "tracegroupgap": 0
        },
        "mapbox": {
         "center": {
          "lat": -7.058490857142857,
          "lon": 107.66362042857143
         },
         "domain": {
          "x": [
           0,
           1
          ],
          "y": [
           0,
           1
          ]
         },
         "style": "carto-positron",
         "zoom": 8
        },
        "margin": {
         "b": 0,
         "l": 0,
         "r": 0,
         "t": 0
        },
        "template": {
         "data": {
          "bar": [
           {
            "error_x": {
             "color": "#2a3f5f"
            },
            "error_y": {
             "color": "#2a3f5f"
            },
            "marker": {
             "line": {
              "color": "#E5ECF6",
              "width": 0.5
             },
             "pattern": {
              "fillmode": "overlay",
              "size": 10,
              "solidity": 0.2
             }
            },
            "type": "bar"
           }
          ],
          "barpolar": [
           {
            "marker": {
             "line": {
              "color": "#E5ECF6",
              "width": 0.5
             },
             "pattern": {
              "fillmode": "overlay",
              "size": 10,
              "solidity": 0.2
             }
            },
            "type": "barpolar"
           }
          ],
          "carpet": [
           {
            "aaxis": {
             "endlinecolor": "#2a3f5f",
             "gridcolor": "white",
             "linecolor": "white",
             "minorgridcolor": "white",
             "startlinecolor": "#2a3f5f"
            },
            "baxis": {
             "endlinecolor": "#2a3f5f",
             "gridcolor": "white",
             "linecolor": "white",
             "minorgridcolor": "white",
             "startlinecolor": "#2a3f5f"
            },
            "type": "carpet"
           }
          ],
          "choropleth": [
           {
            "colorbar": {
             "outlinewidth": 0,
             "ticks": ""
            },
            "type": "choropleth"
           }
          ],
          "contour": [
           {
            "colorbar": {
             "outlinewidth": 0,
             "ticks": ""
            },
            "colorscale": [
             [
              0,
              "#0d0887"
             ],
             [
              0.1111111111111111,
              "#46039f"
             ],
             [
              0.2222222222222222,
              "#7201a8"
             ],
             [
              0.3333333333333333,
              "#9c179e"
             ],
             [
              0.4444444444444444,
              "#bd3786"
             ],
             [
              0.5555555555555556,
              "#d8576b"
             ],
             [
              0.6666666666666666,
              "#ed7953"
             ],
             [
              0.7777777777777778,
              "#fb9f3a"
             ],
             [
              0.8888888888888888,
              "#fdca26"
             ],
             [
              1,
              "#f0f921"
             ]
            ],
            "type": "contour"
           }
          ],
          "contourcarpet": [
           {
            "colorbar": {
             "outlinewidth": 0,
             "ticks": ""
            },
            "type": "contourcarpet"
           }
          ],
          "heatmap": [
           {
            "colorbar": {
             "outlinewidth": 0,
             "ticks": ""
            },
            "colorscale": [
             [
              0,
              "#0d0887"
             ],
             [
              0.1111111111111111,
              "#46039f"
             ],
             [
              0.2222222222222222,
              "#7201a8"
             ],
             [
              0.3333333333333333,
              "#9c179e"
             ],
             [
              0.4444444444444444,
              "#bd3786"
             ],
             [
              0.5555555555555556,
              "#d8576b"
             ],
             [
              0.6666666666666666,
              "#ed7953"
             ],
             [
              0.7777777777777778,
              "#fb9f3a"
             ],
             [
              0.8888888888888888,
              "#fdca26"
             ],
             [
              1,
              "#f0f921"
             ]
            ],
            "type": "heatmap"
           }
          ],
          "heatmapgl": [
           {
            "colorbar": {
             "outlinewidth": 0,
             "ticks": ""
            },
            "colorscale": [
             [
              0,
              "#0d0887"
             ],
             [
              0.1111111111111111,
              "#46039f"
             ],
             [
              0.2222222222222222,
              "#7201a8"
             ],
             [
              0.3333333333333333,
              "#9c179e"
             ],
             [
              0.4444444444444444,
              "#bd3786"
             ],
             [
              0.5555555555555556,
              "#d8576b"
             ],
             [
              0.6666666666666666,
              "#ed7953"
             ],
             [
              0.7777777777777778,
              "#fb9f3a"
             ],
             [
              0.8888888888888888,
              "#fdca26"
             ],
             [
              1,
              "#f0f921"
             ]
            ],
            "type": "heatmapgl"
           }
          ],
          "histogram": [
           {
            "marker": {
             "pattern": {
              "fillmode": "overlay",
              "size": 10,
              "solidity": 0.2
             }
            },
            "type": "histogram"
           }
          ],
          "histogram2d": [
           {
            "colorbar": {
             "outlinewidth": 0,
             "ticks": ""
            },
            "colorscale": [
             [
              0,
              "#0d0887"
             ],
             [
              0.1111111111111111,
              "#46039f"
             ],
             [
              0.2222222222222222,
              "#7201a8"
             ],
             [
              0.3333333333333333,
              "#9c179e"
             ],
             [
              0.4444444444444444,
              "#bd3786"
             ],
             [
              0.5555555555555556,
              "#d8576b"
             ],
             [
              0.6666666666666666,
              "#ed7953"
             ],
             [
              0.7777777777777778,
              "#fb9f3a"
             ],
             [
              0.8888888888888888,
              "#fdca26"
             ],
             [
              1,
              "#f0f921"
             ]
            ],
            "type": "histogram2d"
           }
          ],
          "histogram2dcontour": [
           {
            "colorbar": {
             "outlinewidth": 0,
             "ticks": ""
            },
            "colorscale": [
             [
              0,
              "#0d0887"
             ],
             [
              0.1111111111111111,
              "#46039f"
             ],
             [
              0.2222222222222222,
              "#7201a8"
             ],
             [
              0.3333333333333333,
              "#9c179e"
             ],
             [
              0.4444444444444444,
              "#bd3786"
             ],
             [
              0.5555555555555556,
              "#d8576b"
             ],
             [
              0.6666666666666666,
              "#ed7953"
             ],
             [
              0.7777777777777778,
              "#fb9f3a"
             ],
             [
              0.8888888888888888,
              "#fdca26"
             ],
             [
              1,
              "#f0f921"
             ]
            ],
            "type": "histogram2dcontour"
           }
          ],
          "mesh3d": [
           {
            "colorbar": {
             "outlinewidth": 0,
             "ticks": ""
            },
            "type": "mesh3d"
           }
          ],
          "parcoords": [
           {
            "line": {
             "colorbar": {
              "outlinewidth": 0,
              "ticks": ""
             }
            },
            "type": "parcoords"
           }
          ],
          "pie": [
           {
            "automargin": true,
            "type": "pie"
           }
          ],
          "scatter": [
           {
            "fillpattern": {
             "fillmode": "overlay",
             "size": 10,
             "solidity": 0.2
            },
            "type": "scatter"
           }
          ],
          "scatter3d": [
           {
            "line": {
             "colorbar": {
              "outlinewidth": 0,
              "ticks": ""
             }
            },
            "marker": {
             "colorbar": {
              "outlinewidth": 0,
              "ticks": ""
             }
            },
            "type": "scatter3d"
           }
          ],
          "scattercarpet": [
           {
            "marker": {
             "colorbar": {
              "outlinewidth": 0,
              "ticks": ""
             }
            },
            "type": "scattercarpet"
           }
          ],
          "scattergeo": [
           {
            "marker": {
             "colorbar": {
              "outlinewidth": 0,
              "ticks": ""
             }
            },
            "type": "scattergeo"
           }
          ],
          "scattergl": [
           {
            "marker": {
             "colorbar": {
              "outlinewidth": 0,
              "ticks": ""
             }
            },
            "type": "scattergl"
           }
          ],
          "scattermapbox": [
           {
            "marker": {
             "colorbar": {
              "outlinewidth": 0,
              "ticks": ""
             }
            },
            "type": "scattermapbox"
           }
          ],
          "scatterpolar": [
           {
            "marker": {
             "colorbar": {
              "outlinewidth": 0,
              "ticks": ""
             }
            },
            "type": "scatterpolar"
           }
          ],
          "scatterpolargl": [
           {
            "marker": {
             "colorbar": {
              "outlinewidth": 0,
              "ticks": ""
             }
            },
            "type": "scatterpolargl"
           }
          ],
          "scatterternary": [
           {
            "marker": {
             "colorbar": {
              "outlinewidth": 0,
              "ticks": ""
             }
            },
            "type": "scatterternary"
           }
          ],
          "surface": [
           {
            "colorbar": {
             "outlinewidth": 0,
             "ticks": ""
            },
            "colorscale": [
             [
              0,
              "#0d0887"
             ],
             [
              0.1111111111111111,
              "#46039f"
             ],
             [
              0.2222222222222222,
              "#7201a8"
             ],
             [
              0.3333333333333333,
              "#9c179e"
             ],
             [
              0.4444444444444444,
              "#bd3786"
             ],
             [
              0.5555555555555556,
              "#d8576b"
             ],
             [
              0.6666666666666666,
              "#ed7953"
             ],
             [
              0.7777777777777778,
              "#fb9f3a"
             ],
             [
              0.8888888888888888,
              "#fdca26"
             ],
             [
              1,
              "#f0f921"
             ]
            ],
            "type": "surface"
           }
          ],
          "table": [
           {
            "cells": {
             "fill": {
              "color": "#EBF0F8"
             },
             "line": {
              "color": "white"
             }
            },
            "header": {
             "fill": {
              "color": "#C8D4E3"
             },
             "line": {
              "color": "white"
             }
            },
            "type": "table"
           }
          ]
         },
         "layout": {
          "annotationdefaults": {
           "arrowcolor": "#2a3f5f",
           "arrowhead": 0,
           "arrowwidth": 1
          },
          "autotypenumbers": "strict",
          "coloraxis": {
           "colorbar": {
            "outlinewidth": 0,
            "ticks": ""
           }
          },
          "colorscale": {
           "diverging": [
            [
             0,
             "#8e0152"
            ],
            [
             0.1,
             "#c51b7d"
            ],
            [
             0.2,
             "#de77ae"
            ],
            [
             0.3,
             "#f1b6da"
            ],
            [
             0.4,
             "#fde0ef"
            ],
            [
             0.5,
             "#f7f7f7"
            ],
            [
             0.6,
             "#e6f5d0"
            ],
            [
             0.7,
             "#b8e186"
            ],
            [
             0.8,
             "#7fbc41"
            ],
            [
             0.9,
             "#4d9221"
            ],
            [
             1,
             "#276419"
            ]
           ],
           "sequential": [
            [
             0,
             "#0d0887"
            ],
            [
             0.1111111111111111,
             "#46039f"
            ],
            [
             0.2222222222222222,
             "#7201a8"
            ],
            [
             0.3333333333333333,
             "#9c179e"
            ],
            [
             0.4444444444444444,
             "#bd3786"
            ],
            [
             0.5555555555555556,
             "#d8576b"
            ],
            [
             0.6666666666666666,
             "#ed7953"
            ],
            [
             0.7777777777777778,
             "#fb9f3a"
            ],
            [
             0.8888888888888888,
             "#fdca26"
            ],
            [
             1,
             "#f0f921"
            ]
           ],
           "sequentialminus": [
            [
             0,
             "#0d0887"
            ],
            [
             0.1111111111111111,
             "#46039f"
            ],
            [
             0.2222222222222222,
             "#7201a8"
            ],
            [
             0.3333333333333333,
             "#9c179e"
            ],
            [
             0.4444444444444444,
             "#bd3786"
            ],
            [
             0.5555555555555556,
             "#d8576b"
            ],
            [
             0.6666666666666666,
             "#ed7953"
            ],
            [
             0.7777777777777778,
             "#fb9f3a"
            ],
            [
             0.8888888888888888,
             "#fdca26"
            ],
            [
             1,
             "#f0f921"
            ]
           ]
          },
          "colorway": [
           "#636efa",
           "#EF553B",
           "#00cc96",
           "#ab63fa",
           "#FFA15A",
           "#19d3f3",
           "#FF6692",
           "#B6E880",
           "#FF97FF",
           "#FECB52"
          ],
          "font": {
           "color": "#2a3f5f"
          },
          "geo": {
           "bgcolor": "white",
           "lakecolor": "white",
           "landcolor": "#E5ECF6",
           "showlakes": true,
           "showland": true,
           "subunitcolor": "white"
          },
          "hoverlabel": {
           "align": "left"
          },
          "hovermode": "closest",
          "mapbox": {
           "style": "light"
          },
          "paper_bgcolor": "white",
          "plot_bgcolor": "#E5ECF6",
          "polar": {
           "angularaxis": {
            "gridcolor": "white",
            "linecolor": "white",
            "ticks": ""
           },
           "bgcolor": "#E5ECF6",
           "radialaxis": {
            "gridcolor": "white",
            "linecolor": "white",
            "ticks": ""
           }
          },
          "scene": {
           "xaxis": {
            "backgroundcolor": "#E5ECF6",
            "gridcolor": "white",
            "gridwidth": 2,
            "linecolor": "white",
            "showbackground": true,
            "ticks": "",
            "zerolinecolor": "white"
           },
           "yaxis": {
            "backgroundcolor": "#E5ECF6",
            "gridcolor": "white",
            "gridwidth": 2,
            "linecolor": "white",
            "showbackground": true,
            "ticks": "",
            "zerolinecolor": "white"
           },
           "zaxis": {
            "backgroundcolor": "#E5ECF6",
            "gridcolor": "white",
            "gridwidth": 2,
            "linecolor": "white",
            "showbackground": true,
            "ticks": "",
            "zerolinecolor": "white"
           }
          },
          "shapedefaults": {
           "line": {
            "color": "#2a3f5f"
           }
          },
          "ternary": {
           "aaxis": {
            "gridcolor": "white",
            "linecolor": "white",
            "ticks": ""
           },
           "baxis": {
            "gridcolor": "white",
            "linecolor": "white",
            "ticks": ""
           },
           "bgcolor": "#E5ECF6",
           "caxis": {
            "gridcolor": "white",
            "linecolor": "white",
            "ticks": ""
           }
          },
          "title": {
           "x": 0.05
          },
          "xaxis": {
           "automargin": true,
           "gridcolor": "white",
           "linecolor": "white",
           "ticks": "",
           "title": {
            "standoff": 15
           },
           "zerolinecolor": "white",
           "zerolinewidth": 2
          },
          "yaxis": {
           "automargin": true,
           "gridcolor": "white",
           "linecolor": "white",
           "ticks": "",
           "title": {
            "standoff": 15
           },
           "zerolinecolor": "white",
           "zerolinewidth": 2
          }
         }
        },
        "width": 700
       }
      },
      "text/html": [
       "<div>                            <div id=\"ef12ea32-15b7-4ee5-b531-bdf035d74dcb\" class=\"plotly-graph-div\" style=\"height:500px; width:700px;\"></div>            <script type=\"text/javascript\">                require([\"plotly\"], function(Plotly) {                    window.PLOTLYENV=window.PLOTLYENV || {};                                    if (document.getElementById(\"ef12ea32-15b7-4ee5-b531-bdf035d74dcb\")) {                    Plotly.newPlot(                        \"ef12ea32-15b7-4ee5-b531-bdf035d74dcb\",                        [{\"customdata\":[[\"BL\"],[\"RC\"],[\"SR\"]],\"hovertemplate\":\"Others=2.0<br>latitude=%{lat}<br>longitude=%{lon}<br>index=%{customdata[0]}<extra></extra>\",\"lat\":[-7.004517,-6.971517,-7.025404],\"legendgroup\":\"2.0\",\"lon\":[107.63187799999999,107.75940399999999,107.532008],\"marker\":{\"color\":\"#3366CC\",\"size\":15},\"mode\":\"markers\",\"name\":\"2.0\",\"showlegend\":true,\"subplot\":\"mapbox\",\"type\":\"scattermapbox\"},{\"customdata\":[[\"CP\"],[\"MJ\"]],\"hovertemplate\":\"Others=1.0<br>latitude=%{lat}<br>longitude=%{lon}<br>index=%{customdata[0]}<extra></extra>\",\"lat\":[-7.037803,-7.05468],\"legendgroup\":\"1.0\",\"lon\":[107.71050099999998,107.746994],\"marker\":{\"color\":\"#DC3912\",\"size\":15},\"mode\":\"markers\",\"name\":\"1.0\",\"showlegend\":true,\"subplot\":\"mapbox\",\"type\":\"scattermapbox\"},{\"customdata\":[[\"PC\"],[\"PL\"]],\"hovertemplate\":\"Others=3.0<br>latitude=%{lat}<br>longitude=%{lon}<br>index=%{customdata[0]}<extra></extra>\",\"lat\":[-7.119608000000001,-7.195907000000001],\"legendgroup\":\"3.0\",\"lon\":[107.69813500000001,107.566423],\"marker\":{\"color\":\"#FF9900\",\"size\":15},\"mode\":\"markers\",\"name\":\"3.0\",\"showlegend\":true,\"subplot\":\"mapbox\",\"type\":\"scattermapbox\"}],                        {\"template\":{\"data\":{\"histogram2dcontour\":[{\"type\":\"histogram2dcontour\",\"colorbar\":{\"outlinewidth\":0,\"ticks\":\"\"},\"colorscale\":[[0.0,\"#0d0887\"],[0.1111111111111111,\"#46039f\"],[0.2222222222222222,\"#7201a8\"],[0.3333333333333333,\"#9c179e\"],[0.4444444444444444,\"#bd3786\"],[0.5555555555555556,\"#d8576b\"],[0.6666666666666666,\"#ed7953\"],[0.7777777777777778,\"#fb9f3a\"],[0.8888888888888888,\"#fdca26\"],[1.0,\"#f0f921\"]]}],\"choropleth\":[{\"type\":\"choropleth\",\"colorbar\":{\"outlinewidth\":0,\"ticks\":\"\"}}],\"histogram2d\":[{\"type\":\"histogram2d\",\"colorbar\":{\"outlinewidth\":0,\"ticks\":\"\"},\"colorscale\":[[0.0,\"#0d0887\"],[0.1111111111111111,\"#46039f\"],[0.2222222222222222,\"#7201a8\"],[0.3333333333333333,\"#9c179e\"],[0.4444444444444444,\"#bd3786\"],[0.5555555555555556,\"#d8576b\"],[0.6666666666666666,\"#ed7953\"],[0.7777777777777778,\"#fb9f3a\"],[0.8888888888888888,\"#fdca26\"],[1.0,\"#f0f921\"]]}],\"heatmap\":[{\"type\":\"heatmap\",\"colorbar\":{\"outlinewidth\":0,\"ticks\":\"\"},\"colorscale\":[[0.0,\"#0d0887\"],[0.1111111111111111,\"#46039f\"],[0.2222222222222222,\"#7201a8\"],[0.3333333333333333,\"#9c179e\"],[0.4444444444444444,\"#bd3786\"],[0.5555555555555556,\"#d8576b\"],[0.6666666666666666,\"#ed7953\"],[0.7777777777777778,\"#fb9f3a\"],[0.8888888888888888,\"#fdca26\"],[1.0,\"#f0f921\"]]}],\"heatmapgl\":[{\"type\":\"heatmapgl\",\"colorbar\":{\"outlinewidth\":0,\"ticks\":\"\"},\"colorscale\":[[0.0,\"#0d0887\"],[0.1111111111111111,\"#46039f\"],[0.2222222222222222,\"#7201a8\"],[0.3333333333333333,\"#9c179e\"],[0.4444444444444444,\"#bd3786\"],[0.5555555555555556,\"#d8576b\"],[0.6666666666666666,\"#ed7953\"],[0.7777777777777778,\"#fb9f3a\"],[0.8888888888888888,\"#fdca26\"],[1.0,\"#f0f921\"]]}],\"contourcarpet\":[{\"type\":\"contourcarpet\",\"colorbar\":{\"outlinewidth\":0,\"ticks\":\"\"}}],\"contour\":[{\"type\":\"contour\",\"colorbar\":{\"outlinewidth\":0,\"ticks\":\"\"},\"colorscale\":[[0.0,\"#0d0887\"],[0.1111111111111111,\"#46039f\"],[0.2222222222222222,\"#7201a8\"],[0.3333333333333333,\"#9c179e\"],[0.4444444444444444,\"#bd3786\"],[0.5555555555555556,\"#d8576b\"],[0.6666666666666666,\"#ed7953\"],[0.7777777777777778,\"#fb9f3a\"],[0.8888888888888888,\"#fdca26\"],[1.0,\"#f0f921\"]]}],\"surface\":[{\"type\":\"surface\",\"colorbar\":{\"outlinewidth\":0,\"ticks\":\"\"},\"colorscale\":[[0.0,\"#0d0887\"],[0.1111111111111111,\"#46039f\"],[0.2222222222222222,\"#7201a8\"],[0.3333333333333333,\"#9c179e\"],[0.4444444444444444,\"#bd3786\"],[0.5555555555555556,\"#d8576b\"],[0.6666666666666666,\"#ed7953\"],[0.7777777777777778,\"#fb9f3a\"],[0.8888888888888888,\"#fdca26\"],[1.0,\"#f0f921\"]]}],\"mesh3d\":[{\"type\":\"mesh3d\",\"colorbar\":{\"outlinewidth\":0,\"ticks\":\"\"}}],\"scatter\":[{\"fillpattern\":{\"fillmode\":\"overlay\",\"size\":10,\"solidity\":0.2},\"type\":\"scatter\"}],\"parcoords\":[{\"type\":\"parcoords\",\"line\":{\"colorbar\":{\"outlinewidth\":0,\"ticks\":\"\"}}}],\"scatterpolargl\":[{\"type\":\"scatterpolargl\",\"marker\":{\"colorbar\":{\"outlinewidth\":0,\"ticks\":\"\"}}}],\"bar\":[{\"error_x\":{\"color\":\"#2a3f5f\"},\"error_y\":{\"color\":\"#2a3f5f\"},\"marker\":{\"line\":{\"color\":\"#E5ECF6\",\"width\":0.5},\"pattern\":{\"fillmode\":\"overlay\",\"size\":10,\"solidity\":0.2}},\"type\":\"bar\"}],\"scattergeo\":[{\"type\":\"scattergeo\",\"marker\":{\"colorbar\":{\"outlinewidth\":0,\"ticks\":\"\"}}}],\"scatterpolar\":[{\"type\":\"scatterpolar\",\"marker\":{\"colorbar\":{\"outlinewidth\":0,\"ticks\":\"\"}}}],\"histogram\":[{\"marker\":{\"pattern\":{\"fillmode\":\"overlay\",\"size\":10,\"solidity\":0.2}},\"type\":\"histogram\"}],\"scattergl\":[{\"type\":\"scattergl\",\"marker\":{\"colorbar\":{\"outlinewidth\":0,\"ticks\":\"\"}}}],\"scatter3d\":[{\"type\":\"scatter3d\",\"line\":{\"colorbar\":{\"outlinewidth\":0,\"ticks\":\"\"}},\"marker\":{\"colorbar\":{\"outlinewidth\":0,\"ticks\":\"\"}}}],\"scattermapbox\":[{\"type\":\"scattermapbox\",\"marker\":{\"colorbar\":{\"outlinewidth\":0,\"ticks\":\"\"}}}],\"scatterternary\":[{\"type\":\"scatterternary\",\"marker\":{\"colorbar\":{\"outlinewidth\":0,\"ticks\":\"\"}}}],\"scattercarpet\":[{\"type\":\"scattercarpet\",\"marker\":{\"colorbar\":{\"outlinewidth\":0,\"ticks\":\"\"}}}],\"carpet\":[{\"aaxis\":{\"endlinecolor\":\"#2a3f5f\",\"gridcolor\":\"white\",\"linecolor\":\"white\",\"minorgridcolor\":\"white\",\"startlinecolor\":\"#2a3f5f\"},\"baxis\":{\"endlinecolor\":\"#2a3f5f\",\"gridcolor\":\"white\",\"linecolor\":\"white\",\"minorgridcolor\":\"white\",\"startlinecolor\":\"#2a3f5f\"},\"type\":\"carpet\"}],\"table\":[{\"cells\":{\"fill\":{\"color\":\"#EBF0F8\"},\"line\":{\"color\":\"white\"}},\"header\":{\"fill\":{\"color\":\"#C8D4E3\"},\"line\":{\"color\":\"white\"}},\"type\":\"table\"}],\"barpolar\":[{\"marker\":{\"line\":{\"color\":\"#E5ECF6\",\"width\":0.5},\"pattern\":{\"fillmode\":\"overlay\",\"size\":10,\"solidity\":0.2}},\"type\":\"barpolar\"}],\"pie\":[{\"automargin\":true,\"type\":\"pie\"}]},\"layout\":{\"autotypenumbers\":\"strict\",\"colorway\":[\"#636efa\",\"#EF553B\",\"#00cc96\",\"#ab63fa\",\"#FFA15A\",\"#19d3f3\",\"#FF6692\",\"#B6E880\",\"#FF97FF\",\"#FECB52\"],\"font\":{\"color\":\"#2a3f5f\"},\"hovermode\":\"closest\",\"hoverlabel\":{\"align\":\"left\"},\"paper_bgcolor\":\"white\",\"plot_bgcolor\":\"#E5ECF6\",\"polar\":{\"bgcolor\":\"#E5ECF6\",\"angularaxis\":{\"gridcolor\":\"white\",\"linecolor\":\"white\",\"ticks\":\"\"},\"radialaxis\":{\"gridcolor\":\"white\",\"linecolor\":\"white\",\"ticks\":\"\"}},\"ternary\":{\"bgcolor\":\"#E5ECF6\",\"aaxis\":{\"gridcolor\":\"white\",\"linecolor\":\"white\",\"ticks\":\"\"},\"baxis\":{\"gridcolor\":\"white\",\"linecolor\":\"white\",\"ticks\":\"\"},\"caxis\":{\"gridcolor\":\"white\",\"linecolor\":\"white\",\"ticks\":\"\"}},\"coloraxis\":{\"colorbar\":{\"outlinewidth\":0,\"ticks\":\"\"}},\"colorscale\":{\"sequential\":[[0.0,\"#0d0887\"],[0.1111111111111111,\"#46039f\"],[0.2222222222222222,\"#7201a8\"],[0.3333333333333333,\"#9c179e\"],[0.4444444444444444,\"#bd3786\"],[0.5555555555555556,\"#d8576b\"],[0.6666666666666666,\"#ed7953\"],[0.7777777777777778,\"#fb9f3a\"],[0.8888888888888888,\"#fdca26\"],[1.0,\"#f0f921\"]],\"sequentialminus\":[[0.0,\"#0d0887\"],[0.1111111111111111,\"#46039f\"],[0.2222222222222222,\"#7201a8\"],[0.3333333333333333,\"#9c179e\"],[0.4444444444444444,\"#bd3786\"],[0.5555555555555556,\"#d8576b\"],[0.6666666666666666,\"#ed7953\"],[0.7777777777777778,\"#fb9f3a\"],[0.8888888888888888,\"#fdca26\"],[1.0,\"#f0f921\"]],\"diverging\":[[0,\"#8e0152\"],[0.1,\"#c51b7d\"],[0.2,\"#de77ae\"],[0.3,\"#f1b6da\"],[0.4,\"#fde0ef\"],[0.5,\"#f7f7f7\"],[0.6,\"#e6f5d0\"],[0.7,\"#b8e186\"],[0.8,\"#7fbc41\"],[0.9,\"#4d9221\"],[1,\"#276419\"]]},\"xaxis\":{\"gridcolor\":\"white\",\"linecolor\":\"white\",\"ticks\":\"\",\"title\":{\"standoff\":15},\"zerolinecolor\":\"white\",\"automargin\":true,\"zerolinewidth\":2},\"yaxis\":{\"gridcolor\":\"white\",\"linecolor\":\"white\",\"ticks\":\"\",\"title\":{\"standoff\":15},\"zerolinecolor\":\"white\",\"automargin\":true,\"zerolinewidth\":2},\"scene\":{\"xaxis\":{\"backgroundcolor\":\"#E5ECF6\",\"gridcolor\":\"white\",\"linecolor\":\"white\",\"showbackground\":true,\"ticks\":\"\",\"zerolinecolor\":\"white\",\"gridwidth\":2},\"yaxis\":{\"backgroundcolor\":\"#E5ECF6\",\"gridcolor\":\"white\",\"linecolor\":\"white\",\"showbackground\":true,\"ticks\":\"\",\"zerolinecolor\":\"white\",\"gridwidth\":2},\"zaxis\":{\"backgroundcolor\":\"#E5ECF6\",\"gridcolor\":\"white\",\"linecolor\":\"white\",\"showbackground\":true,\"ticks\":\"\",\"zerolinecolor\":\"white\",\"gridwidth\":2}},\"shapedefaults\":{\"line\":{\"color\":\"#2a3f5f\"}},\"annotationdefaults\":{\"arrowcolor\":\"#2a3f5f\",\"arrowhead\":0,\"arrowwidth\":1},\"geo\":{\"bgcolor\":\"white\",\"landcolor\":\"#E5ECF6\",\"subunitcolor\":\"white\",\"showland\":true,\"showlakes\":true,\"lakecolor\":\"white\"},\"title\":{\"x\":0.05},\"mapbox\":{\"style\":\"light\"}}},\"mapbox\":{\"domain\":{\"x\":[0.0,1.0],\"y\":[0.0,1.0]},\"center\":{\"lat\":-7.058490857142857,\"lon\":107.66362042857143},\"zoom\":8,\"style\":\"carto-positron\"},\"legend\":{\"title\":{\"text\":\"Others\"},\"tracegroupgap\":0},\"margin\":{\"t\":0,\"r\":0,\"l\":0,\"b\":0},\"height\":500,\"width\":700},                        {\"responsive\": true}                    ).then(function(){\n",
       "                            \n",
       "var gd = document.getElementById('ef12ea32-15b7-4ee5-b531-bdf035d74dcb');\n",
       "var x = new MutationObserver(function (mutations, observer) {{\n",
       "        var display = window.getComputedStyle(gd).display;\n",
       "        if (!display || display === 'none') {{\n",
       "            console.log([gd, 'removed!']);\n",
       "            Plotly.purge(gd);\n",
       "            observer.disconnect();\n",
       "        }}\n",
       "}});\n",
       "\n",
       "// Listen for the removal of the full notebook cells\n",
       "var notebookContainer = gd.closest('#notebook-container');\n",
       "if (notebookContainer) {{\n",
       "    x.observe(notebookContainer, {childList: true});\n",
       "}}\n",
       "\n",
       "// Listen for the clearing of the current output cell\n",
       "var outputEl = gd.closest('.output');\n",
       "if (outputEl) {{\n",
       "    x.observe(outputEl, {childList: true});\n",
       "}}\n",
       "\n",
       "                        })                };                });            </script>        </div>"
      ]
     },
     "metadata": {},
     "output_type": "display_data"
    }
   ],
   "source": [
    "#| label: fig-12\n",
    "#| fig-cap: \"Clustering Result Based on Others Method\"\n",
    "\n",
    "fig = px.scatter_mapbox(data_agg, \n",
    "                        lat=\"latitude\", \n",
    "                        lon=\"longitude\", \n",
    "                        color='Others',\n",
    "                        color_discrete_sequence=px.colors.qualitative.G10,\n",
    "                        hover_data={'index': (data_agg.index)},\n",
    "                        zoom=8,\n",
    "                        height=500,\n",
    "                        width=700)\n",
    "\n",
    "fig.update_layout(mapbox_style=\"carto-positron\")\n",
    "fig.update_layout(margin={\"r\":0,\"t\":0,\"l\":0,\"b\":0})\n",
    "fig.update_traces(marker={'size': 15})\n",
    "fig.show()"
   ]
  },
  {
   "cell_type": "markdown",
   "id": "9f619871",
   "metadata": {},
   "source": [
    "Comparing these two results, I personally prefer the second one, where the regions are separated by latitude coordinate. It is intuitive and easy to interpret. However, we might need more data to make a clear conclusion, such as altitude and water distribution network."
   ]
  },
  {
   "cell_type": "markdown",
   "id": "6eb178b9",
   "metadata": {},
   "source": [
    "## Clustering Summary"
   ]
  },
  {
   "cell_type": "markdown",
   "id": "ec43b416",
   "metadata": {},
   "source": [
    "To summarize the preceding results, Ciparay (**CP**) and Majalengka (**MJ**) are always joined first resulting in **CP-MJ** cluster. In all four results, this **CP-MJ** cluster consistently joined last with a cluster containing the rest of the regions.\n",
    "\n",
    "On the other side, Rancaekek (**RC**) and Soreang (**SR**) are always be the second points joined then resulting in **RC-SR** cluster. After that, this **RC-SR** cluster will always be joined with Baleendah (**BL**) resulting in **RC-SR-BL** cluster. In the single linkage result, the **RC-SR-BL** cluster is joined with Pangalengan (**PL**), resulting in **RC-SR-BL-PL** cluster, then joined with Pacet (**PC**), resulting in **RC-SR-BL-PL-PC** cluster. However, in other three results, **PC and PL** are joined first resulting in **PC-PL** cluster, then joined with the **RC-SR-BL** cluster, resulting **RC-SR-BL-PL-PC** cluster."
   ]
  },
  {
   "cell_type": "markdown",
   "id": "91cdfefa",
   "metadata": {},
   "source": [
    "# Recommendation and Conclusion"
   ]
  },
  {
   "cell_type": "markdown",
   "id": "7f40cf9f",
   "metadata": {},
   "source": [
    "## Recommendation"
   ]
  },
  {
   "cell_type": "markdown",
   "id": "79d625d4",
   "metadata": {},
   "source": [
    "As we mentioned before, we will choose to divide regions into three clusters. There are two different clustering results that can be derived:\n",
    "\n",
    "1. **CP-MJ** cluster, **SR-RC-BL-PL** cluster, **PC** cluster (single linkage)\n",
    "2. **CP-MJ** cluster, **SR-RC-BL** cluster, **PC-PL** cluster (other linkages)\n",
    "Based on our previous analysis, **I recommend the second clustering result**. Why? Firstly, because it is resulted from three different linkage methods, while the first clustering is resulted only from the single linkage method. Secondly, it is supported by geographical data: the second clustering has more intuitive and reasonable distinction based on each regions’ location; also it is more interpretable."
   ]
  },
  {
   "cell_type": "markdown",
   "id": "df2838eb",
   "metadata": {},
   "source": [
    "## Conclusion"
   ]
  },
  {
   "cell_type": "markdown",
   "id": "965e7f1c",
   "metadata": {},
   "source": [
    "In conclusion, the clustering analysis performed in this study has successfully achieved the first objective by grouping well water sources in Bandung into clusters with similar water quality profiles. With our results, we have gained valuable insights into the regional trends that define the well water structure in Bandung. These clusters also provide a clearer understanding of the geographical factors that influence water quality, allowing the government agencies and institutions to produce more precise targeting of treatment strategies.\n",
    "\n",
    "Moving forward, this knowledge will also encourage society to promote public health and environmental awareness, especially in the quality of well water for the residents of Bandung."
   ]
  },
  {
   "cell_type": "markdown",
   "id": "c4ab85f1",
   "metadata": {},
   "source": [
    "## Reference"
   ]
  },
  {
   "cell_type": "markdown",
   "id": "81d66497",
   "metadata": {},
   "source": [
    "A.C Rencher. (2002). Methods of Multivariate Analysis 2nd Edition."
   ]
  }
 ],
 "metadata": {
  "kernelspec": {
   "display_name": "Python 3",
   "language": "python",
   "name": "python3"
  },
  "language_info": {
   "codemirror_mode": {
    "name": "ipython",
    "version": 3
   },
   "file_extension": ".py",
   "mimetype": "text/x-python",
   "name": "python",
   "nbconvert_exporter": "python",
   "pygments_lexer": "ipython3",
   "version": "3.8.8"
  },
  "varInspector": {
   "cols": {
    "lenName": 16,
    "lenType": 16,
    "lenVar": 40
   },
   "kernels_config": {
    "python": {
     "delete_cmd_postfix": "",
     "delete_cmd_prefix": "del ",
     "library": "var_list.py",
     "varRefreshCmd": "print(var_dic_list())"
    },
    "r": {
     "delete_cmd_postfix": ") ",
     "delete_cmd_prefix": "rm(",
     "library": "var_list.r",
     "varRefreshCmd": "cat(var_dic_list()) "
    }
   },
   "types_to_exclude": [
    "module",
    "function",
    "builtin_function_or_method",
    "instance",
    "_Feature"
   ],
   "window_display": false
  }
 },
 "nbformat": 4,
 "nbformat_minor": 5
}
